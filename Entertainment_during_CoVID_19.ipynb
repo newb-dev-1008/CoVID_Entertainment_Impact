{
  "nbformat": 4,
  "nbformat_minor": 0,
  "metadata": {
    "colab": {
      "name": "Entertainment during CoVID-19.ipynb",
      "provenance": [],
      "toc_visible": true,
      "authorship_tag": "ABX9TyNa37MwpKofg9E/5KLI9bgV"
    },
    "kernelspec": {
      "name": "python3",
      "display_name": "Python 3"
    }
  },
  "cells": [
    {
      "cell_type": "markdown",
      "metadata": {
        "id": "ACdXlCq5QS5q",
        "colab_type": "text"
      },
      "source": [
        "# **Impact of CoVID-19 and nationwide lockdowns on the Entertainment Industry**\n",
        "\n",
        "## **Objectives/ guidelines:**\n",
        "\n",
        "*   Segregate all data region-wise\n",
        "*   Determining the worst-hit countries and regions\n",
        "*   Observing the spike in subscriptions to OTTs like **Netflix, Amazon Prime Video, Disney+ Hotstar**, etc.\n",
        "*   Drawing insights into daily usage of devices connected to the Internet\n",
        "*   Briefly comprehending the significance of television and social media as a source of entertainment\n",
        "*   Accounting for the rise in online gaming and e-sports, and visualizing the impact on services like **Twitch**, **Steam** and **Discord**.\n",
        "*   Consequently, understanding the increase in data usage.\n",
        "\n",
        "\n",
        "\n",
        "\n"
      ]
    },
    {
      "cell_type": "markdown",
      "metadata": {
        "id": "KJ9SVinvE0Bj",
        "colab_type": "text"
      },
      "source": [
        "## **Data Sources and Bibliography**"
      ]
    },
    {
      "cell_type": "markdown",
      "metadata": {
        "id": "JVyPi43cC7G-",
        "colab_type": "text"
      },
      "source": [
        "# **Part 1:**\n",
        "\n",
        "### **Cleaning data and tracing the spread of CoVID-19 to determine the worst-hit countries**\n",
        "\n",
        "After scraping websites on the Internet and reputed data warehouses, data in the form of **comma seperated values (CSV) files** have been obtained. \n",
        "\n",
        "This data needs to be cleaned and organised, so that powerful functions from **Python's pandas and sklearn libraries** can be used for fruitful data analysis.\n",
        "\n",
        "Data from CSV files will be stored in pandas **DataFrames**; a relational data management structure that stores data in rows and columns for easy, linear access."
      ]
    },
    {
      "cell_type": "code",
      "metadata": {
        "id": "s5zzYpmiQL6M",
        "colab_type": "code",
        "colab": {}
      },
      "source": [
        "import pandas as pd\n",
        "\n",
        "latitudes = pd.read_csv('latitudes.csv')\n",
        "covid_data = pd.read_csv('covid_19_data.csv')"
      ],
      "execution_count": 0,
      "outputs": []
    },
    {
      "cell_type": "code",
      "metadata": {
        "id": "49MKoGTEU_Jf",
        "colab_type": "code",
        "outputId": "77730869-f30a-4f5f-94af-443e61d83051",
        "colab": {
          "base_uri": "https://localhost:8080/",
          "height": 195
        }
      },
      "source": [
        "latitudes_countries = latitudes.iloc[:, :4]\n",
        "latitudes_countries.head()"
      ],
      "execution_count": 2,
      "outputs": [
        {
          "output_type": "execute_result",
          "data": {
            "text/html": [
              "<div>\n",
              "<style scoped>\n",
              "    .dataframe tbody tr th:only-of-type {\n",
              "        vertical-align: middle;\n",
              "    }\n",
              "\n",
              "    .dataframe tbody tr th {\n",
              "        vertical-align: top;\n",
              "    }\n",
              "\n",
              "    .dataframe thead th {\n",
              "        text-align: right;\n",
              "    }\n",
              "</style>\n",
              "<table border=\"1\" class=\"dataframe\">\n",
              "  <thead>\n",
              "    <tr style=\"text-align: right;\">\n",
              "      <th></th>\n",
              "      <th>country_code</th>\n",
              "      <th>latitude</th>\n",
              "      <th>longitude</th>\n",
              "      <th>country</th>\n",
              "    </tr>\n",
              "  </thead>\n",
              "  <tbody>\n",
              "    <tr>\n",
              "      <th>0</th>\n",
              "      <td>AD</td>\n",
              "      <td>42.546245</td>\n",
              "      <td>1.601554</td>\n",
              "      <td>Andorra</td>\n",
              "    </tr>\n",
              "    <tr>\n",
              "      <th>1</th>\n",
              "      <td>AE</td>\n",
              "      <td>23.424076</td>\n",
              "      <td>53.847818</td>\n",
              "      <td>United Arab Emirates</td>\n",
              "    </tr>\n",
              "    <tr>\n",
              "      <th>2</th>\n",
              "      <td>AF</td>\n",
              "      <td>33.939110</td>\n",
              "      <td>67.709953</td>\n",
              "      <td>Afghanistan</td>\n",
              "    </tr>\n",
              "    <tr>\n",
              "      <th>3</th>\n",
              "      <td>AG</td>\n",
              "      <td>17.060816</td>\n",
              "      <td>-61.796428</td>\n",
              "      <td>Antigua and Barbuda</td>\n",
              "    </tr>\n",
              "    <tr>\n",
              "      <th>4</th>\n",
              "      <td>AI</td>\n",
              "      <td>18.220554</td>\n",
              "      <td>-63.068615</td>\n",
              "      <td>Anguilla</td>\n",
              "    </tr>\n",
              "  </tbody>\n",
              "</table>\n",
              "</div>"
            ],
            "text/plain": [
              "  country_code   latitude  longitude               country\n",
              "0           AD  42.546245   1.601554               Andorra\n",
              "1           AE  23.424076  53.847818  United Arab Emirates\n",
              "2           AF  33.939110  67.709953           Afghanistan\n",
              "3           AG  17.060816 -61.796428   Antigua and Barbuda\n",
              "4           AI  18.220554 -63.068615              Anguilla"
            ]
          },
          "metadata": {
            "tags": []
          },
          "execution_count": 2
        }
      ]
    },
    {
      "cell_type": "code",
      "metadata": {
        "id": "F-8qgZ4pVFjD",
        "colab_type": "code",
        "outputId": "21f371f3-25d7-4f94-deeb-05b6b8a7c58c",
        "colab": {
          "base_uri": "https://localhost:8080/",
          "height": 195
        }
      },
      "source": [
        "covid_data.head()"
      ],
      "execution_count": 3,
      "outputs": [
        {
          "output_type": "execute_result",
          "data": {
            "text/html": [
              "<div>\n",
              "<style scoped>\n",
              "    .dataframe tbody tr th:only-of-type {\n",
              "        vertical-align: middle;\n",
              "    }\n",
              "\n",
              "    .dataframe tbody tr th {\n",
              "        vertical-align: top;\n",
              "    }\n",
              "\n",
              "    .dataframe thead th {\n",
              "        text-align: right;\n",
              "    }\n",
              "</style>\n",
              "<table border=\"1\" class=\"dataframe\">\n",
              "  <thead>\n",
              "    <tr style=\"text-align: right;\">\n",
              "      <th></th>\n",
              "      <th>Date</th>\n",
              "      <th>Country/Region</th>\n",
              "      <th>Province/State</th>\n",
              "      <th>Lat</th>\n",
              "      <th>Long</th>\n",
              "      <th>Confirmed</th>\n",
              "      <th>Recovered</th>\n",
              "      <th>Deaths</th>\n",
              "    </tr>\n",
              "  </thead>\n",
              "  <tbody>\n",
              "    <tr>\n",
              "      <th>0</th>\n",
              "      <td>2020-01-22</td>\n",
              "      <td>Afghanistan</td>\n",
              "      <td>NaN</td>\n",
              "      <td>33.0</td>\n",
              "      <td>65.0</td>\n",
              "      <td>0.0</td>\n",
              "      <td>0.0</td>\n",
              "      <td>0.0</td>\n",
              "    </tr>\n",
              "    <tr>\n",
              "      <th>1</th>\n",
              "      <td>2020-01-23</td>\n",
              "      <td>Afghanistan</td>\n",
              "      <td>NaN</td>\n",
              "      <td>33.0</td>\n",
              "      <td>65.0</td>\n",
              "      <td>0.0</td>\n",
              "      <td>0.0</td>\n",
              "      <td>0.0</td>\n",
              "    </tr>\n",
              "    <tr>\n",
              "      <th>2</th>\n",
              "      <td>2020-01-24</td>\n",
              "      <td>Afghanistan</td>\n",
              "      <td>NaN</td>\n",
              "      <td>33.0</td>\n",
              "      <td>65.0</td>\n",
              "      <td>0.0</td>\n",
              "      <td>0.0</td>\n",
              "      <td>0.0</td>\n",
              "    </tr>\n",
              "    <tr>\n",
              "      <th>3</th>\n",
              "      <td>2020-01-25</td>\n",
              "      <td>Afghanistan</td>\n",
              "      <td>NaN</td>\n",
              "      <td>33.0</td>\n",
              "      <td>65.0</td>\n",
              "      <td>0.0</td>\n",
              "      <td>0.0</td>\n",
              "      <td>0.0</td>\n",
              "    </tr>\n",
              "    <tr>\n",
              "      <th>4</th>\n",
              "      <td>2020-01-26</td>\n",
              "      <td>Afghanistan</td>\n",
              "      <td>NaN</td>\n",
              "      <td>33.0</td>\n",
              "      <td>65.0</td>\n",
              "      <td>0.0</td>\n",
              "      <td>0.0</td>\n",
              "      <td>0.0</td>\n",
              "    </tr>\n",
              "  </tbody>\n",
              "</table>\n",
              "</div>"
            ],
            "text/plain": [
              "         Date Country/Region Province/State  ...  Confirmed  Recovered  Deaths\n",
              "0  2020-01-22    Afghanistan            NaN  ...        0.0        0.0     0.0\n",
              "1  2020-01-23    Afghanistan            NaN  ...        0.0        0.0     0.0\n",
              "2  2020-01-24    Afghanistan            NaN  ...        0.0        0.0     0.0\n",
              "3  2020-01-25    Afghanistan            NaN  ...        0.0        0.0     0.0\n",
              "4  2020-01-26    Afghanistan            NaN  ...        0.0        0.0     0.0\n",
              "\n",
              "[5 rows x 8 columns]"
            ]
          },
          "metadata": {
            "tags": []
          },
          "execution_count": 3
        }
      ]
    },
    {
      "cell_type": "markdown",
      "metadata": {
        "id": "m8DWgDYSu5tl",
        "colab_type": "text"
      },
      "source": [
        "### **Finding all countries listed in the Country/ Region column of CoVID Dataset:**"
      ]
    },
    {
      "cell_type": "code",
      "metadata": {
        "id": "uzlr13R3u_xx",
        "colab_type": "code",
        "outputId": "383281a3-494f-4790-e1f8-9be67678b47c",
        "colab": {
          "base_uri": "https://localhost:8080/",
          "height": 34
        }
      },
      "source": [
        "covid_data['Country/Region'].unique()   #Returns all unique labels contained in the column\n",
        "covid_data['Country/Region'].nunique()   #Returns number of unique labels contained in the column"
      ],
      "execution_count": 4,
      "outputs": [
        {
          "output_type": "execute_result",
          "data": {
            "text/plain": [
              "185"
            ]
          },
          "metadata": {
            "tags": []
          },
          "execution_count": 4
        }
      ]
    },
    {
      "cell_type": "markdown",
      "metadata": {
        "id": "GBbPbGzbvDds",
        "colab_type": "text"
      },
      "source": [
        "### **Similarly, finding all countries listed under the 'Country' column of the latitudes dataset**"
      ]
    },
    {
      "cell_type": "code",
      "metadata": {
        "id": "rv1nI3gWvHmo",
        "colab_type": "code",
        "outputId": "90433782-9fe7-4e37-ef24-f68de44315ba",
        "colab": {
          "base_uri": "https://localhost:8080/",
          "height": 34
        }
      },
      "source": [
        "latitudes_countries['country'].unique()\n",
        "latitudes_countries['country'].nunique()"
      ],
      "execution_count": 5,
      "outputs": [
        {
          "output_type": "execute_result",
          "data": {
            "text/plain": [
              "245"
            ]
          },
          "metadata": {
            "tags": []
          },
          "execution_count": 5
        }
      ]
    },
    {
      "cell_type": "markdown",
      "metadata": {
        "id": "Mb06xhSUvMI3",
        "colab_type": "text"
      },
      "source": [
        "### **We Observe:**\n",
        "- China is called \"Mainland China\" in the CoVID-19 Dataset\n",
        "- The number of countries in the latitude dataset is more; the countries present in both datasets need to be replaced with their corresponding latitudes\n",
        "\n",
        "Hence, we need to:\n",
        "- Check for extra countries in either dataset\n",
        "- Merge those countries with bigger countries manually (ex: if one dataset calls it US while the other calls it United States, both need to be merged into one label and so on)\n",
        "- Discard redundant countries/ countries with zero cases"
      ]
    },
    {
      "cell_type": "code",
      "metadata": {
        "id": "Ok1pRV67vWTI",
        "colab_type": "code",
        "outputId": "8281a152-54cd-4434-a312-0ff33029006b",
        "colab": {
          "base_uri": "https://localhost:8080/",
          "height": 958
        }
      },
      "source": [
        "latitudes_countries['country'].unique()"
      ],
      "execution_count": 6,
      "outputs": [
        {
          "output_type": "execute_result",
          "data": {
            "text/plain": [
              "array(['Andorra', 'United Arab Emirates', 'Afghanistan',\n",
              "       'Antigua and Barbuda', 'Anguilla', 'Albania', 'Armenia',\n",
              "       'Netherlands Antilles', 'Angola', 'Antarctica', 'Argentina',\n",
              "       'American Samoa', 'Austria', 'Australia', 'Aruba', 'Azerbaijan',\n",
              "       'Bosnia and Herzegovina', 'Barbados', 'Bangladesh', 'Belgium',\n",
              "       'Burkina Faso', 'Bulgaria', 'Bahrain', 'Burundi', 'Benin',\n",
              "       'Bermuda', 'Brunei', 'Bolivia', 'Brazil', 'Bahamas', 'Bhutan',\n",
              "       'Bouvet Island', 'Botswana', 'Belarus', 'Belize', 'Canada',\n",
              "       'Cocos [Keeling] Islands', 'Congo [DRC]',\n",
              "       'Central African Republic', 'Congo [Republic]', 'Switzerland',\n",
              "       \"Côte d'Ivoire\", 'Cook Islands', 'Chile', 'Cameroon', 'China',\n",
              "       'Colombia', 'Costa Rica', 'Cuba', 'Cape Verde', 'Christmas Island',\n",
              "       'Cyprus', 'Czech Republic', 'Germany', 'Djibouti', 'Denmark',\n",
              "       'Dominica', 'Dominican Republic', 'Algeria', 'Ecuador', 'Estonia',\n",
              "       'Egypt', 'Western Sahara', 'Eritrea', 'Spain', 'Ethiopia',\n",
              "       'Finland', 'Fiji', 'Falkland Islands [Islas Malvinas]',\n",
              "       'Micronesia', 'Faroe Islands', 'France', 'Gabon', 'United Kingdom',\n",
              "       'Grenada', 'Georgia', 'French Guiana', 'Guernsey', 'Ghana',\n",
              "       'Gibraltar', 'Greenland', 'Gambia', 'Guinea', 'Guadeloupe',\n",
              "       'Equatorial Guinea', 'Greece',\n",
              "       'South Georgia and the South Sandwich Islands', 'Guatemala',\n",
              "       'Guam', 'Guinea-Bissau', 'Guyana', 'Gaza Strip', 'Hong Kong',\n",
              "       'Heard Island and McDonald Islands', 'Honduras', 'Croatia',\n",
              "       'Haiti', 'Hungary', 'Indonesia', 'Ireland', 'Israel',\n",
              "       'Isle of Man', 'India', 'British Indian Ocean Territory', 'Iraq',\n",
              "       'Iran', 'Iceland', 'Italy', 'Jersey', 'Jamaica', 'Jordan', 'Japan',\n",
              "       'Kenya', 'Kyrgyzstan', 'Cambodia', 'Kiribati', 'Comoros',\n",
              "       'Saint Kitts and Nevis', 'North Korea', 'South Korea', 'Kuwait',\n",
              "       'Cayman Islands', 'Kazakhstan', 'Laos', 'Lebanon', 'Saint Lucia',\n",
              "       'Liechtenstein', 'Sri Lanka', 'Liberia', 'Lesotho', 'Lithuania',\n",
              "       'Luxembourg', 'Latvia', 'Libya', 'Morocco', 'Monaco', 'Moldova',\n",
              "       'Montenegro', 'Madagascar', 'Marshall Islands',\n",
              "       'Macedonia [FYROM]', 'Mali', 'Myanmar [Burma]', 'Mongolia',\n",
              "       'Macau', 'Northern Mariana Islands', 'Martinique', 'Mauritania',\n",
              "       'Montserrat', 'Malta', 'Mauritius', 'Maldives', 'Malawi', 'Mexico',\n",
              "       'Malaysia', 'Mozambique', 'Namibia', 'New Caledonia', 'Niger',\n",
              "       'Norfolk Island', 'Nigeria', 'Nicaragua', 'Netherlands', 'Norway',\n",
              "       'Nepal', 'Nauru', 'Niue', 'New Zealand', 'Oman', 'Panama', 'Peru',\n",
              "       'French Polynesia', 'Papua New Guinea', 'Philippines', 'Pakistan',\n",
              "       'Poland', 'Saint Pierre and Miquelon', 'Pitcairn Islands',\n",
              "       'Puerto Rico', 'Palestinian Territories', 'Portugal', 'Palau',\n",
              "       'Paraguay', 'Qatar', 'Réunion', 'Romania', 'Serbia', 'Russia',\n",
              "       'Rwanda', 'Saudi Arabia', 'Solomon Islands', 'Seychelles', 'Sudan',\n",
              "       'Sweden', 'Singapore', 'Saint Helena', 'Slovenia',\n",
              "       'Svalbard and Jan Mayen', 'Slovakia', 'Sierra Leone', 'San Marino',\n",
              "       'Senegal', 'Somalia', 'Suriname', 'São Tomé and Príncipe',\n",
              "       'El Salvador', 'Syria', 'Swaziland', 'Turks and Caicos Islands',\n",
              "       'Chad', 'French Southern Territories', 'Togo', 'Thailand',\n",
              "       'Tajikistan', 'Tokelau', 'Timor-Leste', 'Turkmenistan', 'Tunisia',\n",
              "       'Tonga', 'Turkey', 'Trinidad and Tobago', 'Tuvalu', 'Taiwan',\n",
              "       'Tanzania', 'Ukraine', 'Uganda', 'U.S. Minor Outlying Islands',\n",
              "       'United States', 'Uruguay', 'Uzbekistan', 'Vatican City',\n",
              "       'Saint Vincent and the Grenadines', 'Venezuela',\n",
              "       'British Virgin Islands', 'U.S. Virgin Islands', 'Vietnam',\n",
              "       'Vanuatu', 'Wallis and Futuna', 'Samoa', 'Kosovo', 'Yemen',\n",
              "       'Mayotte', 'South Africa', 'Zambia', 'Zimbabwe'], dtype=object)"
            ]
          },
          "metadata": {
            "tags": []
          },
          "execution_count": 6
        }
      ]
    },
    {
      "cell_type": "code",
      "metadata": {
        "id": "gy5BlJgFxyHg",
        "colab_type": "code",
        "outputId": "565278be-220f-42c5-d500-9e29e049524a",
        "colab": {
          "base_uri": "https://localhost:8080/",
          "height": 655
        }
      },
      "source": [
        "covid_data['Country/Region'].unique()"
      ],
      "execution_count": 7,
      "outputs": [
        {
          "output_type": "execute_result",
          "data": {
            "text/plain": [
              "array(['Afghanistan', 'Albania', 'Algeria', 'Andorra', 'Angola',\n",
              "       'Antigua and Barbuda', 'Argentina', 'Armenia', 'Australia',\n",
              "       'Austria', 'Azerbaijan', 'Bahamas', 'Bahrain', 'Bangladesh',\n",
              "       'Barbados', 'Belarus', 'Belgium', 'Belize', 'Benin', 'Bhutan',\n",
              "       'Bolivia', 'Bosnia and Herzegovina', 'Botswana', 'Brazil',\n",
              "       'Brunei', 'Bulgaria', 'Burkina Faso', 'Burma', 'Burundi',\n",
              "       'Cabo Verde', 'Cambodia', 'Cameroon', 'Canada',\n",
              "       'Central African Republic', 'Chad', 'Chile', 'China', 'Colombia',\n",
              "       'Congo (Brazzaville)', 'Congo (Kinshasa)', 'Costa Rica',\n",
              "       \"Cote d'Ivoire\", 'Croatia', 'Cuba', 'Cyprus', 'Czechia', 'Denmark',\n",
              "       'Diamond Princess', 'Djibouti', 'Dominica', 'Dominican Republic',\n",
              "       'Ecuador', 'Egypt', 'El Salvador', 'Equatorial Guinea', 'Eritrea',\n",
              "       'Estonia', 'Eswatini', 'Ethiopia', 'Fiji', 'Finland', 'France',\n",
              "       'Gabon', 'Gambia', 'Georgia', 'Germany', 'Ghana', 'Greece',\n",
              "       'Grenada', 'Guatemala', 'Guinea-Bissau', 'Guinea', 'Guyana',\n",
              "       'Haiti', 'Holy See', 'Honduras', 'Hungary', 'Iceland', 'India',\n",
              "       'Indonesia', 'Iran', 'Iraq', 'Ireland', 'Israel', 'Italy',\n",
              "       'Jamaica', 'Japan', 'Jordan', 'Kazakhstan', 'Kenya',\n",
              "       'Korea, South', 'Kosovo', 'Kuwait', 'Kyrgyzstan', 'Laos', 'Latvia',\n",
              "       'Lebanon', 'Liberia', 'Libya', 'Liechtenstein', 'Lithuania',\n",
              "       'Luxembourg', 'MS Zaandam', 'Madagascar', 'Malawi', 'Malaysia',\n",
              "       'Maldives', 'Mali', 'Malta', 'Mauritania', 'Mauritius', 'Mexico',\n",
              "       'Moldova', 'Monaco', 'Mongolia', 'Montenegro', 'Morocco',\n",
              "       'Mozambique', 'Namibia', 'Nepal', 'Netherlands', 'New Zealand',\n",
              "       'Nicaragua', 'Niger', 'Nigeria', 'North Macedonia', 'Norway',\n",
              "       'Oman', 'Pakistan', 'Panama', 'Papua New Guinea', 'Paraguay',\n",
              "       'Peru', 'Philippines', 'Poland', 'Portugal', 'Qatar', 'Romania',\n",
              "       'Russia', 'Rwanda', 'Saint Kitts and Nevis', 'Saint Lucia',\n",
              "       'Saint Vincent and the Grenadines', 'San Marino',\n",
              "       'Sao Tome and Principe', 'Saudi Arabia', 'Senegal', 'Serbia',\n",
              "       'Seychelles', 'Sierra Leone', 'Singapore', 'Slovakia', 'Slovenia',\n",
              "       'Somalia', 'South Africa', 'South Sudan', 'Spain', 'Sri Lanka',\n",
              "       'Sudan', 'Suriname', 'Sweden', 'Switzerland', 'Syria', 'Taiwan*',\n",
              "       'Tanzania', 'Thailand', 'Timor-Leste', 'Togo',\n",
              "       'Trinidad and Tobago', 'Tunisia', 'Turkey', 'US', 'Uganda',\n",
              "       'Ukraine', 'United Arab Emirates', 'United Kingdom', 'Uruguay',\n",
              "       'Uzbekistan', 'Venezuela', 'Vietnam', 'West Bank and Gaza',\n",
              "       'Western Sahara', 'Yemen', 'Zambia', 'Zimbabwe'], dtype=object)"
            ]
          },
          "metadata": {
            "tags": []
          },
          "execution_count": 7
        }
      ]
    },
    {
      "cell_type": "code",
      "metadata": {
        "id": "IY-PcHLHzIcj",
        "colab_type": "code",
        "colab": {}
      },
      "source": [
        "#Define a function to seperate extra countries in both datasets\n",
        "import numpy as np\n",
        "\n",
        "def extra_countries(c1, c2):\n",
        "  extra_countries = []\n",
        "  for i in c1:\n",
        "    flag = 0\n",
        "    for j in c2:\n",
        "      if (i == j):\n",
        "        flag = 1\n",
        "    if (flag == 0):\n",
        "      extra_countries.append(i)\n",
        "  \n",
        "  return np.array(extra_countries)"
      ],
      "execution_count": 0,
      "outputs": []
    },
    {
      "cell_type": "code",
      "metadata": {
        "id": "fzFl725_05Sn",
        "colab_type": "code",
        "outputId": "7e50ec8d-c23f-415a-9ec1-90c5a7f343fe",
        "colab": {
          "base_uri": "https://localhost:8080/",
          "height": 403
        }
      },
      "source": [
        "#Finding countries that are in latitudes.csv but not in covid_19_data.csv\n",
        "\n",
        "extra_countries(latitudes_countries['country'].unique(), covid_data['Country/Region'].unique())"
      ],
      "execution_count": 9,
      "outputs": [
        {
          "output_type": "execute_result",
          "data": {
            "text/plain": [
              "array(['Anguilla', 'Netherlands Antilles', 'Antarctica', 'American Samoa',\n",
              "       'Aruba', 'Bermuda', 'Bouvet Island', 'Cocos [Keeling] Islands',\n",
              "       'Congo [DRC]', 'Congo [Republic]', \"Côte d'Ivoire\", 'Cook Islands',\n",
              "       'Cape Verde', 'Christmas Island', 'Czech Republic',\n",
              "       'Falkland Islands [Islas Malvinas]', 'Micronesia', 'Faroe Islands',\n",
              "       'French Guiana', 'Guernsey', 'Gibraltar', 'Greenland',\n",
              "       'Guadeloupe', 'South Georgia and the South Sandwich Islands',\n",
              "       'Guam', 'Gaza Strip', 'Hong Kong',\n",
              "       'Heard Island and McDonald Islands', 'Isle of Man',\n",
              "       'British Indian Ocean Territory', 'Jersey', 'Kiribati', 'Comoros',\n",
              "       'North Korea', 'South Korea', 'Cayman Islands', 'Lesotho',\n",
              "       'Marshall Islands', 'Macedonia [FYROM]', 'Myanmar [Burma]',\n",
              "       'Macau', 'Northern Mariana Islands', 'Martinique', 'Montserrat',\n",
              "       'New Caledonia', 'Norfolk Island', 'Nauru', 'Niue',\n",
              "       'French Polynesia', 'Saint Pierre and Miquelon',\n",
              "       'Pitcairn Islands', 'Puerto Rico', 'Palestinian Territories',\n",
              "       'Palau', 'Réunion', 'Solomon Islands', 'Saint Helena',\n",
              "       'Svalbard and Jan Mayen', 'São Tomé and Príncipe', 'Swaziland',\n",
              "       'Turks and Caicos Islands', 'French Southern Territories',\n",
              "       'Tajikistan', 'Tokelau', 'Turkmenistan', 'Tonga', 'Tuvalu',\n",
              "       'Taiwan', 'U.S. Minor Outlying Islands', 'United States',\n",
              "       'Vatican City', 'British Virgin Islands', 'U.S. Virgin Islands',\n",
              "       'Vanuatu', 'Wallis and Futuna', 'Samoa', 'Mayotte'], dtype='<U44')"
            ]
          },
          "metadata": {
            "tags": []
          },
          "execution_count": 9
        }
      ]
    },
    {
      "cell_type": "code",
      "metadata": {
        "id": "_s3AknDS3tlV",
        "colab_type": "code",
        "outputId": "a76bc1af-0265-4bcd-9b62-3387e077d9f8",
        "colab": {
          "base_uri": "https://localhost:8080/",
          "height": 101
        }
      },
      "source": [
        "#Finding countries that are in covid_19_data.csv but not in latitudes.csv\n",
        "\n",
        "extra_countries(covid_data['Country/Region'].unique(),latitudes_countries['country'].unique())"
      ],
      "execution_count": 10,
      "outputs": [
        {
          "output_type": "execute_result",
          "data": {
            "text/plain": [
              "array(['Burma', 'Cabo Verde', 'Congo (Brazzaville)', 'Congo (Kinshasa)',\n",
              "       \"Cote d'Ivoire\", 'Czechia', 'Diamond Princess', 'Eswatini',\n",
              "       'Holy See', 'Korea, South', 'MS Zaandam', 'North Macedonia',\n",
              "       'Sao Tome and Principe', 'South Sudan', 'Taiwan*', 'US',\n",
              "       'West Bank and Gaza'], dtype='<U21')"
            ]
          },
          "metadata": {
            "tags": []
          },
          "execution_count": 10
        }
      ]
    },
    {
      "cell_type": "markdown",
      "metadata": {
        "id": "gmHrHLW06kjr",
        "colab_type": "text"
      },
      "source": [
        "### **Replace country names in CoVID-19 dataset with matching names from Latitudes dataset**"
      ]
    },
    {
      "cell_type": "code",
      "metadata": {
        "id": "vW3K-xyV6xIx",
        "colab_type": "code",
        "colab": {}
      },
      "source": [
        "corrected_covid_data = covid_data.replace(['Burma','Congo (Brazzaville)', 'Congo (Kinshasa)',\n",
        "       \"Cote d'Ivoire\", 'Czechia', 'Diamond Princess',\n",
        "       'Korea, South', 'North Macedonia',\n",
        "       'South Sudan', 'Taiwan*', 'US',\n",
        "       'West Bank and Gaza'], ['Myanmar [Burma]', 'Congo [DRC]', 'Congo [DRC]', \"Côte d'Ivoire\", 'Czech Republic',\n",
        "                               'Japan', 'South Korea',\n",
        "                               'Macedonia [FYROM]', 'Sudan', 'Taiwan', 'United States', 'Gaza Strip'])\n",
        "countries_to_drop = ['Holy See','Eswatini', 'Cabo Verde','MS Zaandam',\n",
        "                     'Sao Tome and Principe']"
      ],
      "execution_count": 0,
      "outputs": []
    },
    {
      "cell_type": "code",
      "metadata": {
        "id": "7NeqGsPf6yzs",
        "colab_type": "code",
        "outputId": "5bbbd293-2141-4936-e0eb-f43bd230f979",
        "colab": {
          "base_uri": "https://localhost:8080/",
          "height": 0
        }
      },
      "source": [
        "corrected_covid_data.head()"
      ],
      "execution_count": 12,
      "outputs": [
        {
          "output_type": "execute_result",
          "data": {
            "text/html": [
              "<div>\n",
              "<style scoped>\n",
              "    .dataframe tbody tr th:only-of-type {\n",
              "        vertical-align: middle;\n",
              "    }\n",
              "\n",
              "    .dataframe tbody tr th {\n",
              "        vertical-align: top;\n",
              "    }\n",
              "\n",
              "    .dataframe thead th {\n",
              "        text-align: right;\n",
              "    }\n",
              "</style>\n",
              "<table border=\"1\" class=\"dataframe\">\n",
              "  <thead>\n",
              "    <tr style=\"text-align: right;\">\n",
              "      <th></th>\n",
              "      <th>Date</th>\n",
              "      <th>Country/Region</th>\n",
              "      <th>Province/State</th>\n",
              "      <th>Lat</th>\n",
              "      <th>Long</th>\n",
              "      <th>Confirmed</th>\n",
              "      <th>Recovered</th>\n",
              "      <th>Deaths</th>\n",
              "    </tr>\n",
              "  </thead>\n",
              "  <tbody>\n",
              "    <tr>\n",
              "      <th>0</th>\n",
              "      <td>2020-01-22</td>\n",
              "      <td>Afghanistan</td>\n",
              "      <td>NaN</td>\n",
              "      <td>33.0</td>\n",
              "      <td>65.0</td>\n",
              "      <td>0.0</td>\n",
              "      <td>0.0</td>\n",
              "      <td>0.0</td>\n",
              "    </tr>\n",
              "    <tr>\n",
              "      <th>1</th>\n",
              "      <td>2020-01-23</td>\n",
              "      <td>Afghanistan</td>\n",
              "      <td>NaN</td>\n",
              "      <td>33.0</td>\n",
              "      <td>65.0</td>\n",
              "      <td>0.0</td>\n",
              "      <td>0.0</td>\n",
              "      <td>0.0</td>\n",
              "    </tr>\n",
              "    <tr>\n",
              "      <th>2</th>\n",
              "      <td>2020-01-24</td>\n",
              "      <td>Afghanistan</td>\n",
              "      <td>NaN</td>\n",
              "      <td>33.0</td>\n",
              "      <td>65.0</td>\n",
              "      <td>0.0</td>\n",
              "      <td>0.0</td>\n",
              "      <td>0.0</td>\n",
              "    </tr>\n",
              "    <tr>\n",
              "      <th>3</th>\n",
              "      <td>2020-01-25</td>\n",
              "      <td>Afghanistan</td>\n",
              "      <td>NaN</td>\n",
              "      <td>33.0</td>\n",
              "      <td>65.0</td>\n",
              "      <td>0.0</td>\n",
              "      <td>0.0</td>\n",
              "      <td>0.0</td>\n",
              "    </tr>\n",
              "    <tr>\n",
              "      <th>4</th>\n",
              "      <td>2020-01-26</td>\n",
              "      <td>Afghanistan</td>\n",
              "      <td>NaN</td>\n",
              "      <td>33.0</td>\n",
              "      <td>65.0</td>\n",
              "      <td>0.0</td>\n",
              "      <td>0.0</td>\n",
              "      <td>0.0</td>\n",
              "    </tr>\n",
              "  </tbody>\n",
              "</table>\n",
              "</div>"
            ],
            "text/plain": [
              "         Date Country/Region Province/State  ...  Confirmed  Recovered  Deaths\n",
              "0  2020-01-22    Afghanistan            NaN  ...        0.0        0.0     0.0\n",
              "1  2020-01-23    Afghanistan            NaN  ...        0.0        0.0     0.0\n",
              "2  2020-01-24    Afghanistan            NaN  ...        0.0        0.0     0.0\n",
              "3  2020-01-25    Afghanistan            NaN  ...        0.0        0.0     0.0\n",
              "4  2020-01-26    Afghanistan            NaN  ...        0.0        0.0     0.0\n",
              "\n",
              "[5 rows x 8 columns]"
            ]
          },
          "metadata": {
            "tags": []
          },
          "execution_count": 12
        }
      ]
    },
    {
      "cell_type": "code",
      "metadata": {
        "id": "wxXkES1F52DC",
        "colab_type": "code",
        "outputId": "a5cd1122-79b8-4dcb-dbb6-c6b11c36f65e",
        "colab": {
          "base_uri": "https://localhost:8080/",
          "height": 0
        }
      },
      "source": [
        "# Finding countries in corrected_covid_data but not in latitudes\n",
        "\n",
        "extras = extra_countries(corrected_covid_data['Country/Region'].unique(), latitudes_countries['country'].unique())\n",
        "print(extras)"
      ],
      "execution_count": 13,
      "outputs": [
        {
          "output_type": "stream",
          "text": [
            "['Cabo Verde' 'Eswatini' 'Holy See' 'MS Zaandam' 'Sao Tome and Principe']\n"
          ],
          "name": "stdout"
        }
      ]
    },
    {
      "cell_type": "code",
      "metadata": {
        "id": "GZbfhkqxzxls",
        "colab_type": "code",
        "colab": {}
      },
      "source": [
        "# Removing the countries whose latitude data is unavailable\n",
        "\n",
        "for i in extras:\n",
        "  corrected_covid_data = corrected_covid_data[corrected_covid_data['Country/Region'] != i]"
      ],
      "execution_count": 0,
      "outputs": []
    },
    {
      "cell_type": "markdown",
      "metadata": {
        "id": "Q80wiroNSJSA",
        "colab_type": "text"
      },
      "source": [
        "### **Enter code to replace the Country/ Region column with the latitude and longitude columns**\n",
        "\n",
        "Also, drop unnecessary columns"
      ]
    },
    {
      "cell_type": "code",
      "metadata": {
        "id": "YJEakUx_DsC6",
        "colab_type": "code",
        "outputId": "b8e9ee23-d4bc-4275-faf9-6ce891a64063",
        "colab": {
          "base_uri": "https://localhost:8080/",
          "height": 195
        }
      },
      "source": [
        "latitudes_countries.head()"
      ],
      "execution_count": 15,
      "outputs": [
        {
          "output_type": "execute_result",
          "data": {
            "text/html": [
              "<div>\n",
              "<style scoped>\n",
              "    .dataframe tbody tr th:only-of-type {\n",
              "        vertical-align: middle;\n",
              "    }\n",
              "\n",
              "    .dataframe tbody tr th {\n",
              "        vertical-align: top;\n",
              "    }\n",
              "\n",
              "    .dataframe thead th {\n",
              "        text-align: right;\n",
              "    }\n",
              "</style>\n",
              "<table border=\"1\" class=\"dataframe\">\n",
              "  <thead>\n",
              "    <tr style=\"text-align: right;\">\n",
              "      <th></th>\n",
              "      <th>country_code</th>\n",
              "      <th>latitude</th>\n",
              "      <th>longitude</th>\n",
              "      <th>country</th>\n",
              "    </tr>\n",
              "  </thead>\n",
              "  <tbody>\n",
              "    <tr>\n",
              "      <th>0</th>\n",
              "      <td>AD</td>\n",
              "      <td>42.546245</td>\n",
              "      <td>1.601554</td>\n",
              "      <td>Andorra</td>\n",
              "    </tr>\n",
              "    <tr>\n",
              "      <th>1</th>\n",
              "      <td>AE</td>\n",
              "      <td>23.424076</td>\n",
              "      <td>53.847818</td>\n",
              "      <td>United Arab Emirates</td>\n",
              "    </tr>\n",
              "    <tr>\n",
              "      <th>2</th>\n",
              "      <td>AF</td>\n",
              "      <td>33.939110</td>\n",
              "      <td>67.709953</td>\n",
              "      <td>Afghanistan</td>\n",
              "    </tr>\n",
              "    <tr>\n",
              "      <th>3</th>\n",
              "      <td>AG</td>\n",
              "      <td>17.060816</td>\n",
              "      <td>-61.796428</td>\n",
              "      <td>Antigua and Barbuda</td>\n",
              "    </tr>\n",
              "    <tr>\n",
              "      <th>4</th>\n",
              "      <td>AI</td>\n",
              "      <td>18.220554</td>\n",
              "      <td>-63.068615</td>\n",
              "      <td>Anguilla</td>\n",
              "    </tr>\n",
              "  </tbody>\n",
              "</table>\n",
              "</div>"
            ],
            "text/plain": [
              "  country_code   latitude  longitude               country\n",
              "0           AD  42.546245   1.601554               Andorra\n",
              "1           AE  23.424076  53.847818  United Arab Emirates\n",
              "2           AF  33.939110  67.709953           Afghanistan\n",
              "3           AG  17.060816 -61.796428   Antigua and Barbuda\n",
              "4           AI  18.220554 -63.068615              Anguilla"
            ]
          },
          "metadata": {
            "tags": []
          },
          "execution_count": 15
        }
      ]
    },
    {
      "cell_type": "code",
      "metadata": {
        "id": "tgE3_gCQF0TF",
        "colab_type": "code",
        "colab": {}
      },
      "source": [
        "req_lat_long = latitudes_countries.loc[:,['country','latitude', 'longitude']]\n",
        "req_lat_long = req_lat_long.set_index('country')"
      ],
      "execution_count": 0,
      "outputs": []
    },
    {
      "cell_type": "code",
      "metadata": {
        "id": "vMqkgPloFKlF",
        "colab_type": "code",
        "colab": {}
      },
      "source": [
        "latitude_cols = []\n",
        "longitude_cols = []\n",
        "\n",
        "for i in corrected_covid_data['Country/Region']:\n",
        "  latitude = req_lat_long.loc[i, 'latitude']\n",
        "  longitude = req_lat_long.loc[i, 'longitude']\n",
        "  latitude_cols.append(latitude)\n",
        "  longitude_cols.append(longitude)\n",
        "\n",
        "latitude_cols = np.array(latitude_cols)\n",
        "longitude_cols = np.array(longitude_cols)"
      ],
      "execution_count": 0,
      "outputs": []
    },
    {
      "cell_type": "code",
      "metadata": {
        "id": "dX9kDkGMyO9Q",
        "colab_type": "code",
        "colab": {}
      },
      "source": [
        "corrected_covid_data['Latitude'] = latitude_cols\n",
        "corrected_covid_data['Longitude'] = longitude_cols"
      ],
      "execution_count": 0,
      "outputs": []
    },
    {
      "cell_type": "code",
      "metadata": {
        "id": "ewHTevcj1HI-",
        "colab_type": "code",
        "outputId": "559bea1f-c3be-4660-d7fa-4f7d8b8719f3",
        "colab": {
          "base_uri": "https://localhost:8080/",
          "height": 195
        }
      },
      "source": [
        "corrected_covid_data = corrected_covid_data.drop(['Lat','Long'], axis = 1)\n",
        "corrected_covid_data.head()       #Obtained latitude and longitude for all countries within the dataframe"
      ],
      "execution_count": 19,
      "outputs": [
        {
          "output_type": "execute_result",
          "data": {
            "text/html": [
              "<div>\n",
              "<style scoped>\n",
              "    .dataframe tbody tr th:only-of-type {\n",
              "        vertical-align: middle;\n",
              "    }\n",
              "\n",
              "    .dataframe tbody tr th {\n",
              "        vertical-align: top;\n",
              "    }\n",
              "\n",
              "    .dataframe thead th {\n",
              "        text-align: right;\n",
              "    }\n",
              "</style>\n",
              "<table border=\"1\" class=\"dataframe\">\n",
              "  <thead>\n",
              "    <tr style=\"text-align: right;\">\n",
              "      <th></th>\n",
              "      <th>Date</th>\n",
              "      <th>Country/Region</th>\n",
              "      <th>Province/State</th>\n",
              "      <th>Confirmed</th>\n",
              "      <th>Recovered</th>\n",
              "      <th>Deaths</th>\n",
              "      <th>Latitude</th>\n",
              "      <th>Longitude</th>\n",
              "    </tr>\n",
              "  </thead>\n",
              "  <tbody>\n",
              "    <tr>\n",
              "      <th>0</th>\n",
              "      <td>2020-01-22</td>\n",
              "      <td>Afghanistan</td>\n",
              "      <td>NaN</td>\n",
              "      <td>0.0</td>\n",
              "      <td>0.0</td>\n",
              "      <td>0.0</td>\n",
              "      <td>33.93911</td>\n",
              "      <td>67.709953</td>\n",
              "    </tr>\n",
              "    <tr>\n",
              "      <th>1</th>\n",
              "      <td>2020-01-23</td>\n",
              "      <td>Afghanistan</td>\n",
              "      <td>NaN</td>\n",
              "      <td>0.0</td>\n",
              "      <td>0.0</td>\n",
              "      <td>0.0</td>\n",
              "      <td>33.93911</td>\n",
              "      <td>67.709953</td>\n",
              "    </tr>\n",
              "    <tr>\n",
              "      <th>2</th>\n",
              "      <td>2020-01-24</td>\n",
              "      <td>Afghanistan</td>\n",
              "      <td>NaN</td>\n",
              "      <td>0.0</td>\n",
              "      <td>0.0</td>\n",
              "      <td>0.0</td>\n",
              "      <td>33.93911</td>\n",
              "      <td>67.709953</td>\n",
              "    </tr>\n",
              "    <tr>\n",
              "      <th>3</th>\n",
              "      <td>2020-01-25</td>\n",
              "      <td>Afghanistan</td>\n",
              "      <td>NaN</td>\n",
              "      <td>0.0</td>\n",
              "      <td>0.0</td>\n",
              "      <td>0.0</td>\n",
              "      <td>33.93911</td>\n",
              "      <td>67.709953</td>\n",
              "    </tr>\n",
              "    <tr>\n",
              "      <th>4</th>\n",
              "      <td>2020-01-26</td>\n",
              "      <td>Afghanistan</td>\n",
              "      <td>NaN</td>\n",
              "      <td>0.0</td>\n",
              "      <td>0.0</td>\n",
              "      <td>0.0</td>\n",
              "      <td>33.93911</td>\n",
              "      <td>67.709953</td>\n",
              "    </tr>\n",
              "  </tbody>\n",
              "</table>\n",
              "</div>"
            ],
            "text/plain": [
              "         Date Country/Region Province/State  ...  Deaths  Latitude  Longitude\n",
              "0  2020-01-22    Afghanistan            NaN  ...     0.0  33.93911  67.709953\n",
              "1  2020-01-23    Afghanistan            NaN  ...     0.0  33.93911  67.709953\n",
              "2  2020-01-24    Afghanistan            NaN  ...     0.0  33.93911  67.709953\n",
              "3  2020-01-25    Afghanistan            NaN  ...     0.0  33.93911  67.709953\n",
              "4  2020-01-26    Afghanistan            NaN  ...     0.0  33.93911  67.709953\n",
              "\n",
              "[5 rows x 8 columns]"
            ]
          },
          "metadata": {
            "tags": []
          },
          "execution_count": 19
        }
      ]
    },
    {
      "cell_type": "code",
      "metadata": {
        "id": "EOdxt6WuG_FR",
        "colab_type": "code",
        "outputId": "9d012c6b-5b74-4a9a-b71d-1b6ece178d59",
        "colab": {
          "base_uri": "https://localhost:8080/",
          "height": 195
        }
      },
      "source": [
        "corrected_covid_data = corrected_covid_data.drop(['Province/State'], axis = 1)\n",
        "corrected_covid_data.head()"
      ],
      "execution_count": 20,
      "outputs": [
        {
          "output_type": "execute_result",
          "data": {
            "text/html": [
              "<div>\n",
              "<style scoped>\n",
              "    .dataframe tbody tr th:only-of-type {\n",
              "        vertical-align: middle;\n",
              "    }\n",
              "\n",
              "    .dataframe tbody tr th {\n",
              "        vertical-align: top;\n",
              "    }\n",
              "\n",
              "    .dataframe thead th {\n",
              "        text-align: right;\n",
              "    }\n",
              "</style>\n",
              "<table border=\"1\" class=\"dataframe\">\n",
              "  <thead>\n",
              "    <tr style=\"text-align: right;\">\n",
              "      <th></th>\n",
              "      <th>Date</th>\n",
              "      <th>Country/Region</th>\n",
              "      <th>Confirmed</th>\n",
              "      <th>Recovered</th>\n",
              "      <th>Deaths</th>\n",
              "      <th>Latitude</th>\n",
              "      <th>Longitude</th>\n",
              "    </tr>\n",
              "  </thead>\n",
              "  <tbody>\n",
              "    <tr>\n",
              "      <th>0</th>\n",
              "      <td>2020-01-22</td>\n",
              "      <td>Afghanistan</td>\n",
              "      <td>0.0</td>\n",
              "      <td>0.0</td>\n",
              "      <td>0.0</td>\n",
              "      <td>33.93911</td>\n",
              "      <td>67.709953</td>\n",
              "    </tr>\n",
              "    <tr>\n",
              "      <th>1</th>\n",
              "      <td>2020-01-23</td>\n",
              "      <td>Afghanistan</td>\n",
              "      <td>0.0</td>\n",
              "      <td>0.0</td>\n",
              "      <td>0.0</td>\n",
              "      <td>33.93911</td>\n",
              "      <td>67.709953</td>\n",
              "    </tr>\n",
              "    <tr>\n",
              "      <th>2</th>\n",
              "      <td>2020-01-24</td>\n",
              "      <td>Afghanistan</td>\n",
              "      <td>0.0</td>\n",
              "      <td>0.0</td>\n",
              "      <td>0.0</td>\n",
              "      <td>33.93911</td>\n",
              "      <td>67.709953</td>\n",
              "    </tr>\n",
              "    <tr>\n",
              "      <th>3</th>\n",
              "      <td>2020-01-25</td>\n",
              "      <td>Afghanistan</td>\n",
              "      <td>0.0</td>\n",
              "      <td>0.0</td>\n",
              "      <td>0.0</td>\n",
              "      <td>33.93911</td>\n",
              "      <td>67.709953</td>\n",
              "    </tr>\n",
              "    <tr>\n",
              "      <th>4</th>\n",
              "      <td>2020-01-26</td>\n",
              "      <td>Afghanistan</td>\n",
              "      <td>0.0</td>\n",
              "      <td>0.0</td>\n",
              "      <td>0.0</td>\n",
              "      <td>33.93911</td>\n",
              "      <td>67.709953</td>\n",
              "    </tr>\n",
              "  </tbody>\n",
              "</table>\n",
              "</div>"
            ],
            "text/plain": [
              "         Date Country/Region  Confirmed  Recovered  Deaths  Latitude  Longitude\n",
              "0  2020-01-22    Afghanistan        0.0        0.0     0.0  33.93911  67.709953\n",
              "1  2020-01-23    Afghanistan        0.0        0.0     0.0  33.93911  67.709953\n",
              "2  2020-01-24    Afghanistan        0.0        0.0     0.0  33.93911  67.709953\n",
              "3  2020-01-25    Afghanistan        0.0        0.0     0.0  33.93911  67.709953\n",
              "4  2020-01-26    Afghanistan        0.0        0.0     0.0  33.93911  67.709953"
            ]
          },
          "metadata": {
            "tags": []
          },
          "execution_count": 20
        }
      ]
    },
    {
      "cell_type": "code",
      "metadata": {
        "id": "_prNnchEYJv_",
        "colab_type": "code",
        "colab": {}
      },
      "source": [
        "#Obtain a list of all affected countries\n",
        "def most_affected(X):\n",
        "  country_cases = {}\n",
        "  countries = X.index.unique()\n",
        "  for i in countries:\n",
        "    cases =  np.sum(X.loc[[i],['Confirmed']])\n",
        "    country_cases[i] = cases\n",
        "\n",
        "  country_cases_df = pd.DataFrame(country_cases)\n",
        "  country_cases_df = country_cases_df.transpose()\n",
        "  affected_countries = []\n",
        "  for i in range(8):\n",
        "    country = country_cases_df[['Confirmed']].idxmax()['Confirmed']\n",
        "    affected_countries.append(country)\n",
        "    country_cases_df = country_cases_df.drop([country], axis = 0)\n",
        "\n",
        "  return affected_countries"
      ],
      "execution_count": 0,
      "outputs": []
    },
    {
      "cell_type": "code",
      "metadata": {
        "id": "YrEbhG3bgkBx",
        "colab_type": "code",
        "colab": {}
      },
      "source": [
        "corrected_covid_data['Date'] =  pd.to_datetime(corrected_covid_data['Date'],\n",
        "                              format='%Y-%m-%d')"
      ],
      "execution_count": 0,
      "outputs": []
    },
    {
      "cell_type": "code",
      "metadata": {
        "id": "4Htl935Piuid",
        "colab_type": "code",
        "outputId": "6c3cee83-caae-4665-d012-8d8fc56e98ed",
        "colab": {
          "base_uri": "https://localhost:8080/",
          "height": 195
        }
      },
      "source": [
        "temperature = pd.read_csv('temperature_dataframe.csv')\n",
        "temperature.head()"
      ],
      "execution_count": 23,
      "outputs": [
        {
          "output_type": "execute_result",
          "data": {
            "text/html": [
              "<div>\n",
              "<style scoped>\n",
              "    .dataframe tbody tr th:only-of-type {\n",
              "        vertical-align: middle;\n",
              "    }\n",
              "\n",
              "    .dataframe tbody tr th {\n",
              "        vertical-align: top;\n",
              "    }\n",
              "\n",
              "    .dataframe thead th {\n",
              "        text-align: right;\n",
              "    }\n",
              "</style>\n",
              "<table border=\"1\" class=\"dataframe\">\n",
              "  <thead>\n",
              "    <tr style=\"text-align: right;\">\n",
              "      <th></th>\n",
              "      <th>Unnamed: 0</th>\n",
              "      <th>id</th>\n",
              "      <th>province</th>\n",
              "      <th>country</th>\n",
              "      <th>lat</th>\n",
              "      <th>long</th>\n",
              "      <th>date</th>\n",
              "      <th>cases</th>\n",
              "      <th>fatalities</th>\n",
              "      <th>capital</th>\n",
              "      <th>humidity</th>\n",
              "      <th>sunHour</th>\n",
              "      <th>tempC</th>\n",
              "      <th>windspeedKmph</th>\n",
              "    </tr>\n",
              "  </thead>\n",
              "  <tbody>\n",
              "    <tr>\n",
              "      <th>0</th>\n",
              "      <td>0</td>\n",
              "      <td>1</td>\n",
              "      <td>NaN</td>\n",
              "      <td>Afghanistan</td>\n",
              "      <td>33.0</td>\n",
              "      <td>65.0</td>\n",
              "      <td>2020-01-22</td>\n",
              "      <td>0.0</td>\n",
              "      <td>0.0</td>\n",
              "      <td>Kabul</td>\n",
              "      <td>65.0</td>\n",
              "      <td>8.7</td>\n",
              "      <td>-1.0</td>\n",
              "      <td>8.0</td>\n",
              "    </tr>\n",
              "    <tr>\n",
              "      <th>1</th>\n",
              "      <td>1</td>\n",
              "      <td>2</td>\n",
              "      <td>NaN</td>\n",
              "      <td>Afghanistan</td>\n",
              "      <td>33.0</td>\n",
              "      <td>65.0</td>\n",
              "      <td>2020-01-23</td>\n",
              "      <td>0.0</td>\n",
              "      <td>0.0</td>\n",
              "      <td>Kabul</td>\n",
              "      <td>59.0</td>\n",
              "      <td>8.7</td>\n",
              "      <td>-3.0</td>\n",
              "      <td>8.0</td>\n",
              "    </tr>\n",
              "    <tr>\n",
              "      <th>2</th>\n",
              "      <td>2</td>\n",
              "      <td>3</td>\n",
              "      <td>NaN</td>\n",
              "      <td>Afghanistan</td>\n",
              "      <td>33.0</td>\n",
              "      <td>65.0</td>\n",
              "      <td>2020-01-24</td>\n",
              "      <td>0.0</td>\n",
              "      <td>0.0</td>\n",
              "      <td>Kabul</td>\n",
              "      <td>71.0</td>\n",
              "      <td>7.1</td>\n",
              "      <td>0.0</td>\n",
              "      <td>7.0</td>\n",
              "    </tr>\n",
              "    <tr>\n",
              "      <th>3</th>\n",
              "      <td>3</td>\n",
              "      <td>4</td>\n",
              "      <td>NaN</td>\n",
              "      <td>Afghanistan</td>\n",
              "      <td>33.0</td>\n",
              "      <td>65.0</td>\n",
              "      <td>2020-01-25</td>\n",
              "      <td>0.0</td>\n",
              "      <td>0.0</td>\n",
              "      <td>Kabul</td>\n",
              "      <td>79.0</td>\n",
              "      <td>8.7</td>\n",
              "      <td>0.0</td>\n",
              "      <td>7.0</td>\n",
              "    </tr>\n",
              "    <tr>\n",
              "      <th>4</th>\n",
              "      <td>4</td>\n",
              "      <td>5</td>\n",
              "      <td>NaN</td>\n",
              "      <td>Afghanistan</td>\n",
              "      <td>33.0</td>\n",
              "      <td>65.0</td>\n",
              "      <td>2020-01-26</td>\n",
              "      <td>0.0</td>\n",
              "      <td>0.0</td>\n",
              "      <td>Kabul</td>\n",
              "      <td>64.0</td>\n",
              "      <td>8.7</td>\n",
              "      <td>-1.0</td>\n",
              "      <td>8.0</td>\n",
              "    </tr>\n",
              "  </tbody>\n",
              "</table>\n",
              "</div>"
            ],
            "text/plain": [
              "   Unnamed: 0  id province  ... sunHour  tempC  windspeedKmph\n",
              "0           0   1      NaN  ...     8.7   -1.0            8.0\n",
              "1           1   2      NaN  ...     8.7   -3.0            8.0\n",
              "2           2   3      NaN  ...     7.1    0.0            7.0\n",
              "3           3   4      NaN  ...     8.7    0.0            7.0\n",
              "4           4   5      NaN  ...     8.7   -1.0            8.0\n",
              "\n",
              "[5 rows x 14 columns]"
            ]
          },
          "metadata": {
            "tags": []
          },
          "execution_count": 23
        }
      ]
    },
    {
      "cell_type": "code",
      "metadata": {
        "id": "Fjo62Bi2kXkm",
        "colab_type": "code",
        "colab": {}
      },
      "source": [
        "humidity = (temperature['humidity'].groupby(temperature['country']))\n",
        "temp = temperature['tempC'].groupby(temperature['country'])"
      ],
      "execution_count": 0,
      "outputs": []
    },
    {
      "cell_type": "code",
      "metadata": {
        "id": "6mEbHLCXDKP1",
        "colab_type": "code",
        "colab": {}
      },
      "source": [
        "temp_corrected_data = temperature.replace(['Barbuda', 'Aruba', \"Cote d'Ivoire\", 'French Guiana',\n",
        "       'Greenland', 'Guadeloupe', 'Korea',\n",
        "       'Macedonia', 'Congo', 'USA', 'UAE', 'UK'], ['Antigua and Barbuda', 'Netherlands', \"Côte d'Ivoire\", 'France',\n",
        "                                        'Denmark', 'France', 'South Korea', 'North Macedonia', 'Congo (Kinshasa)', 'United States',\n",
        "                                        'United Arab Emirates', 'United Kingdom'])\n",
        "countries_to_drop = ['Eswatini', 'Guam', 'Guernsey', 'Jersey', 'Martinique', 'Mayotte', 'Puerto Rico', 'Reunion']"
      ],
      "execution_count": 0,
      "outputs": []
    },
    {
      "cell_type": "code",
      "metadata": {
        "id": "4xRWEq5G43z-",
        "colab_type": "code",
        "colab": {}
      },
      "source": [
        "#import statistics\n",
        "avg_stuff = pd.DataFrame()\n",
        "avg_stuff['Avg_temp'] = (temp_corrected_data['tempC'].groupby(temp_corrected_data['country'])).mean()\n",
        "avg_stuff['Avg_humidity'] = (temp_corrected_data['humidity'].groupby(temp_corrected_data['country'])).mean()"
      ],
      "execution_count": 0,
      "outputs": []
    },
    {
      "cell_type": "code",
      "metadata": {
        "id": "0aUhUPSFJhIP",
        "colab_type": "code",
        "colab": {}
      },
      "source": [
        "temp = []\n",
        "humidity = []\n",
        "\n",
        "for i in corrected_covid_data['Country/Region']:\n",
        "  try:\n",
        "    temperature = avg_stuff.loc[i, 'Avg_temp']\n",
        "    humid = avg_stuff.loc[i, 'Avg_humidity']\n",
        "    temp.append(temperature)\n",
        "    humidity.append(humid)\n",
        "  except KeyError:\n",
        "    temp.append(None)\n",
        "    humidity.append(None)\n",
        "temp = np.array(temp)\n",
        "humidity = np.array(humidity)"
      ],
      "execution_count": 0,
      "outputs": []
    },
    {
      "cell_type": "code",
      "metadata": {
        "id": "SoqS8Lw6AqbR",
        "colab_type": "code",
        "colab": {}
      },
      "source": [
        "corrected_covid_data['Average Temperature'] = temp\n",
        "corrected_covid_data['Average Humidity'] = humidity"
      ],
      "execution_count": 0,
      "outputs": []
    },
    {
      "cell_type": "code",
      "metadata": {
        "id": "VsdBzpIdL05A",
        "colab_type": "code",
        "outputId": "a4225a19-a8f4-41c1-ddf4-c5136422f228",
        "colab": {
          "base_uri": "https://localhost:8080/",
          "height": 402
        }
      },
      "source": [
        "corrected_covid_data"
      ],
      "execution_count": 29,
      "outputs": [
        {
          "output_type": "execute_result",
          "data": {
            "text/html": [
              "<div>\n",
              "<style scoped>\n",
              "    .dataframe tbody tr th:only-of-type {\n",
              "        vertical-align: middle;\n",
              "    }\n",
              "\n",
              "    .dataframe tbody tr th {\n",
              "        vertical-align: top;\n",
              "    }\n",
              "\n",
              "    .dataframe thead th {\n",
              "        text-align: right;\n",
              "    }\n",
              "</style>\n",
              "<table border=\"1\" class=\"dataframe\">\n",
              "  <thead>\n",
              "    <tr style=\"text-align: right;\">\n",
              "      <th></th>\n",
              "      <th>Date</th>\n",
              "      <th>Country/Region</th>\n",
              "      <th>Confirmed</th>\n",
              "      <th>Recovered</th>\n",
              "      <th>Deaths</th>\n",
              "      <th>Latitude</th>\n",
              "      <th>Longitude</th>\n",
              "      <th>Average Temperature</th>\n",
              "      <th>Average Humidity</th>\n",
              "    </tr>\n",
              "  </thead>\n",
              "  <tbody>\n",
              "    <tr>\n",
              "      <th>0</th>\n",
              "      <td>2020-01-22</td>\n",
              "      <td>Afghanistan</td>\n",
              "      <td>0.0</td>\n",
              "      <td>0.0</td>\n",
              "      <td>0.0</td>\n",
              "      <td>33.939110</td>\n",
              "      <td>67.709953</td>\n",
              "      <td>6.21667</td>\n",
              "      <td>56.9333</td>\n",
              "    </tr>\n",
              "    <tr>\n",
              "      <th>1</th>\n",
              "      <td>2020-01-23</td>\n",
              "      <td>Afghanistan</td>\n",
              "      <td>0.0</td>\n",
              "      <td>0.0</td>\n",
              "      <td>0.0</td>\n",
              "      <td>33.939110</td>\n",
              "      <td>67.709953</td>\n",
              "      <td>6.21667</td>\n",
              "      <td>56.9333</td>\n",
              "    </tr>\n",
              "    <tr>\n",
              "      <th>2</th>\n",
              "      <td>2020-01-24</td>\n",
              "      <td>Afghanistan</td>\n",
              "      <td>0.0</td>\n",
              "      <td>0.0</td>\n",
              "      <td>0.0</td>\n",
              "      <td>33.939110</td>\n",
              "      <td>67.709953</td>\n",
              "      <td>6.21667</td>\n",
              "      <td>56.9333</td>\n",
              "    </tr>\n",
              "    <tr>\n",
              "      <th>3</th>\n",
              "      <td>2020-01-25</td>\n",
              "      <td>Afghanistan</td>\n",
              "      <td>0.0</td>\n",
              "      <td>0.0</td>\n",
              "      <td>0.0</td>\n",
              "      <td>33.939110</td>\n",
              "      <td>67.709953</td>\n",
              "      <td>6.21667</td>\n",
              "      <td>56.9333</td>\n",
              "    </tr>\n",
              "    <tr>\n",
              "      <th>4</th>\n",
              "      <td>2020-01-26</td>\n",
              "      <td>Afghanistan</td>\n",
              "      <td>0.0</td>\n",
              "      <td>0.0</td>\n",
              "      <td>0.0</td>\n",
              "      <td>33.939110</td>\n",
              "      <td>67.709953</td>\n",
              "      <td>6.21667</td>\n",
              "      <td>56.9333</td>\n",
              "    </tr>\n",
              "    <tr>\n",
              "      <th>...</th>\n",
              "      <td>...</td>\n",
              "      <td>...</td>\n",
              "      <td>...</td>\n",
              "      <td>...</td>\n",
              "      <td>...</td>\n",
              "      <td>...</td>\n",
              "      <td>...</td>\n",
              "      <td>...</td>\n",
              "      <td>...</td>\n",
              "    </tr>\n",
              "    <tr>\n",
              "      <th>23755</th>\n",
              "      <td>2020-04-16</td>\n",
              "      <td>Zimbabwe</td>\n",
              "      <td>23.0</td>\n",
              "      <td>1.0</td>\n",
              "      <td>3.0</td>\n",
              "      <td>-19.015438</td>\n",
              "      <td>29.154857</td>\n",
              "      <td>None</td>\n",
              "      <td>None</td>\n",
              "    </tr>\n",
              "    <tr>\n",
              "      <th>23756</th>\n",
              "      <td>2020-04-17</td>\n",
              "      <td>Zimbabwe</td>\n",
              "      <td>24.0</td>\n",
              "      <td>2.0</td>\n",
              "      <td>3.0</td>\n",
              "      <td>-19.015438</td>\n",
              "      <td>29.154857</td>\n",
              "      <td>None</td>\n",
              "      <td>None</td>\n",
              "    </tr>\n",
              "    <tr>\n",
              "      <th>23757</th>\n",
              "      <td>2020-04-18</td>\n",
              "      <td>Zimbabwe</td>\n",
              "      <td>25.0</td>\n",
              "      <td>2.0</td>\n",
              "      <td>3.0</td>\n",
              "      <td>-19.015438</td>\n",
              "      <td>29.154857</td>\n",
              "      <td>None</td>\n",
              "      <td>None</td>\n",
              "    </tr>\n",
              "    <tr>\n",
              "      <th>23758</th>\n",
              "      <td>2020-04-19</td>\n",
              "      <td>Zimbabwe</td>\n",
              "      <td>25.0</td>\n",
              "      <td>2.0</td>\n",
              "      <td>3.0</td>\n",
              "      <td>-19.015438</td>\n",
              "      <td>29.154857</td>\n",
              "      <td>None</td>\n",
              "      <td>None</td>\n",
              "    </tr>\n",
              "    <tr>\n",
              "      <th>23759</th>\n",
              "      <td>2020-04-20</td>\n",
              "      <td>Zimbabwe</td>\n",
              "      <td>25.0</td>\n",
              "      <td>2.0</td>\n",
              "      <td>3.0</td>\n",
              "      <td>-19.015438</td>\n",
              "      <td>29.154857</td>\n",
              "      <td>None</td>\n",
              "      <td>None</td>\n",
              "    </tr>\n",
              "  </tbody>\n",
              "</table>\n",
              "<p>23310 rows × 9 columns</p>\n",
              "</div>"
            ],
            "text/plain": [
              "            Date Country/Region  ...  Average Temperature  Average Humidity\n",
              "0     2020-01-22    Afghanistan  ...              6.21667           56.9333\n",
              "1     2020-01-23    Afghanistan  ...              6.21667           56.9333\n",
              "2     2020-01-24    Afghanistan  ...              6.21667           56.9333\n",
              "3     2020-01-25    Afghanistan  ...              6.21667           56.9333\n",
              "4     2020-01-26    Afghanistan  ...              6.21667           56.9333\n",
              "...          ...            ...  ...                  ...               ...\n",
              "23755 2020-04-16       Zimbabwe  ...                 None              None\n",
              "23756 2020-04-17       Zimbabwe  ...                 None              None\n",
              "23757 2020-04-18       Zimbabwe  ...                 None              None\n",
              "23758 2020-04-19       Zimbabwe  ...                 None              None\n",
              "23759 2020-04-20       Zimbabwe  ...                 None              None\n",
              "\n",
              "[23310 rows x 9 columns]"
            ]
          },
          "metadata": {
            "tags": []
          },
          "execution_count": 29
        }
      ]
    },
    {
      "cell_type": "code",
      "metadata": {
        "id": "FdnDwpWLMRBC",
        "colab_type": "code",
        "outputId": "8cb2bbbd-f2f1-44bc-ff71-b4112b5a8924",
        "colab": {
          "base_uri": "https://localhost:8080/",
          "height": 431
        }
      },
      "source": [
        "corrected_covid_data.set_index(['Country/Region'])"
      ],
      "execution_count": 30,
      "outputs": [
        {
          "output_type": "execute_result",
          "data": {
            "text/html": [
              "<div>\n",
              "<style scoped>\n",
              "    .dataframe tbody tr th:only-of-type {\n",
              "        vertical-align: middle;\n",
              "    }\n",
              "\n",
              "    .dataframe tbody tr th {\n",
              "        vertical-align: top;\n",
              "    }\n",
              "\n",
              "    .dataframe thead th {\n",
              "        text-align: right;\n",
              "    }\n",
              "</style>\n",
              "<table border=\"1\" class=\"dataframe\">\n",
              "  <thead>\n",
              "    <tr style=\"text-align: right;\">\n",
              "      <th></th>\n",
              "      <th>Date</th>\n",
              "      <th>Confirmed</th>\n",
              "      <th>Recovered</th>\n",
              "      <th>Deaths</th>\n",
              "      <th>Latitude</th>\n",
              "      <th>Longitude</th>\n",
              "      <th>Average Temperature</th>\n",
              "      <th>Average Humidity</th>\n",
              "    </tr>\n",
              "    <tr>\n",
              "      <th>Country/Region</th>\n",
              "      <th></th>\n",
              "      <th></th>\n",
              "      <th></th>\n",
              "      <th></th>\n",
              "      <th></th>\n",
              "      <th></th>\n",
              "      <th></th>\n",
              "      <th></th>\n",
              "    </tr>\n",
              "  </thead>\n",
              "  <tbody>\n",
              "    <tr>\n",
              "      <th>Afghanistan</th>\n",
              "      <td>2020-01-22</td>\n",
              "      <td>0.0</td>\n",
              "      <td>0.0</td>\n",
              "      <td>0.0</td>\n",
              "      <td>33.939110</td>\n",
              "      <td>67.709953</td>\n",
              "      <td>6.21667</td>\n",
              "      <td>56.9333</td>\n",
              "    </tr>\n",
              "    <tr>\n",
              "      <th>Afghanistan</th>\n",
              "      <td>2020-01-23</td>\n",
              "      <td>0.0</td>\n",
              "      <td>0.0</td>\n",
              "      <td>0.0</td>\n",
              "      <td>33.939110</td>\n",
              "      <td>67.709953</td>\n",
              "      <td>6.21667</td>\n",
              "      <td>56.9333</td>\n",
              "    </tr>\n",
              "    <tr>\n",
              "      <th>Afghanistan</th>\n",
              "      <td>2020-01-24</td>\n",
              "      <td>0.0</td>\n",
              "      <td>0.0</td>\n",
              "      <td>0.0</td>\n",
              "      <td>33.939110</td>\n",
              "      <td>67.709953</td>\n",
              "      <td>6.21667</td>\n",
              "      <td>56.9333</td>\n",
              "    </tr>\n",
              "    <tr>\n",
              "      <th>Afghanistan</th>\n",
              "      <td>2020-01-25</td>\n",
              "      <td>0.0</td>\n",
              "      <td>0.0</td>\n",
              "      <td>0.0</td>\n",
              "      <td>33.939110</td>\n",
              "      <td>67.709953</td>\n",
              "      <td>6.21667</td>\n",
              "      <td>56.9333</td>\n",
              "    </tr>\n",
              "    <tr>\n",
              "      <th>Afghanistan</th>\n",
              "      <td>2020-01-26</td>\n",
              "      <td>0.0</td>\n",
              "      <td>0.0</td>\n",
              "      <td>0.0</td>\n",
              "      <td>33.939110</td>\n",
              "      <td>67.709953</td>\n",
              "      <td>6.21667</td>\n",
              "      <td>56.9333</td>\n",
              "    </tr>\n",
              "    <tr>\n",
              "      <th>...</th>\n",
              "      <td>...</td>\n",
              "      <td>...</td>\n",
              "      <td>...</td>\n",
              "      <td>...</td>\n",
              "      <td>...</td>\n",
              "      <td>...</td>\n",
              "      <td>...</td>\n",
              "      <td>...</td>\n",
              "    </tr>\n",
              "    <tr>\n",
              "      <th>Zimbabwe</th>\n",
              "      <td>2020-04-16</td>\n",
              "      <td>23.0</td>\n",
              "      <td>1.0</td>\n",
              "      <td>3.0</td>\n",
              "      <td>-19.015438</td>\n",
              "      <td>29.154857</td>\n",
              "      <td>None</td>\n",
              "      <td>None</td>\n",
              "    </tr>\n",
              "    <tr>\n",
              "      <th>Zimbabwe</th>\n",
              "      <td>2020-04-17</td>\n",
              "      <td>24.0</td>\n",
              "      <td>2.0</td>\n",
              "      <td>3.0</td>\n",
              "      <td>-19.015438</td>\n",
              "      <td>29.154857</td>\n",
              "      <td>None</td>\n",
              "      <td>None</td>\n",
              "    </tr>\n",
              "    <tr>\n",
              "      <th>Zimbabwe</th>\n",
              "      <td>2020-04-18</td>\n",
              "      <td>25.0</td>\n",
              "      <td>2.0</td>\n",
              "      <td>3.0</td>\n",
              "      <td>-19.015438</td>\n",
              "      <td>29.154857</td>\n",
              "      <td>None</td>\n",
              "      <td>None</td>\n",
              "    </tr>\n",
              "    <tr>\n",
              "      <th>Zimbabwe</th>\n",
              "      <td>2020-04-19</td>\n",
              "      <td>25.0</td>\n",
              "      <td>2.0</td>\n",
              "      <td>3.0</td>\n",
              "      <td>-19.015438</td>\n",
              "      <td>29.154857</td>\n",
              "      <td>None</td>\n",
              "      <td>None</td>\n",
              "    </tr>\n",
              "    <tr>\n",
              "      <th>Zimbabwe</th>\n",
              "      <td>2020-04-20</td>\n",
              "      <td>25.0</td>\n",
              "      <td>2.0</td>\n",
              "      <td>3.0</td>\n",
              "      <td>-19.015438</td>\n",
              "      <td>29.154857</td>\n",
              "      <td>None</td>\n",
              "      <td>None</td>\n",
              "    </tr>\n",
              "  </tbody>\n",
              "</table>\n",
              "<p>23310 rows × 8 columns</p>\n",
              "</div>"
            ],
            "text/plain": [
              "                     Date  Confirmed  ...  Average Temperature  Average Humidity\n",
              "Country/Region                        ...                                       \n",
              "Afghanistan    2020-01-22        0.0  ...              6.21667           56.9333\n",
              "Afghanistan    2020-01-23        0.0  ...              6.21667           56.9333\n",
              "Afghanistan    2020-01-24        0.0  ...              6.21667           56.9333\n",
              "Afghanistan    2020-01-25        0.0  ...              6.21667           56.9333\n",
              "Afghanistan    2020-01-26        0.0  ...              6.21667           56.9333\n",
              "...                   ...        ...  ...                  ...               ...\n",
              "Zimbabwe       2020-04-16       23.0  ...                 None              None\n",
              "Zimbabwe       2020-04-17       24.0  ...                 None              None\n",
              "Zimbabwe       2020-04-18       25.0  ...                 None              None\n",
              "Zimbabwe       2020-04-19       25.0  ...                 None              None\n",
              "Zimbabwe       2020-04-20       25.0  ...                 None              None\n",
              "\n",
              "[23310 rows x 8 columns]"
            ]
          },
          "metadata": {
            "tags": []
          },
          "execution_count": 30
        }
      ]
    },
    {
      "cell_type": "code",
      "metadata": {
        "id": "LcqPykFyNobY",
        "colab_type": "code",
        "colab": {}
      },
      "source": [
        "corrected_covid_data.reset_index(drop = True, inplace = True)"
      ],
      "execution_count": 0,
      "outputs": []
    },
    {
      "cell_type": "code",
      "metadata": {
        "id": "7kJXm7SMOCwb",
        "colab_type": "code",
        "colab": {}
      },
      "source": [
        "corrected_covid_data.set_index('Country/Region', inplace = True)"
      ],
      "execution_count": 0,
      "outputs": []
    },
    {
      "cell_type": "code",
      "metadata": {
        "id": "-TZX5qEpMbU7",
        "colab_type": "code",
        "colab": {}
      },
      "source": [
        "df_most_affected = corrected_covid_data\n",
        "affected = most_affected(df_most_affected)"
      ],
      "execution_count": 0,
      "outputs": []
    },
    {
      "cell_type": "code",
      "metadata": {
        "id": "T7iejhrHTRxf",
        "colab_type": "code",
        "outputId": "7a053624-9bed-430a-8cdb-801c02215a16",
        "colab": {
          "base_uri": "https://localhost:8080/",
          "height": 34
        }
      },
      "source": [
        "# Print the 8 most affected countries\n",
        "\n",
        "print(affected)"
      ],
      "execution_count": 34,
      "outputs": [
        {
          "output_type": "stream",
          "text": [
            "['United States', 'China', 'Italy', 'Spain', 'Germany', 'France', 'Iran', 'United Kingdom']\n"
          ],
          "name": "stdout"
        }
      ]
    },
    {
      "cell_type": "markdown",
      "metadata": {
        "id": "LG4kvaeiUgr8",
        "colab_type": "text"
      },
      "source": [
        "**Plot for Cases/day vs Dates**"
      ]
    },
    {
      "cell_type": "code",
      "metadata": {
        "id": "7MdL3_wnTpVN",
        "colab_type": "code",
        "outputId": "061d63eb-ef76-4516-ac0f-056acd9035f7",
        "colab": {
          "base_uri": "https://localhost:8080/",
          "height": 582
        }
      },
      "source": [
        "# Cases vs dates\n",
        "import matplotlib.pyplot as plt\n",
        "%matplotlib inline\n",
        "\n",
        "cases_day = df_most_affected\n",
        "plt.figure(figsize = [20,10])\n",
        "for i in range(4):\n",
        "  j = df_most_affected.loc[affected[i], ['Confirmed','Date']]\n",
        "  j.reset_index(drop = True, inplace = True)\n",
        "  j = j.groupby([\"Date\"]).sum()\n",
        "  plt.plot(j.index, j['Confirmed'], label = str(affected[i]))\n",
        "\n",
        "plt.xlabel('Dates (20th Jan - 20th Apr')\n",
        "plt.ylabel('Confirmed Cases')\n",
        "plt.title('Trend of Total Confirmed Cases in 4 most affected countries')\n",
        "plt.legend()\n",
        "plt.grid()"
      ],
      "execution_count": 35,
      "outputs": [
        {
          "output_type": "display_data",
          "data": {
            "image/png": "[encoded data removed]",
            "text/plain": [
              "<Figure size 1440x720 with 1 Axes>"
            ]
          },
          "metadata": {
            "tags": [],
            "needs_background": "light"
          }
        }
      ]
    },
    {
      "cell_type": "code",
      "metadata": {
        "id": "dIosrqMXfLBu",
        "colab_type": "code",
        "colab": {}
      },
      "source": [
        "def cases_per_day(X):\n",
        "  cases_day = []\n",
        "  cases = 0\n",
        "  for i in range(len(X.index) - 1):\n",
        "    cases = X.iloc[(i + 1), 0] - X.iloc[i, 0]\n",
        "    cases_day.append(cases)\n",
        "  cases = X.iloc[(len(X.index) - 1), 0] - X.iloc[(len(X.index) - 2), 0]\n",
        "  cases_day.append(cases)\n",
        "  \n",
        "  X['Cases per Day'] = np.array(cases_day)\n",
        "\n",
        "  return X"
      ],
      "execution_count": 0,
      "outputs": []
    },
    {
      "cell_type": "code",
      "metadata": {
        "id": "-zycxNzKwc4_",
        "colab_type": "code",
        "outputId": "337e72dc-5717-472f-e032-11741a3d4aa0",
        "colab": {
          "base_uri": "https://localhost:8080/",
          "height": 586
        }
      },
      "source": [
        "# Cases per Day vs Dates\n",
        "\n",
        "%matplotlib inline\n",
        "plt.figure(figsize = [20, 10])\n",
        "\n",
        "for i in range(4):\n",
        "  j = df_most_affected.loc[affected[i], ['Confirmed','Date']]\n",
        "  j.reset_index(drop = True, inplace = True)\n",
        "  j = j.groupby([\"Date\"]).sum()\n",
        "  j = cases_per_day(j)\n",
        "  plt.plot(j.index, j['Cases per Day'], label = affected[i])\n",
        "\n",
        "plt.xlabel('Dates (20th Jan - 20th Apr)')\n",
        "plt.ylabel('Confirmed Cases per Day')\n",
        "plt.title('Rate of Increase in Confirmed Cases in 4 most affected countries')\n",
        "plt.legend()\n",
        "plt.grid()"
      ],
      "execution_count": 37,
      "outputs": [
        {
          "output_type": "display_data",
          "data": {
            "image/png": "[encoded data removed]",
            "text/plain": [
              "<Figure size 1440x720 with 1 Axes>"
            ]
          },
          "metadata": {
            "tags": [],
            "needs_background": "light"
          }
        }
      ]
    },
    {
      "cell_type": "markdown",
      "metadata": {
        "id": "Dbb9ruGtFhce",
        "colab_type": "text"
      },
      "source": [
        "## **Part 1 Inference:**\n",
        "\n",
        "* **United States of America (USA), Italy, Spain** and **China** are among the worst hit countries in the pandemic.\n",
        "* China has managed to **flatten the curve** and prevent additional rise in the number of cases by the beginning of **March 2020**.\n",
        "* United States of America has the highest rate of increase in the number of cases. Italy and Spain have managed to curb the spread of the virus and are witnessing a decrease in the rate of new cases."
      ]
    },
    {
      "cell_type": "markdown",
      "metadata": {
        "id": "fTe-sGFpEuEJ",
        "colab_type": "text"
      },
      "source": [
        "# **Part 2:** \n",
        "**Analysing the pivoting table of the entertainment industry**"
      ]
    },
    {
      "cell_type": "code",
      "metadata": {
        "id": "PZIOj7MPFE4A",
        "colab_type": "code",
        "outputId": "8d7eafdd-7acb-4b03-be4a-1edc8e2f8b4b",
        "colab": {
          "base_uri": "https://localhost:8080/",
          "height": 397
        }
      },
      "source": [
        "# General device usage (device_usage_increase)\n",
        "import seaborn as sns\n",
        "\n",
        "device_usage = pd.read_excel('device_usage_increase.xlsx', sheet_name='Data')\n",
        "device_usage"
      ],
      "execution_count": 38,
      "outputs": [
        {
          "output_type": "stream",
          "text": [
            "/usr/local/lib/python3.6/dist-packages/statsmodels/tools/_testing.py:19: FutureWarning: pandas.util.testing is deprecated. Use the functions in the public API at pandas.testing instead.\n",
            "  import pandas.util.testing as tm\n"
          ],
          "name": "stderr"
        },
        {
          "output_type": "execute_result",
          "data": {
            "text/html": [
              "<div>\n",
              "<style scoped>\n",
              "    .dataframe tbody tr th:only-of-type {\n",
              "        vertical-align: middle;\n",
              "    }\n",
              "\n",
              "    .dataframe tbody tr th {\n",
              "        vertical-align: top;\n",
              "    }\n",
              "\n",
              "    .dataframe thead th {\n",
              "        text-align: right;\n",
              "    }\n",
              "</style>\n",
              "<table border=\"1\" class=\"dataframe\">\n",
              "  <thead>\n",
              "    <tr style=\"text-align: right;\">\n",
              "      <th></th>\n",
              "      <th>Device</th>\n",
              "      <th>Gen Z</th>\n",
              "      <th>Millennials</th>\n",
              "      <th>Gen X</th>\n",
              "      <th>Baby Boomers</th>\n",
              "    </tr>\n",
              "  </thead>\n",
              "  <tbody>\n",
              "    <tr>\n",
              "      <th>0</th>\n",
              "      <td>Smartphone/mobile phone</td>\n",
              "      <td>82</td>\n",
              "      <td>72</td>\n",
              "      <td>66</td>\n",
              "      <td>43</td>\n",
              "    </tr>\n",
              "    <tr>\n",
              "      <th>1</th>\n",
              "      <td>Laptop</td>\n",
              "      <td>56</td>\n",
              "      <td>42</td>\n",
              "      <td>33</td>\n",
              "      <td>27</td>\n",
              "    </tr>\n",
              "    <tr>\n",
              "      <th>2</th>\n",
              "      <td>PC/desktop</td>\n",
              "      <td>34</td>\n",
              "      <td>31</td>\n",
              "      <td>31</td>\n",
              "      <td>35</td>\n",
              "    </tr>\n",
              "    <tr>\n",
              "      <th>3</th>\n",
              "      <td>Smart TV/media streaming service</td>\n",
              "      <td>29</td>\n",
              "      <td>32</td>\n",
              "      <td>30</td>\n",
              "      <td>23</td>\n",
              "    </tr>\n",
              "    <tr>\n",
              "      <th>4</th>\n",
              "      <td>Tablet</td>\n",
              "      <td>22</td>\n",
              "      <td>27</td>\n",
              "      <td>16</td>\n",
              "      <td>16</td>\n",
              "    </tr>\n",
              "    <tr>\n",
              "      <th>5</th>\n",
              "      <td>Games console</td>\n",
              "      <td>16</td>\n",
              "      <td>18</td>\n",
              "      <td>9</td>\n",
              "      <td>1</td>\n",
              "    </tr>\n",
              "    <tr>\n",
              "      <th>6</th>\n",
              "      <td>Smart speaker</td>\n",
              "      <td>11</td>\n",
              "      <td>12</td>\n",
              "      <td>6</td>\n",
              "      <td>3</td>\n",
              "    </tr>\n",
              "    <tr>\n",
              "      <th>7</th>\n",
              "      <td>Smartwatch</td>\n",
              "      <td>9</td>\n",
              "      <td>7</td>\n",
              "      <td>4</td>\n",
              "      <td>1</td>\n",
              "    </tr>\n",
              "    <tr>\n",
              "      <th>8</th>\n",
              "      <td>Other</td>\n",
              "      <td>2</td>\n",
              "      <td>1</td>\n",
              "      <td>1</td>\n",
              "      <td>2</td>\n",
              "    </tr>\n",
              "    <tr>\n",
              "      <th>9</th>\n",
              "      <td>None of these</td>\n",
              "      <td>1</td>\n",
              "      <td>7</td>\n",
              "      <td>11</td>\n",
              "      <td>20</td>\n",
              "    </tr>\n",
              "  </tbody>\n",
              "</table>\n",
              "</div>"
            ],
            "text/plain": [
              "                             Device  Gen Z  Millennials  Gen X  Baby Boomers\n",
              "0           Smartphone/mobile phone     82           72     66            43\n",
              "1                            Laptop     56           42     33            27\n",
              "2                        PC/desktop     34           31     31            35\n",
              "3  Smart TV/media streaming service     29           32     30            23\n",
              "4                            Tablet     22           27     16            16\n",
              "5                     Games console     16           18      9             1\n",
              "6                     Smart speaker     11           12      6             3\n",
              "7                        Smartwatch      9            7      4             1\n",
              "8                             Other      2            1      1             2\n",
              "9                     None of these      1            7     11            20"
            ]
          },
          "metadata": {
            "tags": []
          },
          "execution_count": 38
        }
      ]
    },
    {
      "cell_type": "code",
      "metadata": {
        "id": "Lp9_GhSfTSyT",
        "colab_type": "code",
        "colab": {}
      },
      "source": [
        "device_usage.reset_index()\n",
        "device_usage.set_index('Device', inplace=True)"
      ],
      "execution_count": 0,
      "outputs": []
    },
    {
      "cell_type": "code",
      "metadata": {
        "id": "bB_j8_whThlZ",
        "colab_type": "code",
        "outputId": "556ce3ae-8f4b-4aae-b3ea-7def33878f03",
        "colab": {
          "base_uri": "https://localhost:8080/",
          "height": 373
        }
      },
      "source": [
        "device_usage"
      ],
      "execution_count": 40,
      "outputs": [
        {
          "output_type": "execute_result",
          "data": {
            "text/html": [
              "<div>\n",
              "<style scoped>\n",
              "    .dataframe tbody tr th:only-of-type {\n",
              "        vertical-align: middle;\n",
              "    }\n",
              "\n",
              "    .dataframe tbody tr th {\n",
              "        vertical-align: top;\n",
              "    }\n",
              "\n",
              "    .dataframe thead th {\n",
              "        text-align: right;\n",
              "    }\n",
              "</style>\n",
              "<table border=\"1\" class=\"dataframe\">\n",
              "  <thead>\n",
              "    <tr style=\"text-align: right;\">\n",
              "      <th></th>\n",
              "      <th>Gen Z</th>\n",
              "      <th>Millennials</th>\n",
              "      <th>Gen X</th>\n",
              "      <th>Baby Boomers</th>\n",
              "    </tr>\n",
              "    <tr>\n",
              "      <th>Device</th>\n",
              "      <th></th>\n",
              "      <th></th>\n",
              "      <th></th>\n",
              "      <th></th>\n",
              "    </tr>\n",
              "  </thead>\n",
              "  <tbody>\n",
              "    <tr>\n",
              "      <th>Smartphone/mobile phone</th>\n",
              "      <td>82</td>\n",
              "      <td>72</td>\n",
              "      <td>66</td>\n",
              "      <td>43</td>\n",
              "    </tr>\n",
              "    <tr>\n",
              "      <th>Laptop</th>\n",
              "      <td>56</td>\n",
              "      <td>42</td>\n",
              "      <td>33</td>\n",
              "      <td>27</td>\n",
              "    </tr>\n",
              "    <tr>\n",
              "      <th>PC/desktop</th>\n",
              "      <td>34</td>\n",
              "      <td>31</td>\n",
              "      <td>31</td>\n",
              "      <td>35</td>\n",
              "    </tr>\n",
              "    <tr>\n",
              "      <th>Smart TV/media streaming service</th>\n",
              "      <td>29</td>\n",
              "      <td>32</td>\n",
              "      <td>30</td>\n",
              "      <td>23</td>\n",
              "    </tr>\n",
              "    <tr>\n",
              "      <th>Tablet</th>\n",
              "      <td>22</td>\n",
              "      <td>27</td>\n",
              "      <td>16</td>\n",
              "      <td>16</td>\n",
              "    </tr>\n",
              "    <tr>\n",
              "      <th>Games console</th>\n",
              "      <td>16</td>\n",
              "      <td>18</td>\n",
              "      <td>9</td>\n",
              "      <td>1</td>\n",
              "    </tr>\n",
              "    <tr>\n",
              "      <th>Smart speaker</th>\n",
              "      <td>11</td>\n",
              "      <td>12</td>\n",
              "      <td>6</td>\n",
              "      <td>3</td>\n",
              "    </tr>\n",
              "    <tr>\n",
              "      <th>Smartwatch</th>\n",
              "      <td>9</td>\n",
              "      <td>7</td>\n",
              "      <td>4</td>\n",
              "      <td>1</td>\n",
              "    </tr>\n",
              "    <tr>\n",
              "      <th>Other</th>\n",
              "      <td>2</td>\n",
              "      <td>1</td>\n",
              "      <td>1</td>\n",
              "      <td>2</td>\n",
              "    </tr>\n",
              "    <tr>\n",
              "      <th>None of these</th>\n",
              "      <td>1</td>\n",
              "      <td>7</td>\n",
              "      <td>11</td>\n",
              "      <td>20</td>\n",
              "    </tr>\n",
              "  </tbody>\n",
              "</table>\n",
              "</div>"
            ],
            "text/plain": [
              "                                  Gen Z  Millennials  Gen X  Baby Boomers\n",
              "Device                                                                   \n",
              "Smartphone/mobile phone              82           72     66            43\n",
              "Laptop                               56           42     33            27\n",
              "PC/desktop                           34           31     31            35\n",
              "Smart TV/media streaming service     29           32     30            23\n",
              "Tablet                               22           27     16            16\n",
              "Games console                        16           18      9             1\n",
              "Smart speaker                        11           12      6             3\n",
              "Smartwatch                            9            7      4             1\n",
              "Other                                 2            1      1             2\n",
              "None of these                         1            7     11            20"
            ]
          },
          "metadata": {
            "tags": []
          },
          "execution_count": 40
        }
      ]
    },
    {
      "cell_type": "code",
      "metadata": {
        "id": "GvagX5PST1Qb",
        "colab_type": "code",
        "outputId": "9c1017ac-a429-4df4-c884-8e1f2dec586c",
        "colab": {
          "base_uri": "https://localhost:8080/",
          "height": 598
        }
      },
      "source": [
        "import matplotlib.pyplot as plt\n",
        "\n",
        "plt.figure(figsize=[20,10])\n",
        "for i in device_usage.index[:6]:\n",
        "  plt.plot(device_usage.columns, device_usage.loc[i, :], label = i, linewidth = 4, marker = 'o', markersize = 10)\n",
        "plt.title('Device Usage Statistics in April 2020 (Worldwide)')\n",
        "plt.ylabel('Users [in millions]')\n",
        "plt.xlabel('User Category')\n",
        "plt.legend()\n",
        "\n",
        "plt.grid()"
      ],
      "execution_count": 74,
      "outputs": [
        {
          "output_type": "display_data",
          "data": {
            "image/png": "[encoded data removed]",
            "text/plain": [
              "<Figure size 1440x720 with 1 Axes>"
            ]
          },
          "metadata": {
            "tags": []
          }
        }
      ]
    },
    {
      "cell_type": "code",
      "metadata": {
        "id": "t5cunUSbig26",
        "colab_type": "code",
        "colab": {
          "base_uri": "https://localhost:8080/",
          "height": 800
        },
        "outputId": "e5aaf05c-e29b-44de-d9d1-8655bbb3e5e8"
      },
      "source": [
        "# Net device usage per category\n",
        "\n",
        "sns.set()\n",
        "device_usage.plot(kind = 'bar', stacked = True, figsize = [20,10]).set(title = 'Net device usage in April 2020 (Worldwide)', ylabel = 'Number of devices used [in millions]')\n"
      ],
      "execution_count": 73,
      "outputs": [
        {
          "output_type": "execute_result",
          "data": {
            "text/plain": [
              "[Text(0, 0.5, 'Number of devices used [in millions]'),\n",
              " Text(0.5, 1.0, 'Net device usage in April 2020 (Worldwide)')]"
            ]
          },
          "metadata": {
            "tags": []
          },
          "execution_count": 73
        },
        {
          "output_type": "display_data",
          "data": {
            "image/png": "[encoded data removed]",
            "text/plain": [
              "<Figure size 1440x720 with 1 Axes>"
            ]
          },
          "metadata": {
            "tags": []
          }
        }
      ]
    },
    {
      "cell_type": "code",
      "metadata": {
        "id": "3JX6C2ZvGD3C",
        "colab_type": "code",
        "colab": {
          "base_uri": "https://localhost:8080/",
          "height": 347
        },
        "outputId": "78380c95-81b5-4b8c-8ec6-fb40d5695f5d"
      },
      "source": [
        "# Device usage per country (device_usage_per_country)\n",
        "\n",
        "dev_usage_country = pd.read_excel('device_usage_per_country.xlsx')\n",
        "dev_usage_country"
      ],
      "execution_count": 56,
      "outputs": [
        {
          "output_type": "execute_result",
          "data": {
            "text/html": [
              "<div>\n",
              "<style scoped>\n",
              "    .dataframe tbody tr th:only-of-type {\n",
              "        vertical-align: middle;\n",
              "    }\n",
              "\n",
              "    .dataframe tbody tr th {\n",
              "        vertical-align: top;\n",
              "    }\n",
              "\n",
              "    .dataframe thead th {\n",
              "        text-align: right;\n",
              "    }\n",
              "</style>\n",
              "<table border=\"1\" class=\"dataframe\">\n",
              "  <thead>\n",
              "    <tr style=\"text-align: right;\">\n",
              "      <th></th>\n",
              "      <th>Device</th>\n",
              "      <th>Italy</th>\n",
              "      <th>Spain</th>\n",
              "      <th>France</th>\n",
              "      <th>Germany</th>\n",
              "      <th>China</th>\n",
              "      <th>United States</th>\n",
              "      <th>United Kingdom</th>\n",
              "      <th>Singapore</th>\n",
              "      <th>Australia</th>\n",
              "      <th>Brazil</th>\n",
              "      <th>Japan</th>\n",
              "      <th>Philippines</th>\n",
              "      <th>South Africa</th>\n",
              "    </tr>\n",
              "  </thead>\n",
              "  <tbody>\n",
              "    <tr>\n",
              "      <th>0</th>\n",
              "      <td>Smartphone/mobile phone</td>\n",
              "      <td>72</td>\n",
              "      <td>64</td>\n",
              "      <td>41</td>\n",
              "      <td>33</td>\n",
              "      <td>86</td>\n",
              "      <td>40</td>\n",
              "      <td>38</td>\n",
              "      <td>64</td>\n",
              "      <td>38</td>\n",
              "      <td>77</td>\n",
              "      <td>47</td>\n",
              "      <td>86</td>\n",
              "      <td>72</td>\n",
              "    </tr>\n",
              "    <tr>\n",
              "      <th>1</th>\n",
              "      <td>Laptop</td>\n",
              "      <td>47</td>\n",
              "      <td>47</td>\n",
              "      <td>37</td>\n",
              "      <td>29</td>\n",
              "      <td>45</td>\n",
              "      <td>37</td>\n",
              "      <td>31</td>\n",
              "      <td>41</td>\n",
              "      <td>32</td>\n",
              "      <td>37</td>\n",
              "      <td>12</td>\n",
              "      <td>51</td>\n",
              "      <td>51</td>\n",
              "    </tr>\n",
              "    <tr>\n",
              "      <th>2</th>\n",
              "      <td>PC/desktop</td>\n",
              "      <td>26</td>\n",
              "      <td>28</td>\n",
              "      <td>30</td>\n",
              "      <td>23</td>\n",
              "      <td>35</td>\n",
              "      <td>23</td>\n",
              "      <td>16</td>\n",
              "      <td>21</td>\n",
              "      <td>23</td>\n",
              "      <td>37</td>\n",
              "      <td>46</td>\n",
              "      <td>35</td>\n",
              "      <td>32</td>\n",
              "    </tr>\n",
              "    <tr>\n",
              "      <th>3</th>\n",
              "      <td>Smart TV/media streaming service</td>\n",
              "      <td>29</td>\n",
              "      <td>35</td>\n",
              "      <td>13</td>\n",
              "      <td>18</td>\n",
              "      <td>32</td>\n",
              "      <td>29</td>\n",
              "      <td>22</td>\n",
              "      <td>18</td>\n",
              "      <td>18</td>\n",
              "      <td>44</td>\n",
              "      <td>11</td>\n",
              "      <td>37</td>\n",
              "      <td>30</td>\n",
              "    </tr>\n",
              "    <tr>\n",
              "      <th>4</th>\n",
              "      <td>Tablet</td>\n",
              "      <td>22</td>\n",
              "      <td>23</td>\n",
              "      <td>11</td>\n",
              "      <td>12</td>\n",
              "      <td>27</td>\n",
              "      <td>20</td>\n",
              "      <td>17</td>\n",
              "      <td>18</td>\n",
              "      <td>16</td>\n",
              "      <td>11</td>\n",
              "      <td>15</td>\n",
              "      <td>16</td>\n",
              "      <td>18</td>\n",
              "    </tr>\n",
              "    <tr>\n",
              "      <th>5</th>\n",
              "      <td>Games console</td>\n",
              "      <td>14</td>\n",
              "      <td>12</td>\n",
              "      <td>15</td>\n",
              "      <td>10</td>\n",
              "      <td>14</td>\n",
              "      <td>13</td>\n",
              "      <td>14</td>\n",
              "      <td>8</td>\n",
              "      <td>10</td>\n",
              "      <td>18</td>\n",
              "      <td>16</td>\n",
              "      <td>9</td>\n",
              "      <td>13</td>\n",
              "    </tr>\n",
              "    <tr>\n",
              "      <th>6</th>\n",
              "      <td>Smart speaker</td>\n",
              "      <td>5</td>\n",
              "      <td>4</td>\n",
              "      <td>3</td>\n",
              "      <td>4</td>\n",
              "      <td>13</td>\n",
              "      <td>8</td>\n",
              "      <td>7</td>\n",
              "      <td>3</td>\n",
              "      <td>5</td>\n",
              "      <td>3</td>\n",
              "      <td>4</td>\n",
              "      <td>6</td>\n",
              "      <td>6</td>\n",
              "    </tr>\n",
              "    <tr>\n",
              "      <th>7</th>\n",
              "      <td>None of these</td>\n",
              "      <td>2</td>\n",
              "      <td>2</td>\n",
              "      <td>21</td>\n",
              "      <td>34</td>\n",
              "      <td>1</td>\n",
              "      <td>22</td>\n",
              "      <td>26</td>\n",
              "      <td>11</td>\n",
              "      <td>26</td>\n",
              "      <td>5</td>\n",
              "      <td>16</td>\n",
              "      <td>1</td>\n",
              "      <td>7</td>\n",
              "    </tr>\n",
              "    <tr>\n",
              "      <th>8</th>\n",
              "      <td>Smartwatch</td>\n",
              "      <td>4</td>\n",
              "      <td>4</td>\n",
              "      <td>1</td>\n",
              "      <td>3</td>\n",
              "      <td>8</td>\n",
              "      <td>4</td>\n",
              "      <td>3</td>\n",
              "      <td>7</td>\n",
              "      <td>4</td>\n",
              "      <td>4</td>\n",
              "      <td>4</td>\n",
              "      <td>4</td>\n",
              "      <td>5</td>\n",
              "    </tr>\n",
              "  </tbody>\n",
              "</table>\n",
              "</div>"
            ],
            "text/plain": [
              "                             Device  Italy  ...  Philippines  South Africa\n",
              "0           Smartphone/mobile phone     72  ...           86            72\n",
              "1                            Laptop     47  ...           51            51\n",
              "2                        PC/desktop     26  ...           35            32\n",
              "3  Smart TV/media streaming service     29  ...           37            30\n",
              "4                            Tablet     22  ...           16            18\n",
              "5                     Games console     14  ...            9            13\n",
              "6                     Smart speaker      5  ...            6             6\n",
              "7                     None of these      2  ...            1             7\n",
              "8                        Smartwatch      4  ...            4             5\n",
              "\n",
              "[9 rows x 14 columns]"
            ]
          },
          "metadata": {
            "tags": []
          },
          "execution_count": 56
        }
      ]
    },
    {
      "cell_type": "code",
      "metadata": {
        "id": "G4cuoFn2unFI",
        "colab_type": "code",
        "colab": {
          "base_uri": "https://localhost:8080/",
          "height": 377
        },
        "outputId": "dec03217-98f3-47e6-f1a6-b0571f3f3f3d"
      },
      "source": [
        "dev_usage_country.reset_index()\n",
        "dev_usage_country.set_index('Device', inplace = True)\n",
        "dev_usage_country"
      ],
      "execution_count": 57,
      "outputs": [
        {
          "output_type": "execute_result",
          "data": {
            "text/html": [
              "<div>\n",
              "<style scoped>\n",
              "    .dataframe tbody tr th:only-of-type {\n",
              "        vertical-align: middle;\n",
              "    }\n",
              "\n",
              "    .dataframe tbody tr th {\n",
              "        vertical-align: top;\n",
              "    }\n",
              "\n",
              "    .dataframe thead th {\n",
              "        text-align: right;\n",
              "    }\n",
              "</style>\n",
              "<table border=\"1\" class=\"dataframe\">\n",
              "  <thead>\n",
              "    <tr style=\"text-align: right;\">\n",
              "      <th></th>\n",
              "      <th>Italy</th>\n",
              "      <th>Spain</th>\n",
              "      <th>France</th>\n",
              "      <th>Germany</th>\n",
              "      <th>China</th>\n",
              "      <th>United States</th>\n",
              "      <th>United Kingdom</th>\n",
              "      <th>Singapore</th>\n",
              "      <th>Australia</th>\n",
              "      <th>Brazil</th>\n",
              "      <th>Japan</th>\n",
              "      <th>Philippines</th>\n",
              "      <th>South Africa</th>\n",
              "    </tr>\n",
              "    <tr>\n",
              "      <th>Device</th>\n",
              "      <th></th>\n",
              "      <th></th>\n",
              "      <th></th>\n",
              "      <th></th>\n",
              "      <th></th>\n",
              "      <th></th>\n",
              "      <th></th>\n",
              "      <th></th>\n",
              "      <th></th>\n",
              "      <th></th>\n",
              "      <th></th>\n",
              "      <th></th>\n",
              "      <th></th>\n",
              "    </tr>\n",
              "  </thead>\n",
              "  <tbody>\n",
              "    <tr>\n",
              "      <th>Smartphone/mobile phone</th>\n",
              "      <td>72</td>\n",
              "      <td>64</td>\n",
              "      <td>41</td>\n",
              "      <td>33</td>\n",
              "      <td>86</td>\n",
              "      <td>40</td>\n",
              "      <td>38</td>\n",
              "      <td>64</td>\n",
              "      <td>38</td>\n",
              "      <td>77</td>\n",
              "      <td>47</td>\n",
              "      <td>86</td>\n",
              "      <td>72</td>\n",
              "    </tr>\n",
              "    <tr>\n",
              "      <th>Laptop</th>\n",
              "      <td>47</td>\n",
              "      <td>47</td>\n",
              "      <td>37</td>\n",
              "      <td>29</td>\n",
              "      <td>45</td>\n",
              "      <td>37</td>\n",
              "      <td>31</td>\n",
              "      <td>41</td>\n",
              "      <td>32</td>\n",
              "      <td>37</td>\n",
              "      <td>12</td>\n",
              "      <td>51</td>\n",
              "      <td>51</td>\n",
              "    </tr>\n",
              "    <tr>\n",
              "      <th>PC/desktop</th>\n",
              "      <td>26</td>\n",
              "      <td>28</td>\n",
              "      <td>30</td>\n",
              "      <td>23</td>\n",
              "      <td>35</td>\n",
              "      <td>23</td>\n",
              "      <td>16</td>\n",
              "      <td>21</td>\n",
              "      <td>23</td>\n",
              "      <td>37</td>\n",
              "      <td>46</td>\n",
              "      <td>35</td>\n",
              "      <td>32</td>\n",
              "    </tr>\n",
              "    <tr>\n",
              "      <th>Smart TV/media streaming service</th>\n",
              "      <td>29</td>\n",
              "      <td>35</td>\n",
              "      <td>13</td>\n",
              "      <td>18</td>\n",
              "      <td>32</td>\n",
              "      <td>29</td>\n",
              "      <td>22</td>\n",
              "      <td>18</td>\n",
              "      <td>18</td>\n",
              "      <td>44</td>\n",
              "      <td>11</td>\n",
              "      <td>37</td>\n",
              "      <td>30</td>\n",
              "    </tr>\n",
              "    <tr>\n",
              "      <th>Tablet</th>\n",
              "      <td>22</td>\n",
              "      <td>23</td>\n",
              "      <td>11</td>\n",
              "      <td>12</td>\n",
              "      <td>27</td>\n",
              "      <td>20</td>\n",
              "      <td>17</td>\n",
              "      <td>18</td>\n",
              "      <td>16</td>\n",
              "      <td>11</td>\n",
              "      <td>15</td>\n",
              "      <td>16</td>\n",
              "      <td>18</td>\n",
              "    </tr>\n",
              "    <tr>\n",
              "      <th>Games console</th>\n",
              "      <td>14</td>\n",
              "      <td>12</td>\n",
              "      <td>15</td>\n",
              "      <td>10</td>\n",
              "      <td>14</td>\n",
              "      <td>13</td>\n",
              "      <td>14</td>\n",
              "      <td>8</td>\n",
              "      <td>10</td>\n",
              "      <td>18</td>\n",
              "      <td>16</td>\n",
              "      <td>9</td>\n",
              "      <td>13</td>\n",
              "    </tr>\n",
              "    <tr>\n",
              "      <th>Smart speaker</th>\n",
              "      <td>5</td>\n",
              "      <td>4</td>\n",
              "      <td>3</td>\n",
              "      <td>4</td>\n",
              "      <td>13</td>\n",
              "      <td>8</td>\n",
              "      <td>7</td>\n",
              "      <td>3</td>\n",
              "      <td>5</td>\n",
              "      <td>3</td>\n",
              "      <td>4</td>\n",
              "      <td>6</td>\n",
              "      <td>6</td>\n",
              "    </tr>\n",
              "    <tr>\n",
              "      <th>None of these</th>\n",
              "      <td>2</td>\n",
              "      <td>2</td>\n",
              "      <td>21</td>\n",
              "      <td>34</td>\n",
              "      <td>1</td>\n",
              "      <td>22</td>\n",
              "      <td>26</td>\n",
              "      <td>11</td>\n",
              "      <td>26</td>\n",
              "      <td>5</td>\n",
              "      <td>16</td>\n",
              "      <td>1</td>\n",
              "      <td>7</td>\n",
              "    </tr>\n",
              "    <tr>\n",
              "      <th>Smartwatch</th>\n",
              "      <td>4</td>\n",
              "      <td>4</td>\n",
              "      <td>1</td>\n",
              "      <td>3</td>\n",
              "      <td>8</td>\n",
              "      <td>4</td>\n",
              "      <td>3</td>\n",
              "      <td>7</td>\n",
              "      <td>4</td>\n",
              "      <td>4</td>\n",
              "      <td>4</td>\n",
              "      <td>4</td>\n",
              "      <td>5</td>\n",
              "    </tr>\n",
              "  </tbody>\n",
              "</table>\n",
              "</div>"
            ],
            "text/plain": [
              "                                  Italy  Spain  ...  Philippines  South Africa\n",
              "Device                                          ...                           \n",
              "Smartphone/mobile phone              72     64  ...           86            72\n",
              "Laptop                               47     47  ...           51            51\n",
              "PC/desktop                           26     28  ...           35            32\n",
              "Smart TV/media streaming service     29     35  ...           37            30\n",
              "Tablet                               22     23  ...           16            18\n",
              "Games console                        14     12  ...            9            13\n",
              "Smart speaker                         5      4  ...            6             6\n",
              "None of these                         2      2  ...            1             7\n",
              "Smartwatch                            4      4  ...            4             5\n",
              "\n",
              "[9 rows x 13 columns]"
            ]
          },
          "metadata": {
            "tags": []
          },
          "execution_count": 57
        }
      ]
    },
    {
      "cell_type": "code",
      "metadata": {
        "id": "yzkpaV8Rvwys",
        "colab_type": "code",
        "colab": {
          "base_uri": "https://localhost:8080/",
          "height": 34
        },
        "outputId": "8a554e40-601c-42e3-ac24-931bf04fa72e"
      },
      "source": [
        "def highest_usage_countries(df):\n",
        "  usage = {}\n",
        "  largest = 0\n",
        "\n",
        "  for i in df.columns:\n",
        "    usage[i] = df.loc[:,i].sum()\n",
        "  \n",
        "  count = 0\n",
        "  max_countries = []\n",
        "  while (count != 6):\n",
        "    max_country = max(usage, key = usage.get)\n",
        "    del usage[max_country]\n",
        "    max_countries.append(max_country)\n",
        "    count += 1\n",
        "\n",
        "  return max_countries\n",
        "print(highest_usage_countries(dev_usage_country))"
      ],
      "execution_count": 63,
      "outputs": [
        {
          "output_type": "stream",
          "text": [
            "['China', 'Philippines', 'Brazil', 'South Africa', 'Italy', 'Spain']\n"
          ],
          "name": "stdout"
        }
      ]
    },
    {
      "cell_type": "code",
      "metadata": {
        "id": "PGTs8uyi1doG",
        "colab_type": "code",
        "colab": {
          "base_uri": "https://localhost:8080/",
          "height": 343
        },
        "outputId": "0bf71bd8-2c0c-424e-a68f-cd2355b69fbf"
      },
      "source": [
        "high_usage_countries = highest_usage_countries(dev_usage_country)\n",
        "\n",
        "req_dev_usage_countries = dev_usage_country[highest_usage_countries]\n",
        "req_dev_usage_countries"
      ],
      "execution_count": 65,
      "outputs": [
        {
          "output_type": "execute_result",
          "data": {
            "text/html": [
              "<div>\n",
              "<style scoped>\n",
              "    .dataframe tbody tr th:only-of-type {\n",
              "        vertical-align: middle;\n",
              "    }\n",
              "\n",
              "    .dataframe tbody tr th {\n",
              "        vertical-align: top;\n",
              "    }\n",
              "\n",
              "    .dataframe thead th {\n",
              "        text-align: right;\n",
              "    }\n",
              "</style>\n",
              "<table border=\"1\" class=\"dataframe\">\n",
              "  <thead>\n",
              "    <tr style=\"text-align: right;\">\n",
              "      <th></th>\n",
              "      <th>China</th>\n",
              "      <th>Philippines</th>\n",
              "      <th>Brazil</th>\n",
              "      <th>South Africa</th>\n",
              "      <th>Italy</th>\n",
              "      <th>Spain</th>\n",
              "    </tr>\n",
              "    <tr>\n",
              "      <th>Device</th>\n",
              "      <th></th>\n",
              "      <th></th>\n",
              "      <th></th>\n",
              "      <th></th>\n",
              "      <th></th>\n",
              "      <th></th>\n",
              "    </tr>\n",
              "  </thead>\n",
              "  <tbody>\n",
              "    <tr>\n",
              "      <th>Smartphone/mobile phone</th>\n",
              "      <td>86</td>\n",
              "      <td>86</td>\n",
              "      <td>77</td>\n",
              "      <td>72</td>\n",
              "      <td>72</td>\n",
              "      <td>64</td>\n",
              "    </tr>\n",
              "    <tr>\n",
              "      <th>Laptop</th>\n",
              "      <td>45</td>\n",
              "      <td>51</td>\n",
              "      <td>37</td>\n",
              "      <td>51</td>\n",
              "      <td>47</td>\n",
              "      <td>47</td>\n",
              "    </tr>\n",
              "    <tr>\n",
              "      <th>PC/desktop</th>\n",
              "      <td>35</td>\n",
              "      <td>35</td>\n",
              "      <td>37</td>\n",
              "      <td>32</td>\n",
              "      <td>26</td>\n",
              "      <td>28</td>\n",
              "    </tr>\n",
              "    <tr>\n",
              "      <th>Smart TV/media streaming service</th>\n",
              "      <td>32</td>\n",
              "      <td>37</td>\n",
              "      <td>44</td>\n",
              "      <td>30</td>\n",
              "      <td>29</td>\n",
              "      <td>35</td>\n",
              "    </tr>\n",
              "    <tr>\n",
              "      <th>Tablet</th>\n",
              "      <td>27</td>\n",
              "      <td>16</td>\n",
              "      <td>11</td>\n",
              "      <td>18</td>\n",
              "      <td>22</td>\n",
              "      <td>23</td>\n",
              "    </tr>\n",
              "    <tr>\n",
              "      <th>Games console</th>\n",
              "      <td>14</td>\n",
              "      <td>9</td>\n",
              "      <td>18</td>\n",
              "      <td>13</td>\n",
              "      <td>14</td>\n",
              "      <td>12</td>\n",
              "    </tr>\n",
              "    <tr>\n",
              "      <th>Smart speaker</th>\n",
              "      <td>13</td>\n",
              "      <td>6</td>\n",
              "      <td>3</td>\n",
              "      <td>6</td>\n",
              "      <td>5</td>\n",
              "      <td>4</td>\n",
              "    </tr>\n",
              "    <tr>\n",
              "      <th>None of these</th>\n",
              "      <td>1</td>\n",
              "      <td>1</td>\n",
              "      <td>5</td>\n",
              "      <td>7</td>\n",
              "      <td>2</td>\n",
              "      <td>2</td>\n",
              "    </tr>\n",
              "    <tr>\n",
              "      <th>Smartwatch</th>\n",
              "      <td>8</td>\n",
              "      <td>4</td>\n",
              "      <td>4</td>\n",
              "      <td>5</td>\n",
              "      <td>4</td>\n",
              "      <td>4</td>\n",
              "    </tr>\n",
              "  </tbody>\n",
              "</table>\n",
              "</div>"
            ],
            "text/plain": [
              "                                  China  Philippines  ...  Italy  Spain\n",
              "Device                                                ...              \n",
              "Smartphone/mobile phone              86           86  ...     72     64\n",
              "Laptop                               45           51  ...     47     47\n",
              "PC/desktop                           35           35  ...     26     28\n",
              "Smart TV/media streaming service     32           37  ...     29     35\n",
              "Tablet                               27           16  ...     22     23\n",
              "Games console                        14            9  ...     14     12\n",
              "Smart speaker                        13            6  ...      5      4\n",
              "None of these                         1            1  ...      2      2\n",
              "Smartwatch                            8            4  ...      4      4\n",
              "\n",
              "[9 rows x 6 columns]"
            ]
          },
          "metadata": {
            "tags": []
          },
          "execution_count": 65
        }
      ]
    },
    {
      "cell_type": "code",
      "metadata": {
        "id": "73YH95DW2BrH",
        "colab_type": "code",
        "colab": {
          "base_uri": "https://localhost:8080/",
          "height": 598
        },
        "outputId": "86626ec0-e6fd-4c48-afbc-d03bb4a2efcd"
      },
      "source": [
        "# Plotting Device Usage per Country\n",
        "\n",
        "plt.figure(figsize=[20,10])\n",
        "for i in req_dev_usage_countries.index[:6]:\n",
        "  plt.plot(req_dev_usage_countries.columns, req_dev_usage_countries.loc[i, :], label = i, linewidth = 4, marker = 'o', markersize = 10)\n",
        "plt.title('Device Usage Statistics in April 2020 (Top 6 high usage countries)')\n",
        "plt.ylabel('Devices used [in millions]')\n",
        "plt.xlabel('Country')\n",
        "plt.legend()\n",
        "plt.grid()"
      ],
      "execution_count": 76,
      "outputs": [
        {
          "output_type": "display_data",
          "data": {
            "image/png": "[encoded data removed]",
            "text/plain": [
              "<Figure size 1440x720 with 1 Axes>"
            ]
          },
          "metadata": {
            "tags": []
          }
        }
      ]
    },
    {
      "cell_type": "code",
      "metadata": {
        "id": "qqx6kbqq4Bw6",
        "colab_type": "code",
        "colab": {
          "base_uri": "https://localhost:8080/",
          "height": 666
        },
        "outputId": "d803cddf-c914-474a-e500-07c3f1c247e7"
      },
      "source": [
        "# Net device usage per country\n",
        "\n",
        "sns.set()\n",
        "req_dev_usage_countries.T.plot(kind = 'bar', stacked = True, figsize = [20,10]).set(title = 'Net device usage in April 2020 (Top 6 high usage countries)', ylabel = 'Number of devices used [in millions]')\n"
      ],
      "execution_count": 77,
      "outputs": [
        {
          "output_type": "execute_result",
          "data": {
            "text/plain": [
              "[Text(0, 0.5, 'Number of devices used [in millions]'),\n",
              " Text(0.5, 1.0, 'Net device usage in April 2020 (Top 6 high usage countries)')]"
            ]
          },
          "metadata": {
            "tags": []
          },
          "execution_count": 77
        },
        {
          "output_type": "display_data",
          "data": {
            "image/png": "[encoded data removed]",
            "text/plain": [
              "<Figure size 1440x720 with 1 Axes>"
            ]
          },
          "metadata": {
            "tags": []
          }
        }
      ]
    },
    {
      "cell_type": "code",
      "metadata": {
        "id": "qIhXu4OvNY4i",
        "colab_type": "code",
        "colab": {
          "base_uri": "https://localhost:8080/",
          "height": 818
        },
        "outputId": "ad89b6f0-a8d0-4ce6-a27a-9b7175465aff"
      },
      "source": [
        "# In-home media consumption (in-home_media_consumption)\n",
        "\n",
        "home_media = pd.read_excel('in-home_media_consumption_march_2020.xlsx')\n",
        "home_media"
      ],
      "execution_count": 79,
      "outputs": [
        {
          "output_type": "execute_result",
          "data": {
            "text/html": [
              "<div>\n",
              "<style scoped>\n",
              "    .dataframe tbody tr th:only-of-type {\n",
              "        vertical-align: middle;\n",
              "    }\n",
              "\n",
              "    .dataframe tbody tr th {\n",
              "        vertical-align: top;\n",
              "    }\n",
              "\n",
              "    .dataframe thead th {\n",
              "        text-align: right;\n",
              "    }\n",
              "</style>\n",
              "<table border=\"1\" class=\"dataframe\">\n",
              "  <thead>\n",
              "    <tr style=\"text-align: right;\">\n",
              "      <th></th>\n",
              "      <th>Activity</th>\n",
              "      <th>Worldwide</th>\n",
              "      <th>Italy</th>\n",
              "      <th>Spain</th>\n",
              "      <th>France</th>\n",
              "      <th>Germany</th>\n",
              "      <th>China</th>\n",
              "      <th>United States</th>\n",
              "      <th>United Kingdom</th>\n",
              "      <th>Singapore</th>\n",
              "      <th>Australia</th>\n",
              "      <th>Brazil</th>\n",
              "      <th>Japan</th>\n",
              "      <th>Philippines</th>\n",
              "      <th>South Africa</th>\n",
              "    </tr>\n",
              "  </thead>\n",
              "  <tbody>\n",
              "    <tr>\n",
              "      <th>0</th>\n",
              "      <td>Watching more news coverage</td>\n",
              "      <td>67</td>\n",
              "      <td>67</td>\n",
              "      <td>63</td>\n",
              "      <td>50</td>\n",
              "      <td>60</td>\n",
              "      <td>77</td>\n",
              "      <td>43</td>\n",
              "      <td>50</td>\n",
              "      <td>57</td>\n",
              "      <td>42</td>\n",
              "      <td>69</td>\n",
              "      <td>56</td>\n",
              "      <td>79</td>\n",
              "      <td>61</td>\n",
              "    </tr>\n",
              "    <tr>\n",
              "      <th>1</th>\n",
              "      <td>Watching more shows/films on streaming service...</td>\n",
              "      <td>51</td>\n",
              "      <td>53</td>\n",
              "      <td>58</td>\n",
              "      <td>31</td>\n",
              "      <td>21</td>\n",
              "      <td>63</td>\n",
              "      <td>42</td>\n",
              "      <td>32</td>\n",
              "      <td>35</td>\n",
              "      <td>30</td>\n",
              "      <td>43</td>\n",
              "      <td>21</td>\n",
              "      <td>61</td>\n",
              "      <td>39</td>\n",
              "    </tr>\n",
              "    <tr>\n",
              "      <th>2</th>\n",
              "      <td>Watching more TV on broadcast channels</td>\n",
              "      <td>45</td>\n",
              "      <td>55</td>\n",
              "      <td>43</td>\n",
              "      <td>53</td>\n",
              "      <td>35</td>\n",
              "      <td>46</td>\n",
              "      <td>42</td>\n",
              "      <td>32</td>\n",
              "      <td>32</td>\n",
              "      <td>32</td>\n",
              "      <td>43</td>\n",
              "      <td>51</td>\n",
              "      <td>70</td>\n",
              "      <td>46</td>\n",
              "    </tr>\n",
              "    <tr>\n",
              "      <th>3</th>\n",
              "      <td>Spending longer on messaging services (e.g. Wh...</td>\n",
              "      <td>45</td>\n",
              "      <td>60</td>\n",
              "      <td>61</td>\n",
              "      <td>24</td>\n",
              "      <td>22</td>\n",
              "      <td>59</td>\n",
              "      <td>17</td>\n",
              "      <td>24</td>\n",
              "      <td>35</td>\n",
              "      <td>19</td>\n",
              "      <td>48</td>\n",
              "      <td>8</td>\n",
              "      <td>55</td>\n",
              "      <td>45</td>\n",
              "    </tr>\n",
              "    <tr>\n",
              "      <th>4</th>\n",
              "      <td>Spending longer on social media (e.g. Facebook...</td>\n",
              "      <td>44</td>\n",
              "      <td>52</td>\n",
              "      <td>49</td>\n",
              "      <td>27</td>\n",
              "      <td>21</td>\n",
              "      <td>50</td>\n",
              "      <td>32</td>\n",
              "      <td>21</td>\n",
              "      <td>39</td>\n",
              "      <td>28</td>\n",
              "      <td>50</td>\n",
              "      <td>23</td>\n",
              "      <td>71</td>\n",
              "      <td>44</td>\n",
              "    </tr>\n",
              "    <tr>\n",
              "      <th>5</th>\n",
              "      <td>Spending more time on computer/video games</td>\n",
              "      <td>36</td>\n",
              "      <td>41</td>\n",
              "      <td>48</td>\n",
              "      <td>39</td>\n",
              "      <td>21</td>\n",
              "      <td>29</td>\n",
              "      <td>29</td>\n",
              "      <td>20</td>\n",
              "      <td>25</td>\n",
              "      <td>24</td>\n",
              "      <td>41</td>\n",
              "      <td>32</td>\n",
              "      <td>40</td>\n",
              "      <td>32</td>\n",
              "    </tr>\n",
              "    <tr>\n",
              "      <th>6</th>\n",
              "      <td>Reading more books/listening to more audiobooks</td>\n",
              "      <td>35</td>\n",
              "      <td>36</td>\n",
              "      <td>42</td>\n",
              "      <td>24</td>\n",
              "      <td>19</td>\n",
              "      <td>44</td>\n",
              "      <td>25</td>\n",
              "      <td>19</td>\n",
              "      <td>18</td>\n",
              "      <td>16</td>\n",
              "      <td>27</td>\n",
              "      <td>18</td>\n",
              "      <td>27</td>\n",
              "      <td>26</td>\n",
              "    </tr>\n",
              "    <tr>\n",
              "      <th>7</th>\n",
              "      <td>Listening to more streaming services (e.g. App...</td>\n",
              "      <td>35</td>\n",
              "      <td>25</td>\n",
              "      <td>27</td>\n",
              "      <td>14</td>\n",
              "      <td>13</td>\n",
              "      <td>49</td>\n",
              "      <td>18</td>\n",
              "      <td>14</td>\n",
              "      <td>17</td>\n",
              "      <td>16</td>\n",
              "      <td>30</td>\n",
              "      <td>11</td>\n",
              "      <td>43</td>\n",
              "      <td>22</td>\n",
              "    </tr>\n",
              "    <tr>\n",
              "      <th>8</th>\n",
              "      <td>Listening to more radio</td>\n",
              "      <td>18</td>\n",
              "      <td>29</td>\n",
              "      <td>32</td>\n",
              "      <td>23</td>\n",
              "      <td>24</td>\n",
              "      <td>16</td>\n",
              "      <td>16</td>\n",
              "      <td>17</td>\n",
              "      <td>20</td>\n",
              "      <td>15</td>\n",
              "      <td>18</td>\n",
              "      <td>9</td>\n",
              "      <td>32</td>\n",
              "      <td>36</td>\n",
              "    </tr>\n",
              "    <tr>\n",
              "      <th>9</th>\n",
              "      <td>Reading more magazines</td>\n",
              "      <td>16</td>\n",
              "      <td>23</td>\n",
              "      <td>22</td>\n",
              "      <td>14</td>\n",
              "      <td>17</td>\n",
              "      <td>14</td>\n",
              "      <td>12</td>\n",
              "      <td>15</td>\n",
              "      <td>29</td>\n",
              "      <td>14</td>\n",
              "      <td>22</td>\n",
              "      <td>16</td>\n",
              "      <td>23</td>\n",
              "      <td>24</td>\n",
              "    </tr>\n",
              "    <tr>\n",
              "      <th>10</th>\n",
              "      <td>Reading more newspapers</td>\n",
              "      <td>14</td>\n",
              "      <td>18</td>\n",
              "      <td>14</td>\n",
              "      <td>14</td>\n",
              "      <td>10</td>\n",
              "      <td>17</td>\n",
              "      <td>12</td>\n",
              "      <td>9</td>\n",
              "      <td>9</td>\n",
              "      <td>5</td>\n",
              "      <td>12</td>\n",
              "      <td>7</td>\n",
              "      <td>12</td>\n",
              "      <td>11</td>\n",
              "    </tr>\n",
              "    <tr>\n",
              "      <th>11</th>\n",
              "      <td>Creating/uploading videos (e.g. on Tik Tok, Yo...</td>\n",
              "      <td>14</td>\n",
              "      <td>10</td>\n",
              "      <td>15</td>\n",
              "      <td>7</td>\n",
              "      <td>5</td>\n",
              "      <td>17</td>\n",
              "      <td>6</td>\n",
              "      <td>6</td>\n",
              "      <td>9</td>\n",
              "      <td>6</td>\n",
              "      <td>21</td>\n",
              "      <td>5</td>\n",
              "      <td>17</td>\n",
              "      <td>12</td>\n",
              "    </tr>\n",
              "    <tr>\n",
              "      <th>12</th>\n",
              "      <td>Listening to more podcasts</td>\n",
              "      <td>12</td>\n",
              "      <td>8</td>\n",
              "      <td>10</td>\n",
              "      <td>6</td>\n",
              "      <td>6</td>\n",
              "      <td>13</td>\n",
              "      <td>10</td>\n",
              "      <td>11</td>\n",
              "      <td>9</td>\n",
              "      <td>11</td>\n",
              "      <td>15</td>\n",
              "      <td>4</td>\n",
              "      <td>17</td>\n",
              "      <td>13</td>\n",
              "    </tr>\n",
              "  </tbody>\n",
              "</table>\n",
              "</div>"
            ],
            "text/plain": [
              "                                             Activity  ...  South Africa\n",
              "0                         Watching more news coverage  ...            61\n",
              "1   Watching more shows/films on streaming service...  ...            39\n",
              "2              Watching more TV on broadcast channels  ...            46\n",
              "3   Spending longer on messaging services (e.g. Wh...  ...            45\n",
              "4   Spending longer on social media (e.g. Facebook...  ...            44\n",
              "5          Spending more time on computer/video games  ...            32\n",
              "6     Reading more books/listening to more audiobooks  ...            26\n",
              "7   Listening to more streaming services (e.g. App...  ...            22\n",
              "8                             Listening to more radio  ...            36\n",
              "9                              Reading more magazines  ...            24\n",
              "10                            Reading more newspapers  ...            11\n",
              "11  Creating/uploading videos (e.g. on Tik Tok, Yo...  ...            12\n",
              "12                         Listening to more podcasts  ...            13\n",
              "\n",
              "[13 rows x 15 columns]"
            ]
          },
          "metadata": {
            "tags": []
          },
          "execution_count": 79
        }
      ]
    },
    {
      "cell_type": "code",
      "metadata": {
        "id": "xbgWXD6PCBNV",
        "colab_type": "code",
        "colab": {
          "base_uri": "https://localhost:8080/",
          "height": 269
        },
        "outputId": "a57da845-006c-4d9a-e5e3-31f798bac17b"
      },
      "source": [
        "# Splitting the data into a DataFrame for worldwide stats\n",
        "home_media.reset_index()\n",
        "home_media.set_index('Activity', inplace=True)\n",
        "worldwide_home_media = home_media['Worldwide']\n",
        "worldwide_home_media"
      ],
      "execution_count": 80,
      "outputs": [
        {
          "output_type": "execute_result",
          "data": {
            "text/plain": [
              "Activity\n",
              "Watching more news coverage                                                      67\n",
              "Watching more shows/films on streaming services (e.g. Netflix)                   51\n",
              "Watching more TV on broadcast channels                                           45\n",
              "Spending longer on messaging services (e.g. WhatApp, Facebook Messenger, etc)    45\n",
              "Spending longer on social media (e.g. Facebook, Instagram, Twitter etc)          44\n",
              "Spending more time on computer/video games                                       36\n",
              "Reading more books/listening to more audiobooks                                  35\n",
              "Listening to more streaming services (e.g. Apple Music, Spotify etc)             35\n",
              "Listening to more radio                                                          18\n",
              "Reading more magazines                                                           16\n",
              "Reading more newspapers                                                          14\n",
              "Creating/uploading videos (e.g. on Tik Tok, YouTube etc)                         14\n",
              "Listening to more podcasts                                                       12\n",
              "Name: Worldwide, dtype: int64"
            ]
          },
          "metadata": {
            "tags": []
          },
          "execution_count": 80
        }
      ]
    },
    {
      "cell_type": "code",
      "metadata": {
        "id": "NNs_c1tcCiUS",
        "colab_type": "code",
        "colab": {
          "base_uri": "https://localhost:8080/",
          "height": 491
        },
        "outputId": "fe77822d-26f0-4212-c5c5-7eee50555a4c"
      },
      "source": [
        "# Obtaining a pie chart summarising the data worldwide\n",
        "\n",
        "worldwide_home_media.plot(kind = 'pie', subplots = True, figsize = (8,8))"
      ],
      "execution_count": 81,
      "outputs": [
        {
          "output_type": "execute_result",
          "data": {
            "text/plain": [
              "array([<matplotlib.axes._subplots.AxesSubplot object at 0x7f9653639c18>],\n",
              "      dtype=object)"
            ]
          },
          "metadata": {
            "tags": []
          },
          "execution_count": 81
        },
        {
          "output_type": "display_data",
          "data": {
            "image/png": "[encoded data removed]",
            "text/plain": [
              "<Figure size 576x576 with 1 Axes>"
            ]
          },
          "metadata": {
            "tags": []
          }
        }
      ]
    },
    {
      "cell_type": "code",
      "metadata": {
        "id": "mu0668oLD87q",
        "colab_type": "code",
        "colab": {
          "base_uri": "https://localhost:8080/",
          "height": 34
        },
        "outputId": "62f91304-a022-4803-89b0-c423a9335ccc"
      },
      "source": [
        "# News viewership, newspapers, magazines, radio in the most affected countries\n",
        "\n",
        "most_affected_countries = affected[:4]\n",
        "most_affected_countries"
      ],
      "execution_count": 82,
      "outputs": [
        {
          "output_type": "execute_result",
          "data": {
            "text/plain": [
              "['United States', 'China', 'Italy', 'Spain']"
            ]
          },
          "metadata": {
            "tags": []
          },
          "execution_count": 82
        }
      ]
    },
    {
      "cell_type": "code",
      "metadata": {
        "id": "0JK_hvouGm1d",
        "colab_type": "code",
        "colab": {
          "base_uri": "https://localhost:8080/",
          "height": 462
        },
        "outputId": "d5b26965-8354-4ae3-d71e-de0c3680b753"
      },
      "source": [
        "# Group 1: (Serious)- News viewership, newspapers, magazines, radio\n",
        "# Group 2: (Social Media)- Messaging services, social media, Tik Tok\n",
        "# Group 3: (Entertainment)- Podcasts, streaming services, books, video games, TV, Netflix\n",
        "\n",
        "country_home_media = home_media.loc[:,most_affected_countries]\n",
        "country_home_media"
      ],
      "execution_count": 99,
      "outputs": [
        {
          "output_type": "execute_result",
          "data": {
            "text/html": [
              "<div>\n",
              "<style scoped>\n",
              "    .dataframe tbody tr th:only-of-type {\n",
              "        vertical-align: middle;\n",
              "    }\n",
              "\n",
              "    .dataframe tbody tr th {\n",
              "        vertical-align: top;\n",
              "    }\n",
              "\n",
              "    .dataframe thead th {\n",
              "        text-align: right;\n",
              "    }\n",
              "</style>\n",
              "<table border=\"1\" class=\"dataframe\">\n",
              "  <thead>\n",
              "    <tr style=\"text-align: right;\">\n",
              "      <th></th>\n",
              "      <th>United States</th>\n",
              "      <th>China</th>\n",
              "      <th>Italy</th>\n",
              "      <th>Spain</th>\n",
              "    </tr>\n",
              "    <tr>\n",
              "      <th>Activity</th>\n",
              "      <th></th>\n",
              "      <th></th>\n",
              "      <th></th>\n",
              "      <th></th>\n",
              "    </tr>\n",
              "  </thead>\n",
              "  <tbody>\n",
              "    <tr>\n",
              "      <th>Watching more news coverage</th>\n",
              "      <td>43</td>\n",
              "      <td>77</td>\n",
              "      <td>67</td>\n",
              "      <td>63</td>\n",
              "    </tr>\n",
              "    <tr>\n",
              "      <th>Watching more shows/films on streaming services (e.g. Netflix)</th>\n",
              "      <td>42</td>\n",
              "      <td>63</td>\n",
              "      <td>53</td>\n",
              "      <td>58</td>\n",
              "    </tr>\n",
              "    <tr>\n",
              "      <th>Watching more TV on broadcast channels</th>\n",
              "      <td>42</td>\n",
              "      <td>46</td>\n",
              "      <td>55</td>\n",
              "      <td>43</td>\n",
              "    </tr>\n",
              "    <tr>\n",
              "      <th>Spending longer on messaging services (e.g. WhatApp, Facebook Messenger, etc)</th>\n",
              "      <td>17</td>\n",
              "      <td>59</td>\n",
              "      <td>60</td>\n",
              "      <td>61</td>\n",
              "    </tr>\n",
              "    <tr>\n",
              "      <th>Spending longer on social media (e.g. Facebook, Instagram, Twitter etc)</th>\n",
              "      <td>32</td>\n",
              "      <td>50</td>\n",
              "      <td>52</td>\n",
              "      <td>49</td>\n",
              "    </tr>\n",
              "    <tr>\n",
              "      <th>Spending more time on computer/video games</th>\n",
              "      <td>29</td>\n",
              "      <td>29</td>\n",
              "      <td>41</td>\n",
              "      <td>48</td>\n",
              "    </tr>\n",
              "    <tr>\n",
              "      <th>Reading more books/listening to more audiobooks</th>\n",
              "      <td>25</td>\n",
              "      <td>44</td>\n",
              "      <td>36</td>\n",
              "      <td>42</td>\n",
              "    </tr>\n",
              "    <tr>\n",
              "      <th>Listening to more streaming services (e.g. Apple Music, Spotify etc)</th>\n",
              "      <td>18</td>\n",
              "      <td>49</td>\n",
              "      <td>25</td>\n",
              "      <td>27</td>\n",
              "    </tr>\n",
              "    <tr>\n",
              "      <th>Listening to more radio</th>\n",
              "      <td>16</td>\n",
              "      <td>16</td>\n",
              "      <td>29</td>\n",
              "      <td>32</td>\n",
              "    </tr>\n",
              "    <tr>\n",
              "      <th>Reading more magazines</th>\n",
              "      <td>12</td>\n",
              "      <td>14</td>\n",
              "      <td>23</td>\n",
              "      <td>22</td>\n",
              "    </tr>\n",
              "    <tr>\n",
              "      <th>Reading more newspapers</th>\n",
              "      <td>12</td>\n",
              "      <td>17</td>\n",
              "      <td>18</td>\n",
              "      <td>14</td>\n",
              "    </tr>\n",
              "    <tr>\n",
              "      <th>Creating/uploading videos (e.g. on Tik Tok, YouTube etc)</th>\n",
              "      <td>6</td>\n",
              "      <td>17</td>\n",
              "      <td>10</td>\n",
              "      <td>15</td>\n",
              "    </tr>\n",
              "    <tr>\n",
              "      <th>Listening to more podcasts</th>\n",
              "      <td>10</td>\n",
              "      <td>13</td>\n",
              "      <td>8</td>\n",
              "      <td>10</td>\n",
              "    </tr>\n",
              "  </tbody>\n",
              "</table>\n",
              "</div>"
            ],
            "text/plain": [
              "                                                    United States  ...  Spain\n",
              "Activity                                                           ...       \n",
              "Watching more news coverage                                    43  ...     63\n",
              "Watching more shows/films on streaming services...             42  ...     58\n",
              "Watching more TV on broadcast channels                         42  ...     43\n",
              "Spending longer on messaging services (e.g. Wha...             17  ...     61\n",
              "Spending longer on social media (e.g. Facebook,...             32  ...     49\n",
              "Spending more time on computer/video games                     29  ...     48\n",
              "Reading more books/listening to more audiobooks                25  ...     42\n",
              "Listening to more streaming services (e.g. Appl...             18  ...     27\n",
              "Listening to more radio                                        16  ...     32\n",
              "Reading more magazines                                         12  ...     22\n",
              "Reading more newspapers                                        12  ...     14\n",
              "Creating/uploading videos (e.g. on Tik Tok, You...              6  ...     15\n",
              "Listening to more podcasts                                     10  ...     10\n",
              "\n",
              "[13 rows x 4 columns]"
            ]
          },
          "metadata": {
            "tags": []
          },
          "execution_count": 99
        }
      ]
    },
    {
      "cell_type": "code",
      "metadata": {
        "id": "PwAK7WiLLxvD",
        "colab_type": "code",
        "colab": {
          "base_uri": "https://localhost:8080/",
          "height": 166
        },
        "outputId": "5a8cf3fb-fa6d-43af-bdfa-9f4c5358d72c"
      },
      "source": [
        "country_home_media.loc['Watching more news coverage',:] = country_home_media.loc['Watching more news coverage',:] + country_home_media.loc['Reading more newspapers',:] + country_home_media.loc['Reading more magazines',:] + country_home_media.loc['Listening to more radio',:]\n",
        "country_home_media.drop(['Reading more newspapers', 'Reading more magazines', 'Listening to more radio'], axis = 0, inplace = True)\n",
        "\n",
        "country_home_media.loc['Spending longer on social media (e.g. Facebook, Instagram, Twitter etc)',:] = country_home_media.loc['Spending longer on social media (e.g. Facebook, Instagram, Twitter etc)',:] + country_home_media.loc['Spending longer on messaging services (e.g. WhatApp, Facebook Messenger, etc)',:] + country_home_media.loc['Creating/uploading videos (e.g. on Tik Tok, YouTube etc)',:]\n",
        "country_home_media.drop(['Creating/uploading videos (e.g. on Tik Tok, YouTube etc)', 'Spending longer on messaging services (e.g. WhatApp, Facebook Messenger, etc)'], axis = 0, inplace = True)\n",
        "\n",
        "country_home_media.loc['Listening to more podcasts',:] = country_home_media.loc['Listening to more streaming services (e.g. Apple Music, Spotify etc)',:] + country_home_media.loc['Watching more shows/films on streaming services (e.g. Netflix)',:] + country_home_media.loc['Watching more TV on broadcast channels',:] + country_home_media.loc['Spending more time on computer/video games',:] + country_home_media.loc['Reading more books/listening to more audiobooks',:]\n",
        "country_home_media.drop(['Listening to more streaming services (e.g. Apple Music, Spotify etc)', 'Watching more shows/films on streaming services (e.g. Netflix)', 'Watching more TV on broadcast channels', 'Spending more time on computer/video games', 'Reading more books/listening to more audiobooks'], axis = 0, inplace = True)\n",
        "\n",
        "country_home_media = country_home_media.rename(index = {'Watching more news coverage' : 'Serious about the pandemic', 'Spending longer on social media (e.g. Facebook, Instagram, Twitter etc)' : 'Active on Social Media', 'Listening to more podcasts' : 'Spending time on Netflix, TV and reading books'})\n",
        "country_home_media"
      ],
      "execution_count": 100,
      "outputs": [
        {
          "output_type": "execute_result",
          "data": {
            "text/html": [
              "<div>\n",
              "<style scoped>\n",
              "    .dataframe tbody tr th:only-of-type {\n",
              "        vertical-align: middle;\n",
              "    }\n",
              "\n",
              "    .dataframe tbody tr th {\n",
              "        vertical-align: top;\n",
              "    }\n",
              "\n",
              "    .dataframe thead th {\n",
              "        text-align: right;\n",
              "    }\n",
              "</style>\n",
              "<table border=\"1\" class=\"dataframe\">\n",
              "  <thead>\n",
              "    <tr style=\"text-align: right;\">\n",
              "      <th></th>\n",
              "      <th>United States</th>\n",
              "      <th>China</th>\n",
              "      <th>Italy</th>\n",
              "      <th>Spain</th>\n",
              "    </tr>\n",
              "    <tr>\n",
              "      <th>Activity</th>\n",
              "      <th></th>\n",
              "      <th></th>\n",
              "      <th></th>\n",
              "      <th></th>\n",
              "    </tr>\n",
              "  </thead>\n",
              "  <tbody>\n",
              "    <tr>\n",
              "      <th>Serious about the pandemic</th>\n",
              "      <td>83</td>\n",
              "      <td>124</td>\n",
              "      <td>137</td>\n",
              "      <td>131</td>\n",
              "    </tr>\n",
              "    <tr>\n",
              "      <th>Active on Social Media</th>\n",
              "      <td>55</td>\n",
              "      <td>126</td>\n",
              "      <td>122</td>\n",
              "      <td>125</td>\n",
              "    </tr>\n",
              "    <tr>\n",
              "      <th>Spending time on Netflix, TV and reading books</th>\n",
              "      <td>156</td>\n",
              "      <td>231</td>\n",
              "      <td>210</td>\n",
              "      <td>218</td>\n",
              "    </tr>\n",
              "  </tbody>\n",
              "</table>\n",
              "</div>"
            ],
            "text/plain": [
              "                                                United States  ...  Spain\n",
              "Activity                                                       ...       \n",
              "Serious about the pandemic                                 83  ...    131\n",
              "Active on Social Media                                     55  ...    125\n",
              "Spending time on Netflix, TV and reading books            156  ...    218\n",
              "\n",
              "[3 rows x 4 columns]"
            ]
          },
          "metadata": {
            "tags": []
          },
          "execution_count": 100
        }
      ]
    },
    {
      "cell_type": "code",
      "metadata": {
        "id": "9evSerAT_2xI",
        "colab_type": "code",
        "colab": {}
      },
      "source": [
        ""
      ],
      "execution_count": 0,
      "outputs": []
    },
    {
      "cell_type": "code",
      "metadata": {
        "id": "rMvksJCkFy_N",
        "colab_type": "code",
        "colab": {}
      },
      "source": [
        "# Miscellaneous activities in most affected countries to observe how laid back the people are"
      ],
      "execution_count": 0,
      "outputs": []
    },
    {
      "cell_type": "code",
      "metadata": {
        "id": "KRRZH9AnOAJl",
        "colab_type": "code",
        "colab": {}
      },
      "source": [
        "# OTT (all OTT files)"
      ],
      "execution_count": 0,
      "outputs": []
    },
    {
      "cell_type": "code",
      "metadata": {
        "id": "JwHWFIRKO1B-",
        "colab_type": "code",
        "colab": {}
      },
      "source": [
        "# netflix_q1_regionwise"
      ],
      "execution_count": 0,
      "outputs": []
    },
    {
      "cell_type": "code",
      "metadata": {
        "id": "qk_BSirxPEMq",
        "colab_type": "code",
        "colab": {}
      },
      "source": [
        "# disney+_increase"
      ],
      "execution_count": 0,
      "outputs": []
    },
    {
      "cell_type": "code",
      "metadata": {
        "id": "TJ9fW9EpPOQA",
        "colab_type": "code",
        "colab": {}
      },
      "source": [
        "# social_network"
      ],
      "execution_count": 0,
      "outputs": []
    },
    {
      "cell_type": "code",
      "metadata": {
        "id": "3miMDkIOPT2a",
        "colab_type": "code",
        "colab": {}
      },
      "source": [
        "# csgo_increase, cod_warzone"
      ],
      "execution_count": 0,
      "outputs": []
    }
  ]
}