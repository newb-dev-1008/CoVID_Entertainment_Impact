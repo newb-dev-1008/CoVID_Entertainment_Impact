{
  "nbformat": 4,
  "nbformat_minor": 0,
  "metadata": {
    "colab": {
      "name": "Entertainment during CoVID-19.ipynb",
      "provenance": [],
      "toc_visible": true,
      "authorship_tag": "ABX9TyNSIJ6fgWNaa7Sj7ZRUoJLa"
    },
    "kernelspec": {
      "name": "python3",
      "display_name": "Python 3"
    }
  },
  "cells": [
    {
      "cell_type": "markdown",
      "metadata": {
        "id": "ACdXlCq5QS5q",
        "colab_type": "text"
      },
      "source": [
        "# **Impact of CoVID-19 and nationwide lockdowns on the Entertainment Industry**\n",
        "\n",
        "## **Objectives/ guidelines:**\n",
        "\n",
        "*   Segregate all data region-wise\n",
        "*   Determining the worst-hit countries and regions\n",
        "*   Observing the spike in subscriptions to OTTs like **Netflix, Amazon Prime Video, Disney+ Hotstar**, etc.\n",
        "*   Drawing insights into daily usage of devices connected to the Internet\n",
        "*   Briefly comprehending the significance of television and social media as a source of entertainment\n",
        "*   Accounting for the rise in online gaming and e-sports, and visualizing the impact on services like **Twitch**, **Steam** and **Discord**.\n",
        "*   Consequently, understanding the increase in data usage.\n",
        "\n",
        "\n",
        "\n",
        "\n"
      ]
    },
    {
      "cell_type": "markdown",
      "metadata": {
        "id": "KJ9SVinvE0Bj",
        "colab_type": "text"
      },
      "source": [
        "## **Data Sources and Bibliography**"
      ]
    },
    {
      "cell_type": "markdown",
      "metadata": {
        "id": "JVyPi43cC7G-",
        "colab_type": "text"
      },
      "source": [
        "# **Part 1:**\n",
        "\n",
        "### **Cleaning data and tracing the spread of CoVID-19 to determine the worst-hit countries**\n",
        "\n",
        "After scraping websites on the Internet and reputed data warehouses, data in the form of **comma seperated values (CSV) files** have been obtained. \n",
        "\n",
        "This data needs to be cleaned and organised, so that powerful functions from **Python's pandas and sklearn libraries** can be used for fruitful data analysis.\n",
        "\n",
        "Data from CSV files will be stored in pandas **DataFrames**; a relational data management structure that stores data in rows and columns for easy, linear access."
      ]
    },
    {
      "cell_type": "code",
      "metadata": {
        "id": "s5zzYpmiQL6M",
        "colab_type": "code",
        "colab": {}
      },
      "source": [
        "import pandas as pd\n",
        "\n",
        "latitudes = pd.read_csv('latitudes.csv')\n",
        "covid_data = pd.read_csv('covid_19_data.csv')"
      ],
      "execution_count": 0,
      "outputs": []
    },
    {
      "cell_type": "code",
      "metadata": {
        "id": "49MKoGTEU_Jf",
        "colab_type": "code",
        "outputId": "efecc272-0c19-416d-99bf-6e3310482cb3",
        "colab": {
          "base_uri": "https://localhost:8080/",
          "height": 195
        }
      },
      "source": [
        "latitudes_countries = latitudes.iloc[:, :4]\n",
        "latitudes_countries.head()"
      ],
      "execution_count": 25,
      "outputs": [
        {
          "output_type": "execute_result",
          "data": {
            "text/html": [
              "<div>\n",
              "<style scoped>\n",
              "    .dataframe tbody tr th:only-of-type {\n",
              "        vertical-align: middle;\n",
              "    }\n",
              "\n",
              "    .dataframe tbody tr th {\n",
              "        vertical-align: top;\n",
              "    }\n",
              "\n",
              "    .dataframe thead th {\n",
              "        text-align: right;\n",
              "    }\n",
              "</style>\n",
              "<table border=\"1\" class=\"dataframe\">\n",
              "  <thead>\n",
              "    <tr style=\"text-align: right;\">\n",
              "      <th></th>\n",
              "      <th>country_code</th>\n",
              "      <th>latitude</th>\n",
              "      <th>longitude</th>\n",
              "      <th>country</th>\n",
              "    </tr>\n",
              "  </thead>\n",
              "  <tbody>\n",
              "    <tr>\n",
              "      <th>0</th>\n",
              "      <td>AD</td>\n",
              "      <td>42.546245</td>\n",
              "      <td>1.601554</td>\n",
              "      <td>Andorra</td>\n",
              "    </tr>\n",
              "    <tr>\n",
              "      <th>1</th>\n",
              "      <td>AE</td>\n",
              "      <td>23.424076</td>\n",
              "      <td>53.847818</td>\n",
              "      <td>United Arab Emirates</td>\n",
              "    </tr>\n",
              "    <tr>\n",
              "      <th>2</th>\n",
              "      <td>AF</td>\n",
              "      <td>33.939110</td>\n",
              "      <td>67.709953</td>\n",
              "      <td>Afghanistan</td>\n",
              "    </tr>\n",
              "    <tr>\n",
              "      <th>3</th>\n",
              "      <td>AG</td>\n",
              "      <td>17.060816</td>\n",
              "      <td>-61.796428</td>\n",
              "      <td>Antigua and Barbuda</td>\n",
              "    </tr>\n",
              "    <tr>\n",
              "      <th>4</th>\n",
              "      <td>AI</td>\n",
              "      <td>18.220554</td>\n",
              "      <td>-63.068615</td>\n",
              "      <td>Anguilla</td>\n",
              "    </tr>\n",
              "  </tbody>\n",
              "</table>\n",
              "</div>"
            ],
            "text/plain": [
              "  country_code   latitude  longitude               country\n",
              "0           AD  42.546245   1.601554               Andorra\n",
              "1           AE  23.424076  53.847818  United Arab Emirates\n",
              "2           AF  33.939110  67.709953           Afghanistan\n",
              "3           AG  17.060816 -61.796428   Antigua and Barbuda\n",
              "4           AI  18.220554 -63.068615              Anguilla"
            ]
          },
          "metadata": {
            "tags": []
          },
          "execution_count": 25
        }
      ]
    },
    {
      "cell_type": "code",
      "metadata": {
        "id": "F-8qgZ4pVFjD",
        "colab_type": "code",
        "outputId": "b002679d-d571-4625-854c-2ff9ecc6ff5e",
        "colab": {
          "base_uri": "https://localhost:8080/",
          "height": 195
        }
      },
      "source": [
        "covid_data.head()"
      ],
      "execution_count": 26,
      "outputs": [
        {
          "output_type": "execute_result",
          "data": {
            "text/html": [
              "<div>\n",
              "<style scoped>\n",
              "    .dataframe tbody tr th:only-of-type {\n",
              "        vertical-align: middle;\n",
              "    }\n",
              "\n",
              "    .dataframe tbody tr th {\n",
              "        vertical-align: top;\n",
              "    }\n",
              "\n",
              "    .dataframe thead th {\n",
              "        text-align: right;\n",
              "    }\n",
              "</style>\n",
              "<table border=\"1\" class=\"dataframe\">\n",
              "  <thead>\n",
              "    <tr style=\"text-align: right;\">\n",
              "      <th></th>\n",
              "      <th>Date</th>\n",
              "      <th>Country/Region</th>\n",
              "      <th>Province/State</th>\n",
              "      <th>Lat</th>\n",
              "      <th>Long</th>\n",
              "      <th>Confirmed</th>\n",
              "      <th>Recovered</th>\n",
              "      <th>Deaths</th>\n",
              "    </tr>\n",
              "  </thead>\n",
              "  <tbody>\n",
              "    <tr>\n",
              "      <th>0</th>\n",
              "      <td>2020-01-22</td>\n",
              "      <td>Afghanistan</td>\n",
              "      <td>NaN</td>\n",
              "      <td>33.0</td>\n",
              "      <td>65.0</td>\n",
              "      <td>0.0</td>\n",
              "      <td>0.0</td>\n",
              "      <td>0.0</td>\n",
              "    </tr>\n",
              "    <tr>\n",
              "      <th>1</th>\n",
              "      <td>2020-01-23</td>\n",
              "      <td>Afghanistan</td>\n",
              "      <td>NaN</td>\n",
              "      <td>33.0</td>\n",
              "      <td>65.0</td>\n",
              "      <td>0.0</td>\n",
              "      <td>0.0</td>\n",
              "      <td>0.0</td>\n",
              "    </tr>\n",
              "    <tr>\n",
              "      <th>2</th>\n",
              "      <td>2020-01-24</td>\n",
              "      <td>Afghanistan</td>\n",
              "      <td>NaN</td>\n",
              "      <td>33.0</td>\n",
              "      <td>65.0</td>\n",
              "      <td>0.0</td>\n",
              "      <td>0.0</td>\n",
              "      <td>0.0</td>\n",
              "    </tr>\n",
              "    <tr>\n",
              "      <th>3</th>\n",
              "      <td>2020-01-25</td>\n",
              "      <td>Afghanistan</td>\n",
              "      <td>NaN</td>\n",
              "      <td>33.0</td>\n",
              "      <td>65.0</td>\n",
              "      <td>0.0</td>\n",
              "      <td>0.0</td>\n",
              "      <td>0.0</td>\n",
              "    </tr>\n",
              "    <tr>\n",
              "      <th>4</th>\n",
              "      <td>2020-01-26</td>\n",
              "      <td>Afghanistan</td>\n",
              "      <td>NaN</td>\n",
              "      <td>33.0</td>\n",
              "      <td>65.0</td>\n",
              "      <td>0.0</td>\n",
              "      <td>0.0</td>\n",
              "      <td>0.0</td>\n",
              "    </tr>\n",
              "  </tbody>\n",
              "</table>\n",
              "</div>"
            ],
            "text/plain": [
              "         Date Country/Region Province/State  ...  Confirmed  Recovered  Deaths\n",
              "0  2020-01-22    Afghanistan            NaN  ...        0.0        0.0     0.0\n",
              "1  2020-01-23    Afghanistan            NaN  ...        0.0        0.0     0.0\n",
              "2  2020-01-24    Afghanistan            NaN  ...        0.0        0.0     0.0\n",
              "3  2020-01-25    Afghanistan            NaN  ...        0.0        0.0     0.0\n",
              "4  2020-01-26    Afghanistan            NaN  ...        0.0        0.0     0.0\n",
              "\n",
              "[5 rows x 8 columns]"
            ]
          },
          "metadata": {
            "tags": []
          },
          "execution_count": 26
        }
      ]
    },
    {
      "cell_type": "markdown",
      "metadata": {
        "id": "m8DWgDYSu5tl",
        "colab_type": "text"
      },
      "source": [
        "### **Finding all countries listed in the Country/ Region column of CoVID Dataset:**"
      ]
    },
    {
      "cell_type": "code",
      "metadata": {
        "id": "uzlr13R3u_xx",
        "colab_type": "code",
        "outputId": "a729f40a-0de0-49e0-b222-2d8fcce04ae9",
        "colab": {
          "base_uri": "https://localhost:8080/",
          "height": 34
        }
      },
      "source": [
        "covid_data['Country/Region'].unique()   #Returns all unique labels contained in the column\n",
        "covid_data['Country/Region'].nunique()   #Returns number of unique labels contained in the column"
      ],
      "execution_count": 27,
      "outputs": [
        {
          "output_type": "execute_result",
          "data": {
            "text/plain": [
              "185"
            ]
          },
          "metadata": {
            "tags": []
          },
          "execution_count": 27
        }
      ]
    },
    {
      "cell_type": "markdown",
      "metadata": {
        "id": "GBbPbGzbvDds",
        "colab_type": "text"
      },
      "source": [
        "### **Similarly, finding all countries listed under the 'Country' column of the latitudes dataset**"
      ]
    },
    {
      "cell_type": "code",
      "metadata": {
        "id": "rv1nI3gWvHmo",
        "colab_type": "code",
        "outputId": "a0eaa493-eff3-43e6-c0e7-c6589481582c",
        "colab": {
          "base_uri": "https://localhost:8080/",
          "height": 34
        }
      },
      "source": [
        "latitudes_countries['country'].unique()\n",
        "latitudes_countries['country'].nunique()"
      ],
      "execution_count": 28,
      "outputs": [
        {
          "output_type": "execute_result",
          "data": {
            "text/plain": [
              "245"
            ]
          },
          "metadata": {
            "tags": []
          },
          "execution_count": 28
        }
      ]
    },
    {
      "cell_type": "markdown",
      "metadata": {
        "id": "Mb06xhSUvMI3",
        "colab_type": "text"
      },
      "source": [
        "### **We Observe:**\n",
        "- China is called \"Mainland China\" in the CoVID-19 Dataset\n",
        "- The number of countries in the latitude dataset is more; the countries present in both datasets need to be replaced with their corresponding latitudes\n",
        "\n",
        "Hence, we need to:\n",
        "- Check for extra countries in either dataset\n",
        "- Merge those countries with bigger countries manually (ex: if one dataset calls it US while the other calls it United States, both need to be merged into one label and so on)\n",
        "- Discard redundant countries/ countries with zero cases"
      ]
    },
    {
      "cell_type": "code",
      "metadata": {
        "id": "Ok1pRV67vWTI",
        "colab_type": "code",
        "outputId": "c2ddc1ee-61f5-488c-ef40-bbe8cbfcb5cb",
        "colab": {
          "base_uri": "https://localhost:8080/",
          "height": 958
        }
      },
      "source": [
        "latitudes_countries['country'].unique()"
      ],
      "execution_count": 29,
      "outputs": [
        {
          "output_type": "execute_result",
          "data": {
            "text/plain": [
              "array(['Andorra', 'United Arab Emirates', 'Afghanistan',\n",
              "       'Antigua and Barbuda', 'Anguilla', 'Albania', 'Armenia',\n",
              "       'Netherlands Antilles', 'Angola', 'Antarctica', 'Argentina',\n",
              "       'American Samoa', 'Austria', 'Australia', 'Aruba', 'Azerbaijan',\n",
              "       'Bosnia and Herzegovina', 'Barbados', 'Bangladesh', 'Belgium',\n",
              "       'Burkina Faso', 'Bulgaria', 'Bahrain', 'Burundi', 'Benin',\n",
              "       'Bermuda', 'Brunei', 'Bolivia', 'Brazil', 'Bahamas', 'Bhutan',\n",
              "       'Bouvet Island', 'Botswana', 'Belarus', 'Belize', 'Canada',\n",
              "       'Cocos [Keeling] Islands', 'Congo [DRC]',\n",
              "       'Central African Republic', 'Congo [Republic]', 'Switzerland',\n",
              "       \"Côte d'Ivoire\", 'Cook Islands', 'Chile', 'Cameroon', 'China',\n",
              "       'Colombia', 'Costa Rica', 'Cuba', 'Cape Verde', 'Christmas Island',\n",
              "       'Cyprus', 'Czech Republic', 'Germany', 'Djibouti', 'Denmark',\n",
              "       'Dominica', 'Dominican Republic', 'Algeria', 'Ecuador', 'Estonia',\n",
              "       'Egypt', 'Western Sahara', 'Eritrea', 'Spain', 'Ethiopia',\n",
              "       'Finland', 'Fiji', 'Falkland Islands [Islas Malvinas]',\n",
              "       'Micronesia', 'Faroe Islands', 'France', 'Gabon', 'United Kingdom',\n",
              "       'Grenada', 'Georgia', 'French Guiana', 'Guernsey', 'Ghana',\n",
              "       'Gibraltar', 'Greenland', 'Gambia', 'Guinea', 'Guadeloupe',\n",
              "       'Equatorial Guinea', 'Greece',\n",
              "       'South Georgia and the South Sandwich Islands', 'Guatemala',\n",
              "       'Guam', 'Guinea-Bissau', 'Guyana', 'Gaza Strip', 'Hong Kong',\n",
              "       'Heard Island and McDonald Islands', 'Honduras', 'Croatia',\n",
              "       'Haiti', 'Hungary', 'Indonesia', 'Ireland', 'Israel',\n",
              "       'Isle of Man', 'India', 'British Indian Ocean Territory', 'Iraq',\n",
              "       'Iran', 'Iceland', 'Italy', 'Jersey', 'Jamaica', 'Jordan', 'Japan',\n",
              "       'Kenya', 'Kyrgyzstan', 'Cambodia', 'Kiribati', 'Comoros',\n",
              "       'Saint Kitts and Nevis', 'North Korea', 'South Korea', 'Kuwait',\n",
              "       'Cayman Islands', 'Kazakhstan', 'Laos', 'Lebanon', 'Saint Lucia',\n",
              "       'Liechtenstein', 'Sri Lanka', 'Liberia', 'Lesotho', 'Lithuania',\n",
              "       'Luxembourg', 'Latvia', 'Libya', 'Morocco', 'Monaco', 'Moldova',\n",
              "       'Montenegro', 'Madagascar', 'Marshall Islands',\n",
              "       'Macedonia [FYROM]', 'Mali', 'Myanmar [Burma]', 'Mongolia',\n",
              "       'Macau', 'Northern Mariana Islands', 'Martinique', 'Mauritania',\n",
              "       'Montserrat', 'Malta', 'Mauritius', 'Maldives', 'Malawi', 'Mexico',\n",
              "       'Malaysia', 'Mozambique', 'Namibia', 'New Caledonia', 'Niger',\n",
              "       'Norfolk Island', 'Nigeria', 'Nicaragua', 'Netherlands', 'Norway',\n",
              "       'Nepal', 'Nauru', 'Niue', 'New Zealand', 'Oman', 'Panama', 'Peru',\n",
              "       'French Polynesia', 'Papua New Guinea', 'Philippines', 'Pakistan',\n",
              "       'Poland', 'Saint Pierre and Miquelon', 'Pitcairn Islands',\n",
              "       'Puerto Rico', 'Palestinian Territories', 'Portugal', 'Palau',\n",
              "       'Paraguay', 'Qatar', 'Réunion', 'Romania', 'Serbia', 'Russia',\n",
              "       'Rwanda', 'Saudi Arabia', 'Solomon Islands', 'Seychelles', 'Sudan',\n",
              "       'Sweden', 'Singapore', 'Saint Helena', 'Slovenia',\n",
              "       'Svalbard and Jan Mayen', 'Slovakia', 'Sierra Leone', 'San Marino',\n",
              "       'Senegal', 'Somalia', 'Suriname', 'São Tomé and Príncipe',\n",
              "       'El Salvador', 'Syria', 'Swaziland', 'Turks and Caicos Islands',\n",
              "       'Chad', 'French Southern Territories', 'Togo', 'Thailand',\n",
              "       'Tajikistan', 'Tokelau', 'Timor-Leste', 'Turkmenistan', 'Tunisia',\n",
              "       'Tonga', 'Turkey', 'Trinidad and Tobago', 'Tuvalu', 'Taiwan',\n",
              "       'Tanzania', 'Ukraine', 'Uganda', 'U.S. Minor Outlying Islands',\n",
              "       'United States', 'Uruguay', 'Uzbekistan', 'Vatican City',\n",
              "       'Saint Vincent and the Grenadines', 'Venezuela',\n",
              "       'British Virgin Islands', 'U.S. Virgin Islands', 'Vietnam',\n",
              "       'Vanuatu', 'Wallis and Futuna', 'Samoa', 'Kosovo', 'Yemen',\n",
              "       'Mayotte', 'South Africa', 'Zambia', 'Zimbabwe'], dtype=object)"
            ]
          },
          "metadata": {
            "tags": []
          },
          "execution_count": 29
        }
      ]
    },
    {
      "cell_type": "code",
      "metadata": {
        "id": "gy5BlJgFxyHg",
        "colab_type": "code",
        "outputId": "b7a72ead-9f94-4629-b28b-ee82d61d2381",
        "colab": {
          "base_uri": "https://localhost:8080/",
          "height": 655
        }
      },
      "source": [
        "covid_data['Country/Region'].unique()"
      ],
      "execution_count": 30,
      "outputs": [
        {
          "output_type": "execute_result",
          "data": {
            "text/plain": [
              "array(['Afghanistan', 'Albania', 'Algeria', 'Andorra', 'Angola',\n",
              "       'Antigua and Barbuda', 'Argentina', 'Armenia', 'Australia',\n",
              "       'Austria', 'Azerbaijan', 'Bahamas', 'Bahrain', 'Bangladesh',\n",
              "       'Barbados', 'Belarus', 'Belgium', 'Belize', 'Benin', 'Bhutan',\n",
              "       'Bolivia', 'Bosnia and Herzegovina', 'Botswana', 'Brazil',\n",
              "       'Brunei', 'Bulgaria', 'Burkina Faso', 'Burma', 'Burundi',\n",
              "       'Cabo Verde', 'Cambodia', 'Cameroon', 'Canada',\n",
              "       'Central African Republic', 'Chad', 'Chile', 'China', 'Colombia',\n",
              "       'Congo (Brazzaville)', 'Congo (Kinshasa)', 'Costa Rica',\n",
              "       \"Cote d'Ivoire\", 'Croatia', 'Cuba', 'Cyprus', 'Czechia', 'Denmark',\n",
              "       'Diamond Princess', 'Djibouti', 'Dominica', 'Dominican Republic',\n",
              "       'Ecuador', 'Egypt', 'El Salvador', 'Equatorial Guinea', 'Eritrea',\n",
              "       'Estonia', 'Eswatini', 'Ethiopia', 'Fiji', 'Finland', 'France',\n",
              "       'Gabon', 'Gambia', 'Georgia', 'Germany', 'Ghana', 'Greece',\n",
              "       'Grenada', 'Guatemala', 'Guinea-Bissau', 'Guinea', 'Guyana',\n",
              "       'Haiti', 'Holy See', 'Honduras', 'Hungary', 'Iceland', 'India',\n",
              "       'Indonesia', 'Iran', 'Iraq', 'Ireland', 'Israel', 'Italy',\n",
              "       'Jamaica', 'Japan', 'Jordan', 'Kazakhstan', 'Kenya',\n",
              "       'Korea, South', 'Kosovo', 'Kuwait', 'Kyrgyzstan', 'Laos', 'Latvia',\n",
              "       'Lebanon', 'Liberia', 'Libya', 'Liechtenstein', 'Lithuania',\n",
              "       'Luxembourg', 'MS Zaandam', 'Madagascar', 'Malawi', 'Malaysia',\n",
              "       'Maldives', 'Mali', 'Malta', 'Mauritania', 'Mauritius', 'Mexico',\n",
              "       'Moldova', 'Monaco', 'Mongolia', 'Montenegro', 'Morocco',\n",
              "       'Mozambique', 'Namibia', 'Nepal', 'Netherlands', 'New Zealand',\n",
              "       'Nicaragua', 'Niger', 'Nigeria', 'North Macedonia', 'Norway',\n",
              "       'Oman', 'Pakistan', 'Panama', 'Papua New Guinea', 'Paraguay',\n",
              "       'Peru', 'Philippines', 'Poland', 'Portugal', 'Qatar', 'Romania',\n",
              "       'Russia', 'Rwanda', 'Saint Kitts and Nevis', 'Saint Lucia',\n",
              "       'Saint Vincent and the Grenadines', 'San Marino',\n",
              "       'Sao Tome and Principe', 'Saudi Arabia', 'Senegal', 'Serbia',\n",
              "       'Seychelles', 'Sierra Leone', 'Singapore', 'Slovakia', 'Slovenia',\n",
              "       'Somalia', 'South Africa', 'South Sudan', 'Spain', 'Sri Lanka',\n",
              "       'Sudan', 'Suriname', 'Sweden', 'Switzerland', 'Syria', 'Taiwan*',\n",
              "       'Tanzania', 'Thailand', 'Timor-Leste', 'Togo',\n",
              "       'Trinidad and Tobago', 'Tunisia', 'Turkey', 'US', 'Uganda',\n",
              "       'Ukraine', 'United Arab Emirates', 'United Kingdom', 'Uruguay',\n",
              "       'Uzbekistan', 'Venezuela', 'Vietnam', 'West Bank and Gaza',\n",
              "       'Western Sahara', 'Yemen', 'Zambia', 'Zimbabwe'], dtype=object)"
            ]
          },
          "metadata": {
            "tags": []
          },
          "execution_count": 30
        }
      ]
    },
    {
      "cell_type": "code",
      "metadata": {
        "id": "IY-PcHLHzIcj",
        "colab_type": "code",
        "colab": {}
      },
      "source": [
        "#Define a function to seperate extra countries in both datasets\n",
        "import numpy as np\n",
        "\n",
        "def extra_countries(c1, c2):\n",
        "  extra_countries = []\n",
        "  for i in c1:\n",
        "    flag = 0\n",
        "    for j in c2:\n",
        "      if (i == j):\n",
        "        flag = 1\n",
        "    if (flag == 0):\n",
        "      extra_countries.append(i)\n",
        "  \n",
        "  return np.array(extra_countries)"
      ],
      "execution_count": 0,
      "outputs": []
    },
    {
      "cell_type": "code",
      "metadata": {
        "id": "fzFl725_05Sn",
        "colab_type": "code",
        "outputId": "8471ab7c-ece2-47f9-ff08-0266b15123ef",
        "colab": {
          "base_uri": "https://localhost:8080/",
          "height": 403
        }
      },
      "source": [
        "#Finding countries that are in latitudes.csv but not in covid_19_data.csv\n",
        "\n",
        "extra_countries(latitudes_countries['country'].unique(), covid_data['Country/Region'].unique())"
      ],
      "execution_count": 32,
      "outputs": [
        {
          "output_type": "execute_result",
          "data": {
            "text/plain": [
              "array(['Anguilla', 'Netherlands Antilles', 'Antarctica', 'American Samoa',\n",
              "       'Aruba', 'Bermuda', 'Bouvet Island', 'Cocos [Keeling] Islands',\n",
              "       'Congo [DRC]', 'Congo [Republic]', \"Côte d'Ivoire\", 'Cook Islands',\n",
              "       'Cape Verde', 'Christmas Island', 'Czech Republic',\n",
              "       'Falkland Islands [Islas Malvinas]', 'Micronesia', 'Faroe Islands',\n",
              "       'French Guiana', 'Guernsey', 'Gibraltar', 'Greenland',\n",
              "       'Guadeloupe', 'South Georgia and the South Sandwich Islands',\n",
              "       'Guam', 'Gaza Strip', 'Hong Kong',\n",
              "       'Heard Island and McDonald Islands', 'Isle of Man',\n",
              "       'British Indian Ocean Territory', 'Jersey', 'Kiribati', 'Comoros',\n",
              "       'North Korea', 'South Korea', 'Cayman Islands', 'Lesotho',\n",
              "       'Marshall Islands', 'Macedonia [FYROM]', 'Myanmar [Burma]',\n",
              "       'Macau', 'Northern Mariana Islands', 'Martinique', 'Montserrat',\n",
              "       'New Caledonia', 'Norfolk Island', 'Nauru', 'Niue',\n",
              "       'French Polynesia', 'Saint Pierre and Miquelon',\n",
              "       'Pitcairn Islands', 'Puerto Rico', 'Palestinian Territories',\n",
              "       'Palau', 'Réunion', 'Solomon Islands', 'Saint Helena',\n",
              "       'Svalbard and Jan Mayen', 'São Tomé and Príncipe', 'Swaziland',\n",
              "       'Turks and Caicos Islands', 'French Southern Territories',\n",
              "       'Tajikistan', 'Tokelau', 'Turkmenistan', 'Tonga', 'Tuvalu',\n",
              "       'Taiwan', 'U.S. Minor Outlying Islands', 'United States',\n",
              "       'Vatican City', 'British Virgin Islands', 'U.S. Virgin Islands',\n",
              "       'Vanuatu', 'Wallis and Futuna', 'Samoa', 'Mayotte'], dtype='<U44')"
            ]
          },
          "metadata": {
            "tags": []
          },
          "execution_count": 32
        }
      ]
    },
    {
      "cell_type": "code",
      "metadata": {
        "id": "_s3AknDS3tlV",
        "colab_type": "code",
        "outputId": "ebb04a05-2752-4a84-de59-fd760479a866",
        "colab": {
          "base_uri": "https://localhost:8080/",
          "height": 101
        }
      },
      "source": [
        "#Finding countries that are in covid_19_data.csv but not in latitudes.csv\n",
        "\n",
        "extra_countries(covid_data['Country/Region'].unique(),latitudes_countries['country'].unique())"
      ],
      "execution_count": 33,
      "outputs": [
        {
          "output_type": "execute_result",
          "data": {
            "text/plain": [
              "array(['Burma', 'Cabo Verde', 'Congo (Brazzaville)', 'Congo (Kinshasa)',\n",
              "       \"Cote d'Ivoire\", 'Czechia', 'Diamond Princess', 'Eswatini',\n",
              "       'Holy See', 'Korea, South', 'MS Zaandam', 'North Macedonia',\n",
              "       'Sao Tome and Principe', 'South Sudan', 'Taiwan*', 'US',\n",
              "       'West Bank and Gaza'], dtype='<U21')"
            ]
          },
          "metadata": {
            "tags": []
          },
          "execution_count": 33
        }
      ]
    },
    {
      "cell_type": "markdown",
      "metadata": {
        "id": "gmHrHLW06kjr",
        "colab_type": "text"
      },
      "source": [
        "### **Replace country names in CoVID-19 dataset with matching names from Latitudes dataset**"
      ]
    },
    {
      "cell_type": "code",
      "metadata": {
        "id": "vW3K-xyV6xIx",
        "colab_type": "code",
        "colab": {}
      },
      "source": [
        "corrected_covid_data = covid_data.replace(['Burma','Congo (Brazzaville)', 'Congo (Kinshasa)',\n",
        "       \"Cote d'Ivoire\", 'Czechia', 'Diamond Princess',\n",
        "       'Korea, South', 'North Macedonia',\n",
        "       'South Sudan', 'Taiwan*', 'US',\n",
        "       'West Bank and Gaza'], ['Myanmar [Burma]', 'Congo [DRC]', 'Congo [DRC]', \"Côte d'Ivoire\", 'Czech Republic',\n",
        "                               'Japan', 'South Korea',\n",
        "                               'Macedonia [FYROM]', 'Sudan', 'Taiwan', 'United States', 'Gaza Strip'])\n",
        "countries_to_drop = ['Holy See','Eswatini', 'Cabo Verde','MS Zaandam',\n",
        "                     'Sao Tome and Principe']"
      ],
      "execution_count": 0,
      "outputs": []
    },
    {
      "cell_type": "code",
      "metadata": {
        "id": "7NeqGsPf6yzs",
        "colab_type": "code",
        "outputId": "53bd3356-f298-467b-dbe4-fae0795a71c8",
        "colab": {
          "base_uri": "https://localhost:8080/",
          "height": 195
        }
      },
      "source": [
        "corrected_covid_data.head()"
      ],
      "execution_count": 35,
      "outputs": [
        {
          "output_type": "execute_result",
          "data": {
            "text/html": [
              "<div>\n",
              "<style scoped>\n",
              "    .dataframe tbody tr th:only-of-type {\n",
              "        vertical-align: middle;\n",
              "    }\n",
              "\n",
              "    .dataframe tbody tr th {\n",
              "        vertical-align: top;\n",
              "    }\n",
              "\n",
              "    .dataframe thead th {\n",
              "        text-align: right;\n",
              "    }\n",
              "</style>\n",
              "<table border=\"1\" class=\"dataframe\">\n",
              "  <thead>\n",
              "    <tr style=\"text-align: right;\">\n",
              "      <th></th>\n",
              "      <th>Date</th>\n",
              "      <th>Country/Region</th>\n",
              "      <th>Province/State</th>\n",
              "      <th>Lat</th>\n",
              "      <th>Long</th>\n",
              "      <th>Confirmed</th>\n",
              "      <th>Recovered</th>\n",
              "      <th>Deaths</th>\n",
              "    </tr>\n",
              "  </thead>\n",
              "  <tbody>\n",
              "    <tr>\n",
              "      <th>0</th>\n",
              "      <td>2020-01-22</td>\n",
              "      <td>Afghanistan</td>\n",
              "      <td>NaN</td>\n",
              "      <td>33.0</td>\n",
              "      <td>65.0</td>\n",
              "      <td>0.0</td>\n",
              "      <td>0.0</td>\n",
              "      <td>0.0</td>\n",
              "    </tr>\n",
              "    <tr>\n",
              "      <th>1</th>\n",
              "      <td>2020-01-23</td>\n",
              "      <td>Afghanistan</td>\n",
              "      <td>NaN</td>\n",
              "      <td>33.0</td>\n",
              "      <td>65.0</td>\n",
              "      <td>0.0</td>\n",
              "      <td>0.0</td>\n",
              "      <td>0.0</td>\n",
              "    </tr>\n",
              "    <tr>\n",
              "      <th>2</th>\n",
              "      <td>2020-01-24</td>\n",
              "      <td>Afghanistan</td>\n",
              "      <td>NaN</td>\n",
              "      <td>33.0</td>\n",
              "      <td>65.0</td>\n",
              "      <td>0.0</td>\n",
              "      <td>0.0</td>\n",
              "      <td>0.0</td>\n",
              "    </tr>\n",
              "    <tr>\n",
              "      <th>3</th>\n",
              "      <td>2020-01-25</td>\n",
              "      <td>Afghanistan</td>\n",
              "      <td>NaN</td>\n",
              "      <td>33.0</td>\n",
              "      <td>65.0</td>\n",
              "      <td>0.0</td>\n",
              "      <td>0.0</td>\n",
              "      <td>0.0</td>\n",
              "    </tr>\n",
              "    <tr>\n",
              "      <th>4</th>\n",
              "      <td>2020-01-26</td>\n",
              "      <td>Afghanistan</td>\n",
              "      <td>NaN</td>\n",
              "      <td>33.0</td>\n",
              "      <td>65.0</td>\n",
              "      <td>0.0</td>\n",
              "      <td>0.0</td>\n",
              "      <td>0.0</td>\n",
              "    </tr>\n",
              "  </tbody>\n",
              "</table>\n",
              "</div>"
            ],
            "text/plain": [
              "         Date Country/Region Province/State  ...  Confirmed  Recovered  Deaths\n",
              "0  2020-01-22    Afghanistan            NaN  ...        0.0        0.0     0.0\n",
              "1  2020-01-23    Afghanistan            NaN  ...        0.0        0.0     0.0\n",
              "2  2020-01-24    Afghanistan            NaN  ...        0.0        0.0     0.0\n",
              "3  2020-01-25    Afghanistan            NaN  ...        0.0        0.0     0.0\n",
              "4  2020-01-26    Afghanistan            NaN  ...        0.0        0.0     0.0\n",
              "\n",
              "[5 rows x 8 columns]"
            ]
          },
          "metadata": {
            "tags": []
          },
          "execution_count": 35
        }
      ]
    },
    {
      "cell_type": "code",
      "metadata": {
        "id": "wxXkES1F52DC",
        "colab_type": "code",
        "outputId": "7e1d31e5-472d-4784-db9b-8d5b30a4f505",
        "colab": {
          "base_uri": "https://localhost:8080/",
          "height": 34
        }
      },
      "source": [
        "# Finding countries in corrected_covid_data but not in latitudes\n",
        "\n",
        "extras = extra_countries(corrected_covid_data['Country/Region'].unique(), latitudes_countries['country'].unique())\n",
        "print(extras)"
      ],
      "execution_count": 36,
      "outputs": [
        {
          "output_type": "stream",
          "text": [
            "['Cabo Verde' 'Eswatini' 'Holy See' 'MS Zaandam' 'Sao Tome and Principe']\n"
          ],
          "name": "stdout"
        }
      ]
    },
    {
      "cell_type": "code",
      "metadata": {
        "id": "GZbfhkqxzxls",
        "colab_type": "code",
        "colab": {}
      },
      "source": [
        "# Removing the countries whose latitude data is unavailable\n",
        "\n",
        "for i in extras:\n",
        "  corrected_covid_data = corrected_covid_data[corrected_covid_data['Country/Region'] != i]"
      ],
      "execution_count": 0,
      "outputs": []
    },
    {
      "cell_type": "markdown",
      "metadata": {
        "id": "Q80wiroNSJSA",
        "colab_type": "text"
      },
      "source": [
        "### **Enter code to replace the Country/ Region column with the latitude and longitude columns**\n",
        "\n",
        "Also, drop unnecessary columns"
      ]
    },
    {
      "cell_type": "code",
      "metadata": {
        "id": "YJEakUx_DsC6",
        "colab_type": "code",
        "outputId": "04af08d5-b6e1-41b3-f502-5d46d39def74",
        "colab": {
          "base_uri": "https://localhost:8080/",
          "height": 195
        }
      },
      "source": [
        "latitudes_countries.head()"
      ],
      "execution_count": 38,
      "outputs": [
        {
          "output_type": "execute_result",
          "data": {
            "text/html": [
              "<div>\n",
              "<style scoped>\n",
              "    .dataframe tbody tr th:only-of-type {\n",
              "        vertical-align: middle;\n",
              "    }\n",
              "\n",
              "    .dataframe tbody tr th {\n",
              "        vertical-align: top;\n",
              "    }\n",
              "\n",
              "    .dataframe thead th {\n",
              "        text-align: right;\n",
              "    }\n",
              "</style>\n",
              "<table border=\"1\" class=\"dataframe\">\n",
              "  <thead>\n",
              "    <tr style=\"text-align: right;\">\n",
              "      <th></th>\n",
              "      <th>country_code</th>\n",
              "      <th>latitude</th>\n",
              "      <th>longitude</th>\n",
              "      <th>country</th>\n",
              "    </tr>\n",
              "  </thead>\n",
              "  <tbody>\n",
              "    <tr>\n",
              "      <th>0</th>\n",
              "      <td>AD</td>\n",
              "      <td>42.546245</td>\n",
              "      <td>1.601554</td>\n",
              "      <td>Andorra</td>\n",
              "    </tr>\n",
              "    <tr>\n",
              "      <th>1</th>\n",
              "      <td>AE</td>\n",
              "      <td>23.424076</td>\n",
              "      <td>53.847818</td>\n",
              "      <td>United Arab Emirates</td>\n",
              "    </tr>\n",
              "    <tr>\n",
              "      <th>2</th>\n",
              "      <td>AF</td>\n",
              "      <td>33.939110</td>\n",
              "      <td>67.709953</td>\n",
              "      <td>Afghanistan</td>\n",
              "    </tr>\n",
              "    <tr>\n",
              "      <th>3</th>\n",
              "      <td>AG</td>\n",
              "      <td>17.060816</td>\n",
              "      <td>-61.796428</td>\n",
              "      <td>Antigua and Barbuda</td>\n",
              "    </tr>\n",
              "    <tr>\n",
              "      <th>4</th>\n",
              "      <td>AI</td>\n",
              "      <td>18.220554</td>\n",
              "      <td>-63.068615</td>\n",
              "      <td>Anguilla</td>\n",
              "    </tr>\n",
              "  </tbody>\n",
              "</table>\n",
              "</div>"
            ],
            "text/plain": [
              "  country_code   latitude  longitude               country\n",
              "0           AD  42.546245   1.601554               Andorra\n",
              "1           AE  23.424076  53.847818  United Arab Emirates\n",
              "2           AF  33.939110  67.709953           Afghanistan\n",
              "3           AG  17.060816 -61.796428   Antigua and Barbuda\n",
              "4           AI  18.220554 -63.068615              Anguilla"
            ]
          },
          "metadata": {
            "tags": []
          },
          "execution_count": 38
        }
      ]
    },
    {
      "cell_type": "code",
      "metadata": {
        "id": "tgE3_gCQF0TF",
        "colab_type": "code",
        "colab": {}
      },
      "source": [
        "req_lat_long = latitudes_countries.loc[:,['country','latitude', 'longitude']]\n",
        "req_lat_long = req_lat_long.set_index('country')"
      ],
      "execution_count": 0,
      "outputs": []
    },
    {
      "cell_type": "code",
      "metadata": {
        "id": "vMqkgPloFKlF",
        "colab_type": "code",
        "colab": {}
      },
      "source": [
        "latitude_cols = []\n",
        "longitude_cols = []\n",
        "\n",
        "for i in corrected_covid_data['Country/Region']:\n",
        "  latitude = req_lat_long.loc[i, 'latitude']\n",
        "  longitude = req_lat_long.loc[i, 'longitude']\n",
        "  latitude_cols.append(latitude)\n",
        "  longitude_cols.append(longitude)\n",
        "\n",
        "latitude_cols = np.array(latitude_cols)\n",
        "longitude_cols = np.array(longitude_cols)"
      ],
      "execution_count": 0,
      "outputs": []
    },
    {
      "cell_type": "code",
      "metadata": {
        "id": "dX9kDkGMyO9Q",
        "colab_type": "code",
        "colab": {}
      },
      "source": [
        "corrected_covid_data['Latitude'] = latitude_cols\n",
        "corrected_covid_data['Longitude'] = longitude_cols"
      ],
      "execution_count": 0,
      "outputs": []
    },
    {
      "cell_type": "code",
      "metadata": {
        "id": "ewHTevcj1HI-",
        "colab_type": "code",
        "outputId": "e658769f-001a-463b-828c-9e0e5ac93883",
        "colab": {
          "base_uri": "https://localhost:8080/",
          "height": 195
        }
      },
      "source": [
        "corrected_covid_data = corrected_covid_data.drop(['Lat','Long'], axis = 1)\n",
        "corrected_covid_data.head()       #Obtained latitude and longitude for all countries within the dataframe"
      ],
      "execution_count": 42,
      "outputs": [
        {
          "output_type": "execute_result",
          "data": {
            "text/html": [
              "<div>\n",
              "<style scoped>\n",
              "    .dataframe tbody tr th:only-of-type {\n",
              "        vertical-align: middle;\n",
              "    }\n",
              "\n",
              "    .dataframe tbody tr th {\n",
              "        vertical-align: top;\n",
              "    }\n",
              "\n",
              "    .dataframe thead th {\n",
              "        text-align: right;\n",
              "    }\n",
              "</style>\n",
              "<table border=\"1\" class=\"dataframe\">\n",
              "  <thead>\n",
              "    <tr style=\"text-align: right;\">\n",
              "      <th></th>\n",
              "      <th>Date</th>\n",
              "      <th>Country/Region</th>\n",
              "      <th>Province/State</th>\n",
              "      <th>Confirmed</th>\n",
              "      <th>Recovered</th>\n",
              "      <th>Deaths</th>\n",
              "      <th>Latitude</th>\n",
              "      <th>Longitude</th>\n",
              "    </tr>\n",
              "  </thead>\n",
              "  <tbody>\n",
              "    <tr>\n",
              "      <th>0</th>\n",
              "      <td>2020-01-22</td>\n",
              "      <td>Afghanistan</td>\n",
              "      <td>NaN</td>\n",
              "      <td>0.0</td>\n",
              "      <td>0.0</td>\n",
              "      <td>0.0</td>\n",
              "      <td>33.93911</td>\n",
              "      <td>67.709953</td>\n",
              "    </tr>\n",
              "    <tr>\n",
              "      <th>1</th>\n",
              "      <td>2020-01-23</td>\n",
              "      <td>Afghanistan</td>\n",
              "      <td>NaN</td>\n",
              "      <td>0.0</td>\n",
              "      <td>0.0</td>\n",
              "      <td>0.0</td>\n",
              "      <td>33.93911</td>\n",
              "      <td>67.709953</td>\n",
              "    </tr>\n",
              "    <tr>\n",
              "      <th>2</th>\n",
              "      <td>2020-01-24</td>\n",
              "      <td>Afghanistan</td>\n",
              "      <td>NaN</td>\n",
              "      <td>0.0</td>\n",
              "      <td>0.0</td>\n",
              "      <td>0.0</td>\n",
              "      <td>33.93911</td>\n",
              "      <td>67.709953</td>\n",
              "    </tr>\n",
              "    <tr>\n",
              "      <th>3</th>\n",
              "      <td>2020-01-25</td>\n",
              "      <td>Afghanistan</td>\n",
              "      <td>NaN</td>\n",
              "      <td>0.0</td>\n",
              "      <td>0.0</td>\n",
              "      <td>0.0</td>\n",
              "      <td>33.93911</td>\n",
              "      <td>67.709953</td>\n",
              "    </tr>\n",
              "    <tr>\n",
              "      <th>4</th>\n",
              "      <td>2020-01-26</td>\n",
              "      <td>Afghanistan</td>\n",
              "      <td>NaN</td>\n",
              "      <td>0.0</td>\n",
              "      <td>0.0</td>\n",
              "      <td>0.0</td>\n",
              "      <td>33.93911</td>\n",
              "      <td>67.709953</td>\n",
              "    </tr>\n",
              "  </tbody>\n",
              "</table>\n",
              "</div>"
            ],
            "text/plain": [
              "         Date Country/Region Province/State  ...  Deaths  Latitude  Longitude\n",
              "0  2020-01-22    Afghanistan            NaN  ...     0.0  33.93911  67.709953\n",
              "1  2020-01-23    Afghanistan            NaN  ...     0.0  33.93911  67.709953\n",
              "2  2020-01-24    Afghanistan            NaN  ...     0.0  33.93911  67.709953\n",
              "3  2020-01-25    Afghanistan            NaN  ...     0.0  33.93911  67.709953\n",
              "4  2020-01-26    Afghanistan            NaN  ...     0.0  33.93911  67.709953\n",
              "\n",
              "[5 rows x 8 columns]"
            ]
          },
          "metadata": {
            "tags": []
          },
          "execution_count": 42
        }
      ]
    },
    {
      "cell_type": "code",
      "metadata": {
        "id": "EOdxt6WuG_FR",
        "colab_type": "code",
        "colab": {
          "base_uri": "https://localhost:8080/",
          "height": 195
        },
        "outputId": "460f3b1a-4b09-49fc-c581-32ffdc12b31a"
      },
      "source": [
        "corrected_covid_data = corrected_covid_data.drop(['Province/State'], axis = 1)\n",
        "corrected_covid_data.head()"
      ],
      "execution_count": 43,
      "outputs": [
        {
          "output_type": "execute_result",
          "data": {
            "text/html": [
              "<div>\n",
              "<style scoped>\n",
              "    .dataframe tbody tr th:only-of-type {\n",
              "        vertical-align: middle;\n",
              "    }\n",
              "\n",
              "    .dataframe tbody tr th {\n",
              "        vertical-align: top;\n",
              "    }\n",
              "\n",
              "    .dataframe thead th {\n",
              "        text-align: right;\n",
              "    }\n",
              "</style>\n",
              "<table border=\"1\" class=\"dataframe\">\n",
              "  <thead>\n",
              "    <tr style=\"text-align: right;\">\n",
              "      <th></th>\n",
              "      <th>Date</th>\n",
              "      <th>Country/Region</th>\n",
              "      <th>Confirmed</th>\n",
              "      <th>Recovered</th>\n",
              "      <th>Deaths</th>\n",
              "      <th>Latitude</th>\n",
              "      <th>Longitude</th>\n",
              "    </tr>\n",
              "  </thead>\n",
              "  <tbody>\n",
              "    <tr>\n",
              "      <th>0</th>\n",
              "      <td>2020-01-22</td>\n",
              "      <td>Afghanistan</td>\n",
              "      <td>0.0</td>\n",
              "      <td>0.0</td>\n",
              "      <td>0.0</td>\n",
              "      <td>33.93911</td>\n",
              "      <td>67.709953</td>\n",
              "    </tr>\n",
              "    <tr>\n",
              "      <th>1</th>\n",
              "      <td>2020-01-23</td>\n",
              "      <td>Afghanistan</td>\n",
              "      <td>0.0</td>\n",
              "      <td>0.0</td>\n",
              "      <td>0.0</td>\n",
              "      <td>33.93911</td>\n",
              "      <td>67.709953</td>\n",
              "    </tr>\n",
              "    <tr>\n",
              "      <th>2</th>\n",
              "      <td>2020-01-24</td>\n",
              "      <td>Afghanistan</td>\n",
              "      <td>0.0</td>\n",
              "      <td>0.0</td>\n",
              "      <td>0.0</td>\n",
              "      <td>33.93911</td>\n",
              "      <td>67.709953</td>\n",
              "    </tr>\n",
              "    <tr>\n",
              "      <th>3</th>\n",
              "      <td>2020-01-25</td>\n",
              "      <td>Afghanistan</td>\n",
              "      <td>0.0</td>\n",
              "      <td>0.0</td>\n",
              "      <td>0.0</td>\n",
              "      <td>33.93911</td>\n",
              "      <td>67.709953</td>\n",
              "    </tr>\n",
              "    <tr>\n",
              "      <th>4</th>\n",
              "      <td>2020-01-26</td>\n",
              "      <td>Afghanistan</td>\n",
              "      <td>0.0</td>\n",
              "      <td>0.0</td>\n",
              "      <td>0.0</td>\n",
              "      <td>33.93911</td>\n",
              "      <td>67.709953</td>\n",
              "    </tr>\n",
              "  </tbody>\n",
              "</table>\n",
              "</div>"
            ],
            "text/plain": [
              "         Date Country/Region  Confirmed  Recovered  Deaths  Latitude  Longitude\n",
              "0  2020-01-22    Afghanistan        0.0        0.0     0.0  33.93911  67.709953\n",
              "1  2020-01-23    Afghanistan        0.0        0.0     0.0  33.93911  67.709953\n",
              "2  2020-01-24    Afghanistan        0.0        0.0     0.0  33.93911  67.709953\n",
              "3  2020-01-25    Afghanistan        0.0        0.0     0.0  33.93911  67.709953\n",
              "4  2020-01-26    Afghanistan        0.0        0.0     0.0  33.93911  67.709953"
            ]
          },
          "metadata": {
            "tags": []
          },
          "execution_count": 43
        }
      ]
    },
    {
      "cell_type": "code",
      "metadata": {
        "id": "_prNnchEYJv_",
        "colab_type": "code",
        "colab": {}
      },
      "source": [
        "#Obtain a list of all affected countries\n",
        "def most_affected(X):\n",
        "  country_cases = {}\n",
        "  countries = X.index.unique()\n",
        "  for i in countries:\n",
        "    cases =  np.sum(X.loc[[i],['Confirmed']])\n",
        "    country_cases[i] = cases\n",
        "\n",
        "  country_cases_df = pd.DataFrame(country_cases)\n",
        "  country_cases_df = country_cases_df.transpose()\n",
        "  affected_countries = []\n",
        "  for i in range(8):\n",
        "    country = country_cases_df[['Confirmed']].idxmax()['Confirmed']\n",
        "    affected_countries.append(country)\n",
        "    country_cases_df = country_cases_df.drop([country], axis = 0)\n",
        "\n",
        "  return affected_countries"
      ],
      "execution_count": 0,
      "outputs": []
    },
    {
      "cell_type": "code",
      "metadata": {
        "id": "YrEbhG3bgkBx",
        "colab_type": "code",
        "colab": {}
      },
      "source": [
        "corrected_covid_data['Date'] =  pd.to_datetime(corrected_covid_data['Date'],\n",
        "                              format='%Y-%m-%d')"
      ],
      "execution_count": 0,
      "outputs": []
    },
    {
      "cell_type": "code",
      "metadata": {
        "id": "4Htl935Piuid",
        "colab_type": "code",
        "colab": {
          "base_uri": "https://localhost:8080/",
          "height": 195
        },
        "outputId": "823f0610-b89d-4622-ff34-e2f9c2adb817"
      },
      "source": [
        "temperature = pd.read_csv('temperature_dataframe.csv')\n",
        "temperature.head()"
      ],
      "execution_count": 46,
      "outputs": [
        {
          "output_type": "execute_result",
          "data": {
            "text/html": [
              "<div>\n",
              "<style scoped>\n",
              "    .dataframe tbody tr th:only-of-type {\n",
              "        vertical-align: middle;\n",
              "    }\n",
              "\n",
              "    .dataframe tbody tr th {\n",
              "        vertical-align: top;\n",
              "    }\n",
              "\n",
              "    .dataframe thead th {\n",
              "        text-align: right;\n",
              "    }\n",
              "</style>\n",
              "<table border=\"1\" class=\"dataframe\">\n",
              "  <thead>\n",
              "    <tr style=\"text-align: right;\">\n",
              "      <th></th>\n",
              "      <th>Unnamed: 0</th>\n",
              "      <th>id</th>\n",
              "      <th>province</th>\n",
              "      <th>country</th>\n",
              "      <th>lat</th>\n",
              "      <th>long</th>\n",
              "      <th>date</th>\n",
              "      <th>cases</th>\n",
              "      <th>fatalities</th>\n",
              "      <th>capital</th>\n",
              "      <th>humidity</th>\n",
              "      <th>sunHour</th>\n",
              "      <th>tempC</th>\n",
              "      <th>windspeedKmph</th>\n",
              "    </tr>\n",
              "  </thead>\n",
              "  <tbody>\n",
              "    <tr>\n",
              "      <th>0</th>\n",
              "      <td>0</td>\n",
              "      <td>1</td>\n",
              "      <td>NaN</td>\n",
              "      <td>Afghanistan</td>\n",
              "      <td>33.0</td>\n",
              "      <td>65.0</td>\n",
              "      <td>2020-01-22</td>\n",
              "      <td>0.0</td>\n",
              "      <td>0.0</td>\n",
              "      <td>Kabul</td>\n",
              "      <td>65.0</td>\n",
              "      <td>8.7</td>\n",
              "      <td>-1.0</td>\n",
              "      <td>8.0</td>\n",
              "    </tr>\n",
              "    <tr>\n",
              "      <th>1</th>\n",
              "      <td>1</td>\n",
              "      <td>2</td>\n",
              "      <td>NaN</td>\n",
              "      <td>Afghanistan</td>\n",
              "      <td>33.0</td>\n",
              "      <td>65.0</td>\n",
              "      <td>2020-01-23</td>\n",
              "      <td>0.0</td>\n",
              "      <td>0.0</td>\n",
              "      <td>Kabul</td>\n",
              "      <td>59.0</td>\n",
              "      <td>8.7</td>\n",
              "      <td>-3.0</td>\n",
              "      <td>8.0</td>\n",
              "    </tr>\n",
              "    <tr>\n",
              "      <th>2</th>\n",
              "      <td>2</td>\n",
              "      <td>3</td>\n",
              "      <td>NaN</td>\n",
              "      <td>Afghanistan</td>\n",
              "      <td>33.0</td>\n",
              "      <td>65.0</td>\n",
              "      <td>2020-01-24</td>\n",
              "      <td>0.0</td>\n",
              "      <td>0.0</td>\n",
              "      <td>Kabul</td>\n",
              "      <td>71.0</td>\n",
              "      <td>7.1</td>\n",
              "      <td>0.0</td>\n",
              "      <td>7.0</td>\n",
              "    </tr>\n",
              "    <tr>\n",
              "      <th>3</th>\n",
              "      <td>3</td>\n",
              "      <td>4</td>\n",
              "      <td>NaN</td>\n",
              "      <td>Afghanistan</td>\n",
              "      <td>33.0</td>\n",
              "      <td>65.0</td>\n",
              "      <td>2020-01-25</td>\n",
              "      <td>0.0</td>\n",
              "      <td>0.0</td>\n",
              "      <td>Kabul</td>\n",
              "      <td>79.0</td>\n",
              "      <td>8.7</td>\n",
              "      <td>0.0</td>\n",
              "      <td>7.0</td>\n",
              "    </tr>\n",
              "    <tr>\n",
              "      <th>4</th>\n",
              "      <td>4</td>\n",
              "      <td>5</td>\n",
              "      <td>NaN</td>\n",
              "      <td>Afghanistan</td>\n",
              "      <td>33.0</td>\n",
              "      <td>65.0</td>\n",
              "      <td>2020-01-26</td>\n",
              "      <td>0.0</td>\n",
              "      <td>0.0</td>\n",
              "      <td>Kabul</td>\n",
              "      <td>64.0</td>\n",
              "      <td>8.7</td>\n",
              "      <td>-1.0</td>\n",
              "      <td>8.0</td>\n",
              "    </tr>\n",
              "  </tbody>\n",
              "</table>\n",
              "</div>"
            ],
            "text/plain": [
              "   Unnamed: 0  id province  ... sunHour  tempC  windspeedKmph\n",
              "0           0   1      NaN  ...     8.7   -1.0            8.0\n",
              "1           1   2      NaN  ...     8.7   -3.0            8.0\n",
              "2           2   3      NaN  ...     7.1    0.0            7.0\n",
              "3           3   4      NaN  ...     8.7    0.0            7.0\n",
              "4           4   5      NaN  ...     8.7   -1.0            8.0\n",
              "\n",
              "[5 rows x 14 columns]"
            ]
          },
          "metadata": {
            "tags": []
          },
          "execution_count": 46
        }
      ]
    },
    {
      "cell_type": "code",
      "metadata": {
        "id": "Fjo62Bi2kXkm",
        "colab_type": "code",
        "colab": {}
      },
      "source": [
        "humidity = (temperature['humidity'].groupby(temperature['country']))\n",
        "temp = temperature['tempC'].groupby(temperature['country'])"
      ],
      "execution_count": 0,
      "outputs": []
    },
    {
      "cell_type": "code",
      "metadata": {
        "id": "6mEbHLCXDKP1",
        "colab_type": "code",
        "colab": {}
      },
      "source": [
        "temp_corrected_data = temperature.replace(['Barbuda', 'Aruba', \"Cote d'Ivoire\", 'French Guiana',\n",
        "       'Greenland', 'Guadeloupe', 'Korea',\n",
        "       'Macedonia', 'Congo', 'USA', 'UAE', 'UK'], ['Antigua and Barbuda', 'Netherlands', \"Côte d'Ivoire\", 'France',\n",
        "                                        'Denmark', 'France', 'South Korea', 'North Macedonia', 'Congo (Kinshasa)', 'United States',\n",
        "                                        'United Arab Emirates', 'United Kingdom'])\n",
        "countries_to_drop = ['Eswatini', 'Guam', 'Guernsey', 'Jersey', 'Martinique', 'Mayotte', 'Puerto Rico', 'Reunion']"
      ],
      "execution_count": 0,
      "outputs": []
    },
    {
      "cell_type": "code",
      "metadata": {
        "id": "4xRWEq5G43z-",
        "colab_type": "code",
        "colab": {}
      },
      "source": [
        "#import statistics\n",
        "avg_stuff = pd.DataFrame()\n",
        "avg_stuff['Avg_temp'] = (temp_corrected_data['tempC'].groupby(temp_corrected_data['country'])).mean()\n",
        "avg_stuff['Avg_humidity'] = (temp_corrected_data['humidity'].groupby(temp_corrected_data['country'])).mean()"
      ],
      "execution_count": 0,
      "outputs": []
    },
    {
      "cell_type": "code",
      "metadata": {
        "id": "0aUhUPSFJhIP",
        "colab_type": "code",
        "colab": {}
      },
      "source": [
        "temp = []\n",
        "humidity = []\n",
        "\n",
        "for i in corrected_covid_data['Country/Region']:\n",
        "  try:\n",
        "    temperature = avg_stuff.loc[i, 'Avg_temp']\n",
        "    humid = avg_stuff.loc[i, 'Avg_humidity']\n",
        "    temp.append(temperature)\n",
        "    humidity.append(humid)\n",
        "  except KeyError:\n",
        "    temp.append(None)\n",
        "    humidity.append(None)\n",
        "temp = np.array(temp)\n",
        "humidity = np.array(humidity)"
      ],
      "execution_count": 0,
      "outputs": []
    },
    {
      "cell_type": "code",
      "metadata": {
        "id": "SoqS8Lw6AqbR",
        "colab_type": "code",
        "colab": {}
      },
      "source": [
        "corrected_covid_data['Average Temperature'] = temp\n",
        "corrected_covid_data['Average Humidity'] = humidity"
      ],
      "execution_count": 0,
      "outputs": []
    },
    {
      "cell_type": "code",
      "metadata": {
        "id": "VsdBzpIdL05A",
        "colab_type": "code",
        "colab": {
          "base_uri": "https://localhost:8080/",
          "height": 402
        },
        "outputId": "c56666dc-12b6-47ef-b7dc-2c432b1cb5cf"
      },
      "source": [
        "corrected_covid_data"
      ],
      "execution_count": 52,
      "outputs": [
        {
          "output_type": "execute_result",
          "data": {
            "text/html": [
              "<div>\n",
              "<style scoped>\n",
              "    .dataframe tbody tr th:only-of-type {\n",
              "        vertical-align: middle;\n",
              "    }\n",
              "\n",
              "    .dataframe tbody tr th {\n",
              "        vertical-align: top;\n",
              "    }\n",
              "\n",
              "    .dataframe thead th {\n",
              "        text-align: right;\n",
              "    }\n",
              "</style>\n",
              "<table border=\"1\" class=\"dataframe\">\n",
              "  <thead>\n",
              "    <tr style=\"text-align: right;\">\n",
              "      <th></th>\n",
              "      <th>Date</th>\n",
              "      <th>Country/Region</th>\n",
              "      <th>Confirmed</th>\n",
              "      <th>Recovered</th>\n",
              "      <th>Deaths</th>\n",
              "      <th>Latitude</th>\n",
              "      <th>Longitude</th>\n",
              "      <th>Average Temperature</th>\n",
              "      <th>Average Humidity</th>\n",
              "    </tr>\n",
              "  </thead>\n",
              "  <tbody>\n",
              "    <tr>\n",
              "      <th>0</th>\n",
              "      <td>2020-01-22</td>\n",
              "      <td>Afghanistan</td>\n",
              "      <td>0.0</td>\n",
              "      <td>0.0</td>\n",
              "      <td>0.0</td>\n",
              "      <td>33.939110</td>\n",
              "      <td>67.709953</td>\n",
              "      <td>6.21667</td>\n",
              "      <td>56.9333</td>\n",
              "    </tr>\n",
              "    <tr>\n",
              "      <th>1</th>\n",
              "      <td>2020-01-23</td>\n",
              "      <td>Afghanistan</td>\n",
              "      <td>0.0</td>\n",
              "      <td>0.0</td>\n",
              "      <td>0.0</td>\n",
              "      <td>33.939110</td>\n",
              "      <td>67.709953</td>\n",
              "      <td>6.21667</td>\n",
              "      <td>56.9333</td>\n",
              "    </tr>\n",
              "    <tr>\n",
              "      <th>2</th>\n",
              "      <td>2020-01-24</td>\n",
              "      <td>Afghanistan</td>\n",
              "      <td>0.0</td>\n",
              "      <td>0.0</td>\n",
              "      <td>0.0</td>\n",
              "      <td>33.939110</td>\n",
              "      <td>67.709953</td>\n",
              "      <td>6.21667</td>\n",
              "      <td>56.9333</td>\n",
              "    </tr>\n",
              "    <tr>\n",
              "      <th>3</th>\n",
              "      <td>2020-01-25</td>\n",
              "      <td>Afghanistan</td>\n",
              "      <td>0.0</td>\n",
              "      <td>0.0</td>\n",
              "      <td>0.0</td>\n",
              "      <td>33.939110</td>\n",
              "      <td>67.709953</td>\n",
              "      <td>6.21667</td>\n",
              "      <td>56.9333</td>\n",
              "    </tr>\n",
              "    <tr>\n",
              "      <th>4</th>\n",
              "      <td>2020-01-26</td>\n",
              "      <td>Afghanistan</td>\n",
              "      <td>0.0</td>\n",
              "      <td>0.0</td>\n",
              "      <td>0.0</td>\n",
              "      <td>33.939110</td>\n",
              "      <td>67.709953</td>\n",
              "      <td>6.21667</td>\n",
              "      <td>56.9333</td>\n",
              "    </tr>\n",
              "    <tr>\n",
              "      <th>...</th>\n",
              "      <td>...</td>\n",
              "      <td>...</td>\n",
              "      <td>...</td>\n",
              "      <td>...</td>\n",
              "      <td>...</td>\n",
              "      <td>...</td>\n",
              "      <td>...</td>\n",
              "      <td>...</td>\n",
              "      <td>...</td>\n",
              "    </tr>\n",
              "    <tr>\n",
              "      <th>23755</th>\n",
              "      <td>2020-04-16</td>\n",
              "      <td>Zimbabwe</td>\n",
              "      <td>23.0</td>\n",
              "      <td>1.0</td>\n",
              "      <td>3.0</td>\n",
              "      <td>-19.015438</td>\n",
              "      <td>29.154857</td>\n",
              "      <td>None</td>\n",
              "      <td>None</td>\n",
              "    </tr>\n",
              "    <tr>\n",
              "      <th>23756</th>\n",
              "      <td>2020-04-17</td>\n",
              "      <td>Zimbabwe</td>\n",
              "      <td>24.0</td>\n",
              "      <td>2.0</td>\n",
              "      <td>3.0</td>\n",
              "      <td>-19.015438</td>\n",
              "      <td>29.154857</td>\n",
              "      <td>None</td>\n",
              "      <td>None</td>\n",
              "    </tr>\n",
              "    <tr>\n",
              "      <th>23757</th>\n",
              "      <td>2020-04-18</td>\n",
              "      <td>Zimbabwe</td>\n",
              "      <td>25.0</td>\n",
              "      <td>2.0</td>\n",
              "      <td>3.0</td>\n",
              "      <td>-19.015438</td>\n",
              "      <td>29.154857</td>\n",
              "      <td>None</td>\n",
              "      <td>None</td>\n",
              "    </tr>\n",
              "    <tr>\n",
              "      <th>23758</th>\n",
              "      <td>2020-04-19</td>\n",
              "      <td>Zimbabwe</td>\n",
              "      <td>25.0</td>\n",
              "      <td>2.0</td>\n",
              "      <td>3.0</td>\n",
              "      <td>-19.015438</td>\n",
              "      <td>29.154857</td>\n",
              "      <td>None</td>\n",
              "      <td>None</td>\n",
              "    </tr>\n",
              "    <tr>\n",
              "      <th>23759</th>\n",
              "      <td>2020-04-20</td>\n",
              "      <td>Zimbabwe</td>\n",
              "      <td>25.0</td>\n",
              "      <td>2.0</td>\n",
              "      <td>3.0</td>\n",
              "      <td>-19.015438</td>\n",
              "      <td>29.154857</td>\n",
              "      <td>None</td>\n",
              "      <td>None</td>\n",
              "    </tr>\n",
              "  </tbody>\n",
              "</table>\n",
              "<p>23310 rows × 9 columns</p>\n",
              "</div>"
            ],
            "text/plain": [
              "            Date Country/Region  ...  Average Temperature  Average Humidity\n",
              "0     2020-01-22    Afghanistan  ...              6.21667           56.9333\n",
              "1     2020-01-23    Afghanistan  ...              6.21667           56.9333\n",
              "2     2020-01-24    Afghanistan  ...              6.21667           56.9333\n",
              "3     2020-01-25    Afghanistan  ...              6.21667           56.9333\n",
              "4     2020-01-26    Afghanistan  ...              6.21667           56.9333\n",
              "...          ...            ...  ...                  ...               ...\n",
              "23755 2020-04-16       Zimbabwe  ...                 None              None\n",
              "23756 2020-04-17       Zimbabwe  ...                 None              None\n",
              "23757 2020-04-18       Zimbabwe  ...                 None              None\n",
              "23758 2020-04-19       Zimbabwe  ...                 None              None\n",
              "23759 2020-04-20       Zimbabwe  ...                 None              None\n",
              "\n",
              "[23310 rows x 9 columns]"
            ]
          },
          "metadata": {
            "tags": []
          },
          "execution_count": 52
        }
      ]
    },
    {
      "cell_type": "code",
      "metadata": {
        "id": "FdnDwpWLMRBC",
        "colab_type": "code",
        "colab": {
          "base_uri": "https://localhost:8080/",
          "height": 431
        },
        "outputId": "abc167d0-f04e-4f4c-ddf1-3f9c0dee67e8"
      },
      "source": [
        "corrected_covid_data.set_index(['Country/Region'])"
      ],
      "execution_count": 53,
      "outputs": [
        {
          "output_type": "execute_result",
          "data": {
            "text/html": [
              "<div>\n",
              "<style scoped>\n",
              "    .dataframe tbody tr th:only-of-type {\n",
              "        vertical-align: middle;\n",
              "    }\n",
              "\n",
              "    .dataframe tbody tr th {\n",
              "        vertical-align: top;\n",
              "    }\n",
              "\n",
              "    .dataframe thead th {\n",
              "        text-align: right;\n",
              "    }\n",
              "</style>\n",
              "<table border=\"1\" class=\"dataframe\">\n",
              "  <thead>\n",
              "    <tr style=\"text-align: right;\">\n",
              "      <th></th>\n",
              "      <th>Date</th>\n",
              "      <th>Confirmed</th>\n",
              "      <th>Recovered</th>\n",
              "      <th>Deaths</th>\n",
              "      <th>Latitude</th>\n",
              "      <th>Longitude</th>\n",
              "      <th>Average Temperature</th>\n",
              "      <th>Average Humidity</th>\n",
              "    </tr>\n",
              "    <tr>\n",
              "      <th>Country/Region</th>\n",
              "      <th></th>\n",
              "      <th></th>\n",
              "      <th></th>\n",
              "      <th></th>\n",
              "      <th></th>\n",
              "      <th></th>\n",
              "      <th></th>\n",
              "      <th></th>\n",
              "    </tr>\n",
              "  </thead>\n",
              "  <tbody>\n",
              "    <tr>\n",
              "      <th>Afghanistan</th>\n",
              "      <td>2020-01-22</td>\n",
              "      <td>0.0</td>\n",
              "      <td>0.0</td>\n",
              "      <td>0.0</td>\n",
              "      <td>33.939110</td>\n",
              "      <td>67.709953</td>\n",
              "      <td>6.21667</td>\n",
              "      <td>56.9333</td>\n",
              "    </tr>\n",
              "    <tr>\n",
              "      <th>Afghanistan</th>\n",
              "      <td>2020-01-23</td>\n",
              "      <td>0.0</td>\n",
              "      <td>0.0</td>\n",
              "      <td>0.0</td>\n",
              "      <td>33.939110</td>\n",
              "      <td>67.709953</td>\n",
              "      <td>6.21667</td>\n",
              "      <td>56.9333</td>\n",
              "    </tr>\n",
              "    <tr>\n",
              "      <th>Afghanistan</th>\n",
              "      <td>2020-01-24</td>\n",
              "      <td>0.0</td>\n",
              "      <td>0.0</td>\n",
              "      <td>0.0</td>\n",
              "      <td>33.939110</td>\n",
              "      <td>67.709953</td>\n",
              "      <td>6.21667</td>\n",
              "      <td>56.9333</td>\n",
              "    </tr>\n",
              "    <tr>\n",
              "      <th>Afghanistan</th>\n",
              "      <td>2020-01-25</td>\n",
              "      <td>0.0</td>\n",
              "      <td>0.0</td>\n",
              "      <td>0.0</td>\n",
              "      <td>33.939110</td>\n",
              "      <td>67.709953</td>\n",
              "      <td>6.21667</td>\n",
              "      <td>56.9333</td>\n",
              "    </tr>\n",
              "    <tr>\n",
              "      <th>Afghanistan</th>\n",
              "      <td>2020-01-26</td>\n",
              "      <td>0.0</td>\n",
              "      <td>0.0</td>\n",
              "      <td>0.0</td>\n",
              "      <td>33.939110</td>\n",
              "      <td>67.709953</td>\n",
              "      <td>6.21667</td>\n",
              "      <td>56.9333</td>\n",
              "    </tr>\n",
              "    <tr>\n",
              "      <th>...</th>\n",
              "      <td>...</td>\n",
              "      <td>...</td>\n",
              "      <td>...</td>\n",
              "      <td>...</td>\n",
              "      <td>...</td>\n",
              "      <td>...</td>\n",
              "      <td>...</td>\n",
              "      <td>...</td>\n",
              "    </tr>\n",
              "    <tr>\n",
              "      <th>Zimbabwe</th>\n",
              "      <td>2020-04-16</td>\n",
              "      <td>23.0</td>\n",
              "      <td>1.0</td>\n",
              "      <td>3.0</td>\n",
              "      <td>-19.015438</td>\n",
              "      <td>29.154857</td>\n",
              "      <td>None</td>\n",
              "      <td>None</td>\n",
              "    </tr>\n",
              "    <tr>\n",
              "      <th>Zimbabwe</th>\n",
              "      <td>2020-04-17</td>\n",
              "      <td>24.0</td>\n",
              "      <td>2.0</td>\n",
              "      <td>3.0</td>\n",
              "      <td>-19.015438</td>\n",
              "      <td>29.154857</td>\n",
              "      <td>None</td>\n",
              "      <td>None</td>\n",
              "    </tr>\n",
              "    <tr>\n",
              "      <th>Zimbabwe</th>\n",
              "      <td>2020-04-18</td>\n",
              "      <td>25.0</td>\n",
              "      <td>2.0</td>\n",
              "      <td>3.0</td>\n",
              "      <td>-19.015438</td>\n",
              "      <td>29.154857</td>\n",
              "      <td>None</td>\n",
              "      <td>None</td>\n",
              "    </tr>\n",
              "    <tr>\n",
              "      <th>Zimbabwe</th>\n",
              "      <td>2020-04-19</td>\n",
              "      <td>25.0</td>\n",
              "      <td>2.0</td>\n",
              "      <td>3.0</td>\n",
              "      <td>-19.015438</td>\n",
              "      <td>29.154857</td>\n",
              "      <td>None</td>\n",
              "      <td>None</td>\n",
              "    </tr>\n",
              "    <tr>\n",
              "      <th>Zimbabwe</th>\n",
              "      <td>2020-04-20</td>\n",
              "      <td>25.0</td>\n",
              "      <td>2.0</td>\n",
              "      <td>3.0</td>\n",
              "      <td>-19.015438</td>\n",
              "      <td>29.154857</td>\n",
              "      <td>None</td>\n",
              "      <td>None</td>\n",
              "    </tr>\n",
              "  </tbody>\n",
              "</table>\n",
              "<p>23310 rows × 8 columns</p>\n",
              "</div>"
            ],
            "text/plain": [
              "                     Date  Confirmed  ...  Average Temperature  Average Humidity\n",
              "Country/Region                        ...                                       \n",
              "Afghanistan    2020-01-22        0.0  ...              6.21667           56.9333\n",
              "Afghanistan    2020-01-23        0.0  ...              6.21667           56.9333\n",
              "Afghanistan    2020-01-24        0.0  ...              6.21667           56.9333\n",
              "Afghanistan    2020-01-25        0.0  ...              6.21667           56.9333\n",
              "Afghanistan    2020-01-26        0.0  ...              6.21667           56.9333\n",
              "...                   ...        ...  ...                  ...               ...\n",
              "Zimbabwe       2020-04-16       23.0  ...                 None              None\n",
              "Zimbabwe       2020-04-17       24.0  ...                 None              None\n",
              "Zimbabwe       2020-04-18       25.0  ...                 None              None\n",
              "Zimbabwe       2020-04-19       25.0  ...                 None              None\n",
              "Zimbabwe       2020-04-20       25.0  ...                 None              None\n",
              "\n",
              "[23310 rows x 8 columns]"
            ]
          },
          "metadata": {
            "tags": []
          },
          "execution_count": 53
        }
      ]
    },
    {
      "cell_type": "code",
      "metadata": {
        "id": "LcqPykFyNobY",
        "colab_type": "code",
        "colab": {}
      },
      "source": [
        "corrected_covid_data.reset_index(drop = True, inplace = True)"
      ],
      "execution_count": 0,
      "outputs": []
    },
    {
      "cell_type": "code",
      "metadata": {
        "id": "7kJXm7SMOCwb",
        "colab_type": "code",
        "colab": {}
      },
      "source": [
        "corrected_covid_data.set_index('Country/Region', inplace = True)"
      ],
      "execution_count": 0,
      "outputs": []
    },
    {
      "cell_type": "code",
      "metadata": {
        "id": "-TZX5qEpMbU7",
        "colab_type": "code",
        "colab": {}
      },
      "source": [
        "df_most_affected = corrected_covid_data\n",
        "affected = most_affected(df_most_affected)"
      ],
      "execution_count": 0,
      "outputs": []
    },
    {
      "cell_type": "code",
      "metadata": {
        "id": "T7iejhrHTRxf",
        "colab_type": "code",
        "colab": {
          "base_uri": "https://localhost:8080/",
          "height": 34
        },
        "outputId": "aad99db4-947a-43d2-f55a-2a620eedb586"
      },
      "source": [
        "# Print the 8 most affected countries\n",
        "\n",
        "print(affected)"
      ],
      "execution_count": 57,
      "outputs": [
        {
          "output_type": "stream",
          "text": [
            "['United States', 'China', 'Italy', 'Spain', 'Germany', 'France', 'Iran', 'United Kingdom']\n"
          ],
          "name": "stdout"
        }
      ]
    },
    {
      "cell_type": "markdown",
      "metadata": {
        "id": "LG4kvaeiUgr8",
        "colab_type": "text"
      },
      "source": [
        "**Plot for Cases/day vs Dates**"
      ]
    },
    {
      "cell_type": "code",
      "metadata": {
        "id": "7MdL3_wnTpVN",
        "colab_type": "code",
        "colab": {
          "base_uri": "https://localhost:8080/",
          "height": 582
        },
        "outputId": "1093be9c-c7c3-41ad-d787-71518b2ec9fc"
      },
      "source": [
        "# Cases vs dates\n",
        "import matplotlib.pyplot as plt\n",
        "%matplotlib inline\n",
        "\n",
        "cases_day = df_most_affected\n",
        "plt.figure(figsize = [20,10])\n",
        "for i in range(4):\n",
        "  j = df_most_affected.loc[affected[i], ['Confirmed','Date']]\n",
        "  j.reset_index(drop = True, inplace = True)\n",
        "  j = j.groupby([\"Date\"]).sum()\n",
        "  plt.plot(j.index, j['Confirmed'], label = str(affected[i]))\n",
        "\n",
        "plt.xlabel('Dates (20th Jan - 20th Apr')\n",
        "plt.ylabel('Confirmed Cases')\n",
        "plt.title('Trend of Total Confirmed Cases in 4 most affected countries')\n",
        "plt.legend()\n",
        "plt.grid()"
      ],
      "execution_count": 58,
      "outputs": [
        {
          "output_type": "display_data",
          "data": {
            "image/png": "[encoded data removed]",
            "text/plain": [
              "<Figure size 1440x720 with 1 Axes>"
            ]
          },
          "metadata": {
            "tags": [],
            "needs_background": "light"
          }
        }
      ]
    },
    {
      "cell_type": "code",
      "metadata": {
        "id": "dIosrqMXfLBu",
        "colab_type": "code",
        "colab": {}
      },
      "source": [
        "def cases_per_day(X):\n",
        "  cases_day = []\n",
        "  cases = 0\n",
        "  for i in range(len(X.index) - 1):\n",
        "    cases = X.iloc[(i + 1), 0] - X.iloc[i, 0]\n",
        "    cases_day.append(cases)\n",
        "  cases = X.iloc[(len(X.index) - 1), 0] - X.iloc[(len(X.index) - 2), 0]\n",
        "  cases_day.append(cases)\n",
        "  \n",
        "  X['Cases per Day'] = np.array(cases_day)\n",
        "\n",
        "  return X"
      ],
      "execution_count": 0,
      "outputs": []
    },
    {
      "cell_type": "code",
      "metadata": {
        "id": "-zycxNzKwc4_",
        "colab_type": "code",
        "colab": {
          "base_uri": "https://localhost:8080/",
          "height": 586
        },
        "outputId": "a50ec766-4a0e-445e-bab1-08d2c10271a3"
      },
      "source": [
        "# Cases per Day vs Dates\n",
        "\n",
        "%matplotlib inline\n",
        "plt.figure(figsize = [20, 10])\n",
        "\n",
        "for i in range(4):\n",
        "  j = df_most_affected.loc[affected[i], ['Confirmed','Date']]\n",
        "  j.reset_index(drop = True, inplace = True)\n",
        "  j = j.groupby([\"Date\"]).sum()\n",
        "  j = cases_per_day(j)\n",
        "  plt.plot(j.index, j['Cases per Day'], label = affected[i])\n",
        "\n",
        "plt.xlabel('Dates (20th Jan - 20th Apr)')\n",
        "plt.ylabel('Confirmed Cases per Day')\n",
        "plt.title('Rate of Increase in Confirmed Cases in 4 most affected countries')\n",
        "plt.legend()\n",
        "plt.grid()"
      ],
      "execution_count": 60,
      "outputs": [
        {
          "output_type": "display_data",
          "data": {
            "image/png": "[encoded data removed]",
            "text/plain": [
              "<Figure size 1440x720 with 1 Axes>"
            ]
          },
          "metadata": {
            "tags": [],
            "needs_background": "light"
          }
        }
      ]
    },
    {
      "cell_type": "markdown",
      "metadata": {
        "id": "Dbb9ruGtFhce",
        "colab_type": "text"
      },
      "source": [
        "## **Part 1 Inference:**\n",
        "\n",
        "* **United States of America (USA), Italy, Spain** and **China** are among the worst hit countries in the pandemic.\n",
        "* China has managed to **flatten the curve** and prevent additional rise in the number of cases by the beginning of **March 2020**.\n",
        "* United States of America has the highest rate of increase in the number of cases. Italy and Spain have managed to curb the spread of the virus and are witnessing a decrease in the rate of new cases."
      ]
    },
    {
      "cell_type": "markdown",
      "metadata": {
        "id": "fTe-sGFpEuEJ",
        "colab_type": "text"
      },
      "source": [
        "# **Part 2:** \n",
        "**Analysing the pivoting table of the entertainment industry**"
      ]
    },
    {
      "cell_type": "code",
      "metadata": {
        "id": "PZIOj7MPFE4A",
        "colab_type": "code",
        "colab": {
          "base_uri": "https://localhost:8080/",
          "height": 343
        },
        "outputId": "4c0aca10-eacf-4218-e091-4912ba1b1a91"
      },
      "source": [
        "# General device usage (device_usage_increase)\n",
        "import seaborn as sns\n",
        "\n",
        "device_usage = pd.read_excel('device_usage_increase.xlsx', sheet_name='Data')\n",
        "device_usage"
      ],
      "execution_count": 66,
      "outputs": [
        {
          "output_type": "execute_result",
          "data": {
            "text/html": [
              "<div>\n",
              "<style scoped>\n",
              "    .dataframe tbody tr th:only-of-type {\n",
              "        vertical-align: middle;\n",
              "    }\n",
              "\n",
              "    .dataframe tbody tr th {\n",
              "        vertical-align: top;\n",
              "    }\n",
              "\n",
              "    .dataframe thead th {\n",
              "        text-align: right;\n",
              "    }\n",
              "</style>\n",
              "<table border=\"1\" class=\"dataframe\">\n",
              "  <thead>\n",
              "    <tr style=\"text-align: right;\">\n",
              "      <th></th>\n",
              "      <th>Device</th>\n",
              "      <th>Gen Z</th>\n",
              "      <th>Millennials</th>\n",
              "      <th>Gen X</th>\n",
              "      <th>Baby Boomers</th>\n",
              "    </tr>\n",
              "  </thead>\n",
              "  <tbody>\n",
              "    <tr>\n",
              "      <th>0</th>\n",
              "      <td>Smartphone/mobile phone</td>\n",
              "      <td>82</td>\n",
              "      <td>72</td>\n",
              "      <td>66</td>\n",
              "      <td>43</td>\n",
              "    </tr>\n",
              "    <tr>\n",
              "      <th>1</th>\n",
              "      <td>Laptop</td>\n",
              "      <td>56</td>\n",
              "      <td>42</td>\n",
              "      <td>33</td>\n",
              "      <td>27</td>\n",
              "    </tr>\n",
              "    <tr>\n",
              "      <th>2</th>\n",
              "      <td>PC/desktop</td>\n",
              "      <td>34</td>\n",
              "      <td>31</td>\n",
              "      <td>31</td>\n",
              "      <td>35</td>\n",
              "    </tr>\n",
              "    <tr>\n",
              "      <th>3</th>\n",
              "      <td>Smart TV/media streaming service</td>\n",
              "      <td>29</td>\n",
              "      <td>32</td>\n",
              "      <td>30</td>\n",
              "      <td>23</td>\n",
              "    </tr>\n",
              "    <tr>\n",
              "      <th>4</th>\n",
              "      <td>Tablet</td>\n",
              "      <td>22</td>\n",
              "      <td>27</td>\n",
              "      <td>16</td>\n",
              "      <td>16</td>\n",
              "    </tr>\n",
              "    <tr>\n",
              "      <th>5</th>\n",
              "      <td>Games console</td>\n",
              "      <td>16</td>\n",
              "      <td>18</td>\n",
              "      <td>9</td>\n",
              "      <td>1</td>\n",
              "    </tr>\n",
              "    <tr>\n",
              "      <th>6</th>\n",
              "      <td>Smart speaker</td>\n",
              "      <td>11</td>\n",
              "      <td>12</td>\n",
              "      <td>6</td>\n",
              "      <td>3</td>\n",
              "    </tr>\n",
              "    <tr>\n",
              "      <th>7</th>\n",
              "      <td>Smartwatch</td>\n",
              "      <td>9</td>\n",
              "      <td>7</td>\n",
              "      <td>4</td>\n",
              "      <td>1</td>\n",
              "    </tr>\n",
              "    <tr>\n",
              "      <th>8</th>\n",
              "      <td>Other</td>\n",
              "      <td>2</td>\n",
              "      <td>1</td>\n",
              "      <td>1</td>\n",
              "      <td>2</td>\n",
              "    </tr>\n",
              "    <tr>\n",
              "      <th>9</th>\n",
              "      <td>None of these</td>\n",
              "      <td>1</td>\n",
              "      <td>7</td>\n",
              "      <td>11</td>\n",
              "      <td>20</td>\n",
              "    </tr>\n",
              "  </tbody>\n",
              "</table>\n",
              "</div>"
            ],
            "text/plain": [
              "                             Device  Gen Z  Millennials  Gen X  Baby Boomers\n",
              "0           Smartphone/mobile phone     82           72     66            43\n",
              "1                            Laptop     56           42     33            27\n",
              "2                        PC/desktop     34           31     31            35\n",
              "3  Smart TV/media streaming service     29           32     30            23\n",
              "4                            Tablet     22           27     16            16\n",
              "5                     Games console     16           18      9             1\n",
              "6                     Smart speaker     11           12      6             3\n",
              "7                        Smartwatch      9            7      4             1\n",
              "8                             Other      2            1      1             2\n",
              "9                     None of these      1            7     11            20"
            ]
          },
          "metadata": {
            "tags": []
          },
          "execution_count": 66
        }
      ]
    },
    {
      "cell_type": "code",
      "metadata": {
        "id": "Lp9_GhSfTSyT",
        "colab_type": "code",
        "colab": {}
      },
      "source": [
        "device_usage.reset_index()\n",
        "device_usage.set_index('Device', inplace=True)"
      ],
      "execution_count": 0,
      "outputs": []
    },
    {
      "cell_type": "code",
      "metadata": {
        "id": "bB_j8_whThlZ",
        "colab_type": "code",
        "colab": {
          "base_uri": "https://localhost:8080/",
          "height": 373
        },
        "outputId": "0b501893-5df9-4268-baf8-316d6fc833cf"
      },
      "source": [
        "device_usage"
      ],
      "execution_count": 68,
      "outputs": [
        {
          "output_type": "execute_result",
          "data": {
            "text/html": [
              "<div>\n",
              "<style scoped>\n",
              "    .dataframe tbody tr th:only-of-type {\n",
              "        vertical-align: middle;\n",
              "    }\n",
              "\n",
              "    .dataframe tbody tr th {\n",
              "        vertical-align: top;\n",
              "    }\n",
              "\n",
              "    .dataframe thead th {\n",
              "        text-align: right;\n",
              "    }\n",
              "</style>\n",
              "<table border=\"1\" class=\"dataframe\">\n",
              "  <thead>\n",
              "    <tr style=\"text-align: right;\">\n",
              "      <th></th>\n",
              "      <th>Gen Z</th>\n",
              "      <th>Millennials</th>\n",
              "      <th>Gen X</th>\n",
              "      <th>Baby Boomers</th>\n",
              "    </tr>\n",
              "    <tr>\n",
              "      <th>Device</th>\n",
              "      <th></th>\n",
              "      <th></th>\n",
              "      <th></th>\n",
              "      <th></th>\n",
              "    </tr>\n",
              "  </thead>\n",
              "  <tbody>\n",
              "    <tr>\n",
              "      <th>Smartphone/mobile phone</th>\n",
              "      <td>82</td>\n",
              "      <td>72</td>\n",
              "      <td>66</td>\n",
              "      <td>43</td>\n",
              "    </tr>\n",
              "    <tr>\n",
              "      <th>Laptop</th>\n",
              "      <td>56</td>\n",
              "      <td>42</td>\n",
              "      <td>33</td>\n",
              "      <td>27</td>\n",
              "    </tr>\n",
              "    <tr>\n",
              "      <th>PC/desktop</th>\n",
              "      <td>34</td>\n",
              "      <td>31</td>\n",
              "      <td>31</td>\n",
              "      <td>35</td>\n",
              "    </tr>\n",
              "    <tr>\n",
              "      <th>Smart TV/media streaming service</th>\n",
              "      <td>29</td>\n",
              "      <td>32</td>\n",
              "      <td>30</td>\n",
              "      <td>23</td>\n",
              "    </tr>\n",
              "    <tr>\n",
              "      <th>Tablet</th>\n",
              "      <td>22</td>\n",
              "      <td>27</td>\n",
              "      <td>16</td>\n",
              "      <td>16</td>\n",
              "    </tr>\n",
              "    <tr>\n",
              "      <th>Games console</th>\n",
              "      <td>16</td>\n",
              "      <td>18</td>\n",
              "      <td>9</td>\n",
              "      <td>1</td>\n",
              "    </tr>\n",
              "    <tr>\n",
              "      <th>Smart speaker</th>\n",
              "      <td>11</td>\n",
              "      <td>12</td>\n",
              "      <td>6</td>\n",
              "      <td>3</td>\n",
              "    </tr>\n",
              "    <tr>\n",
              "      <th>Smartwatch</th>\n",
              "      <td>9</td>\n",
              "      <td>7</td>\n",
              "      <td>4</td>\n",
              "      <td>1</td>\n",
              "    </tr>\n",
              "    <tr>\n",
              "      <th>Other</th>\n",
              "      <td>2</td>\n",
              "      <td>1</td>\n",
              "      <td>1</td>\n",
              "      <td>2</td>\n",
              "    </tr>\n",
              "    <tr>\n",
              "      <th>None of these</th>\n",
              "      <td>1</td>\n",
              "      <td>7</td>\n",
              "      <td>11</td>\n",
              "      <td>20</td>\n",
              "    </tr>\n",
              "  </tbody>\n",
              "</table>\n",
              "</div>"
            ],
            "text/plain": [
              "                                  Gen Z  Millennials  Gen X  Baby Boomers\n",
              "Device                                                                   \n",
              "Smartphone/mobile phone              82           72     66            43\n",
              "Laptop                               56           42     33            27\n",
              "PC/desktop                           34           31     31            35\n",
              "Smart TV/media streaming service     29           32     30            23\n",
              "Tablet                               22           27     16            16\n",
              "Games console                        16           18      9             1\n",
              "Smart speaker                        11           12      6             3\n",
              "Smartwatch                            9            7      4             1\n",
              "Other                                 2            1      1             2\n",
              "None of these                         1            7     11            20"
            ]
          },
          "metadata": {
            "tags": []
          },
          "execution_count": 68
        }
      ]
    },
    {
      "cell_type": "code",
      "metadata": {
        "id": "GvagX5PST1Qb",
        "colab_type": "code",
        "colab": {
          "base_uri": "https://localhost:8080/",
          "height": 582
        },
        "outputId": "21d21a43-cb0e-40a1-d756-e8914c0bc8cd"
      },
      "source": [
        "plt.figure(figsize=[20,10])\n",
        "for i in device_usage.index[:4]:\n",
        "  plt.plot(device_usage.columns, device_usage.loc[i, :], label = i, marker = '.')\n",
        "plt.title('Device Usage Statistics in April 2020')\n",
        "plt.ylabel('Users (in millions)')\n",
        "plt.legend()\n",
        "plt.grid()"
      ],
      "execution_count": 81,
      "outputs": [
        {
          "output_type": "display_data",
          "data": {
            "image/png": "[encoded data removed]",
            "text/plain": [
              "<Figure size 1440x720 with 1 Axes>"
            ]
          },
          "metadata": {
            "tags": [],
            "needs_background": "light"
          }
        }
      ]
    },
    {
      "cell_type": "code",
      "metadata": {
        "id": "3JX6C2ZvGD3C",
        "colab_type": "code",
        "colab": {}
      },
      "source": [
        "# Device usage per country (device_usage_per_country)"
      ],
      "execution_count": 0,
      "outputs": []
    },
    {
      "cell_type": "code",
      "metadata": {
        "id": "qIhXu4OvNY4i",
        "colab_type": "code",
        "colab": {}
      },
      "source": [
        "# In-home media consumption (in-home_media_consumption)"
      ],
      "execution_count": 0,
      "outputs": []
    },
    {
      "cell_type": "code",
      "metadata": {
        "id": "KRRZH9AnOAJl",
        "colab_type": "code",
        "colab": {}
      },
      "source": [
        "# OTT (all OTT files)"
      ],
      "execution_count": 0,
      "outputs": []
    },
    {
      "cell_type": "code",
      "metadata": {
        "id": "JwHWFIRKO1B-",
        "colab_type": "code",
        "colab": {}
      },
      "source": [
        "# netflix_q1_regionwise"
      ],
      "execution_count": 0,
      "outputs": []
    },
    {
      "cell_type": "code",
      "metadata": {
        "id": "qk_BSirxPEMq",
        "colab_type": "code",
        "colab": {}
      },
      "source": [
        "# disney+_increase"
      ],
      "execution_count": 0,
      "outputs": []
    },
    {
      "cell_type": "code",
      "metadata": {
        "id": "TJ9fW9EpPOQA",
        "colab_type": "code",
        "colab": {}
      },
      "source": [
        "# social_network"
      ],
      "execution_count": 0,
      "outputs": []
    },
    {
      "cell_type": "code",
      "metadata": {
        "id": "3miMDkIOPT2a",
        "colab_type": "code",
        "colab": {}
      },
      "source": [
        "# csgo_increase, cod_warzone"
      ],
      "execution_count": 0,
      "outputs": []
    }
  ]
}